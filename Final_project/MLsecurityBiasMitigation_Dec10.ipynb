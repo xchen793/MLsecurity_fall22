{
  "nbformat": 4,
  "nbformat_minor": 0,
  "metadata": {
    "colab": {
      "provenance": []
    },
    "kernelspec": {
      "name": "python3",
      "display_name": "Python 3"
    },
    "language_info": {
      "name": "python"
    },
    "gpuClass": "premium"
  },
  "cells": [
    {
      "cell_type": "markdown",
      "source": [
        "##Intro"
      ],
      "metadata": {
        "id": "vhMUoFXZzoqk"
      }
    },
    {
      "cell_type": "code",
      "execution_count": 1,
      "metadata": {
        "colab": {
          "base_uri": "https://localhost:8080/"
        },
        "id": "S3dcONqZ74wj",
        "outputId": "20de883e-308c-4d3d-9687-d2dd26266fc7"
      },
      "outputs": [
        {
          "output_type": "stream",
          "name": "stdout",
          "text": [
            "Mounted at /content/drive\n"
          ]
        }
      ],
      "source": [
        "from google.colab import drive\n",
        "drive.mount('/content/drive')"
      ]
    },
    {
      "cell_type": "code",
      "source": [
        "%cd /content/drive/MyDrive/MLsec_project/BiasMitigation"
      ],
      "metadata": {
        "colab": {
          "base_uri": "https://localhost:8080/"
        },
        "id": "PT5ZIzp18mwX",
        "outputId": "03b8bc25-c9cf-4835-c5bb-edf5e42ad5b7"
      },
      "execution_count": 2,
      "outputs": [
        {
          "output_type": "stream",
          "name": "stdout",
          "text": [
            "/content/drive/MyDrive/MLsec_project/BiasMitigation\n"
          ]
        }
      ]
    },
    {
      "cell_type": "code",
      "source": [
        "!pwd"
      ],
      "metadata": {
        "colab": {
          "base_uri": "https://localhost:8080/"
        },
        "id": "l7EHqT9e8qiT",
        "outputId": "093378d9-4ddd-4f10-99e5-b6351bd4dcb0"
      },
      "execution_count": 3,
      "outputs": [
        {
          "output_type": "stream",
          "name": "stdout",
          "text": [
            "/content/drive/MyDrive/MLsec_project/BiasMitigation\n"
          ]
        }
      ]
    },
    {
      "cell_type": "code",
      "source": [
        "!git clone https://github.com/pliang279/LM_bias.git"
      ],
      "metadata": {
        "colab": {
          "base_uri": "https://localhost:8080/"
        },
        "id": "tSNF0QFN8sLx",
        "outputId": "31062016-c3ad-474e-c425-963c368167c2"
      },
      "execution_count": 4,
      "outputs": [
        {
          "output_type": "stream",
          "name": "stdout",
          "text": [
            "fatal: destination path 'LM_bias' already exists and is not an empty directory.\n"
          ]
        }
      ]
    },
    {
      "cell_type": "code",
      "source": [
        "%cd LM_bias/"
      ],
      "metadata": {
        "colab": {
          "base_uri": "https://localhost:8080/"
        },
        "id": "5lKZblzKEWRk",
        "outputId": "feccf24e-89d9-4a0d-bf9a-32735017fa5c"
      },
      "execution_count": 5,
      "outputs": [
        {
          "output_type": "stream",
          "name": "stdout",
          "text": [
            "/content/drive/MyDrive/MLsec_project/BiasMitigation/LM_bias\n"
          ]
        }
      ]
    },
    {
      "cell_type": "code",
      "source": [
        "!ls"
      ],
      "metadata": {
        "colab": {
          "base_uri": "https://localhost:8080/"
        },
        "id": "NYVQeepBEimG",
        "outputId": "55f87c99-042a-4c26-8454-dac4c081eefc"
      },
      "execution_count": 6,
      "outputs": [
        {
          "output_type": "stream",
          "name": "stdout",
          "text": [
            "data  images  LICENSE  nlg-bias  nullspace_projection  README.md  res  src\n"
          ]
        }
      ]
    },
    {
      "cell_type": "code",
      "source": [
        "%cd src"
      ],
      "metadata": {
        "colab": {
          "base_uri": "https://localhost:8080/"
        },
        "id": "cPVHCPFUEkCi",
        "outputId": "cc95b074-72c4-4e7b-df53-b412c6c1e617"
      },
      "execution_count": 7,
      "outputs": [
        {
          "output_type": "stream",
          "name": "stdout",
          "text": [
            "/content/drive/MyDrive/MLsec_project/BiasMitigation/LM_bias/src\n"
          ]
        }
      ]
    },
    {
      "cell_type": "code",
      "source": [
        "!ls"
      ],
      "metadata": {
        "colab": {
          "base_uri": "https://localhost:8080/"
        },
        "id": "lH5tTJmCEmVr",
        "outputId": "23f6eee8-3228-4442-85ad-1994a766edba"
      },
      "execution_count": 8,
      "outputs": [
        {
          "output_type": "stream",
          "name": "stdout",
          "text": [
            "data_preprocess  global_bias  local_bias\n"
          ]
        }
      ]
    },
    {
      "cell_type": "code",
      "source": [
        "%cd data_preprocess/"
      ],
      "metadata": {
        "colab": {
          "base_uri": "https://localhost:8080/"
        },
        "id": "e4JpPZnHEoWW",
        "outputId": "7af7b53e-3796-4f7b-f118-f01dbd8b56af"
      },
      "execution_count": 9,
      "outputs": [
        {
          "output_type": "stream",
          "name": "stdout",
          "text": [
            "/content/drive/MyDrive/MLsec_project/BiasMitigation/LM_bias/src/data_preprocess\n"
          ]
        }
      ]
    },
    {
      "cell_type": "code",
      "source": [
        "!ls"
      ],
      "metadata": {
        "colab": {
          "base_uri": "https://localhost:8080/"
        },
        "id": "uY66bxntEswF",
        "outputId": "7bef0914-be8d-4d1d-ef68-5e2cbb64bef0"
      },
      "execution_count": 10,
      "outputs": [
        {
          "output_type": "stream",
          "name": "stdout",
          "text": [
            "context_nullspace_projection.py  gpt2_bias_direction.npy\n",
            "data_preprocess.py\t\t gpt2_bias_subspace.npy\n",
            "embeddings..png\n"
          ]
        }
      ]
    },
    {
      "cell_type": "code",
      "source": [
        "!pwd"
      ],
      "metadata": {
        "colab": {
          "base_uri": "https://localhost:8080/"
        },
        "id": "aj6E2r0yFgjN",
        "outputId": "16341cfd-808f-4dcc-ee91-d49a56b258aa"
      },
      "execution_count": 11,
      "outputs": [
        {
          "output_type": "stream",
          "name": "stdout",
          "text": [
            "/content/drive/MyDrive/MLsec_project/BiasMitigation/LM_bias/src/data_preprocess\n"
          ]
        }
      ]
    },
    {
      "cell_type": "markdown",
      "source": [
        "###Identify Tokens corresponding to gender from gpt2 embeddings"
      ],
      "metadata": {
        "id": "Y52isoZMIZdw"
      }
    },
    {
      "cell_type": "code",
      "source": [
        "#threshold_male, threshold_female = 0.24, 0.25\n",
        "!python data_preprocess.py --embed_source gpt2 --by_pca True --num_components 5 --save_subspace False "
      ],
      "metadata": {
        "colab": {
          "base_uri": "https://localhost:8080/"
        },
        "id": "We93YIA0Fi-6",
        "outputId": "0d76684e-e02d-4938-ee6c-361c3b2d5ecc"
      },
      "execution_count": 12,
      "outputs": [
        {
          "output_type": "stream",
          "name": "stdout",
          "text": [
            "pca explained variance ratio:  [0.3658576  0.19249536 0.13060503 0.09610862 0.08203769 0.03778473\n",
            " 0.02715391 0.02396387 0.0225765  0.01831487]\n",
            "top 100 male tokens: ('Ġhis', 'Ġhe', 'ĠHe', 'Ġman', 'Ġguy', 'He', 'ĠHis', 'Ġhim', 'His', 'Ġhimself', 'Ġson', 'Ġguys', 'ĠJohn', 'ĠMr', 'his', 'Ġboy', 'man', 'Ġfather', 'ĠMike', 'Ġmen', 'guy', 'Ġthe', 'Mr', 'ĠDavid', 'ĠMan', 'Ġbrother', 'Ġdude', 'Ġbeard', 'ĠRichard', 'ĠEric', 'Ġdad', 'ĠJr', 'ĠHE', 'ĠSteve', 'Ġin', 'ĠPaul', 'ĠJoe', 'Ġa', 'ĠKevin', 'Ġbrothers', 'ĠMark', 'ĠMichael', 'ĠAdam', 'Ġplayers', 'ĠChris', 'ĠJames', 'ĠDave', 'ĠGuy', 'ĠDude', 'he', 'ĠDaniel', 'Ġ\"', 'itus', 'ĠMatt', 'ĠJason', 'ĠRyan', 'Ġof', 'Man', ',', 'ĠJonathan', 'Ġand', 'ĠR', 'Ġon', 'ĠFather', 'ĠRick', 'Ġplayer', 'ĠHIS', 'Ġ(', 'ĠSteven', 'Ġone', 'Ġis', 'Ġchairman', 'ĠCharles', 'ĠJustin', 'Ġmustache', 'Mike', 'John', 'Ġto', '.', 'ĠJ', '-', 'Ġit', 'ĠThomas', 'ĠTom', 'ĠPeter', 'son', 'Ġthat', 'Ġall', 'ĠCarlos', 'ĠBen', 'Ġthis', 'Ġhas', 'Ġjust', 'ĠAaron', 'Ġfor', 'ĠJeff', 'ĠThe', 'ĠBruce', 'Ġwith', 'Ġan')\n",
            "top 100 male projection values: (0.3001694083213806, 0.29390668869018555, 0.24968181550502777, 0.2485448718070984, 0.21444889903068542, 0.20801183581352234, 0.19875860214233398, 0.18889786303043365, 0.18289616703987122, 0.1737246811389923, 0.1571822166442871, 0.15389689803123474, 0.15015104413032532, 0.14429935812950134, 0.14336958527565002, 0.14160096645355225, 0.13232547044754028, 0.12916013598442078, 0.12615355849266052, 0.12462440133094788, 0.12426848709583282, 0.12287190556526184, 0.12247531861066818, 0.12091877311468124, 0.12087418138980865, 0.11987173557281494, 0.11893992125988007, 0.1158931702375412, 0.11469237506389618, 0.11031884700059891, 0.10853946208953857, 0.10542488098144531, 0.10537444055080414, 0.10179977118968964, 0.10046727955341339, 0.09953992813825607, 0.09943899512290955, 0.09892670810222626, 0.09886206686496735, 0.09871388971805573, 0.09869631379842758, 0.09692554175853729, 0.09543164074420929, 0.09363812953233719, 0.09343963116407394, 0.0911213606595993, 0.09100060164928436, 0.08942897617816925, 0.0878208726644516, 0.08767618238925934, 0.0876469612121582, 0.08758911490440369, 0.08674686402082443, 0.08616704493761063, 0.08607757091522217, 0.08587401360273361, 0.08544330298900604, 0.08526614308357239, 0.08482389897108078, 0.08447551727294922, 0.08404723554849625, 0.08384303748607635, 0.08378253877162933, 0.0835517942905426, 0.08327583968639374, 0.08296819031238556, 0.08193868398666382, 0.08180458843708038, 0.08168236911296844, 0.08133267611265182, 0.08115941286087036, 0.08078144490718842, 0.08077327162027359, 0.08061521500349045, 0.08029235899448395, 0.07950164377689362, 0.07933457940816879, 0.07827343791723251, 0.07809311896562576, 0.07773708552122116, 0.07762903720140457, 0.07742924988269806, 0.07675143331289291, 0.07664456218481064, 0.07592883706092834, 0.07555054128170013, 0.0752921849489212, 0.07505278289318085, 0.07503043115139008, 0.07499480247497559, 0.07450294494628906, 0.0740145891904831, 0.07387464493513107, 0.07348670065402985, 0.07343131303787231, 0.07324142754077911, 0.07309406995773315, 0.07268908619880676, 0.07243157178163528, 0.0720318853855133)\n",
            "\n",
            "top 100 female tokens: ('Ġher', 'She', 'Ġshe', 'ĠShe', 'Ġherself', 'ĠSHE', 'Her', 'Ġhers', 'ĠHER', 'ĠMs', 'Ġwoman', 'she', 'ĠHer', 'Ġactress', 'ĠWoman', 'Ġheroine', 'Women', 'ĠMary', 'ĠFeminist', 'Ms', 'Ġfemale', 'woman', 'Ġwomen', 'women', 'Woman', 'Ġactresses', 'Ġdaughter', 'Ġuter', 'Ġprincess', 'Ġfeminist', 'Ġgoddess', 'ĠWomen', 'ĠActress', 'Elizabeth', 'Ġgirl', 'female', 'Ġuterus', 'Mrs', 'Ġlady', 'Ġmothers', 'Ġgranddaughter', 'daughter', 'ĠFemale', 'Ġlesbian', 'Mary', 'ĠGirl', 'Ġniece', 'Ġgal', 'ĠAnna', 'Ġvagina', 'Girl', 'Lady', 'ĠElizabeth', 'Ġmaternal', 'Ġqueen', 'Ġvaginal', 'Amy', 'Ġestrogen', 'ĠGirls', 'Ġfeminism', 'ĠFemin', 'Ġspokeswoman', 'Ġsisters', 'mother', 'Ġdaughters', 'Ġsister', 'Ġpregnant', 'Ġgirls', 'Ġwaitress', 'Ġfemales', 'Ġlesbians', 'Ġmother', 'Ġgrandmother', 'Ġovarian', 'Ġfeminists', 'ĠMarie', 'Ġmoms', 'Ġmaid', 'femin', 'Ġnun', 'ĠKatie', 'ĠKatherine', 'Ġbikini', 'Anna', 'Queen', 'Female', 'ĠPrincess', 'girl', 'ĠEleanor', 'ĠMrs', 'Ġslut', 'Ġpregnancy', 'ĠMolly', 'Ġmaternity', 'ĠEmily', 'Jennifer', 'regnancy', 'Emily', 'Ġconvent', 'ĠAnne')\n",
            "top 100 female projection values: (0.43467777967453003, 0.42035916447639465, 0.41439077258110046, 0.3848818242549896, 0.3692813217639923, 0.3595491349697113, 0.3594855070114136, 0.3588014543056488, 0.3578920364379883, 0.33557769656181335, 0.333587110042572, 0.3272199034690857, 0.313284307718277, 0.308930903673172, 0.3073289394378662, 0.3071816563606262, 0.3031326234340668, 0.3006853461265564, 0.2973819971084595, 0.29660820960998535, 0.29606372117996216, 0.2957688271999359, 0.29576376080513, 0.29462677240371704, 0.29390203952789307, 0.29368916153907776, 0.2926937937736511, 0.2924956679344177, 0.29164135456085205, 0.2908311188220978, 0.2898237109184265, 0.28922948241233826, 0.28919097781181335, 0.2888805568218231, 0.28708916902542114, 0.28573817014694214, 0.2848775386810303, 0.2847101092338562, 0.2753641605377197, 0.27467650175094604, 0.27444013953208923, 0.2742418646812439, 0.27387720346450806, 0.2726912498474121, 0.27244237065315247, 0.2719928026199341, 0.27181920409202576, 0.2714921832084656, 0.27072611451148987, 0.2701404392719269, 0.2695998251438141, 0.26929575204849243, 0.2681012749671936, 0.2677925229072571, 0.26764947175979614, 0.26611045002937317, 0.26572155952453613, 0.2654537558555603, 0.26380646228790283, 0.2630894184112549, 0.2622695565223694, 0.2619960308074951, 0.261826753616333, 0.260784387588501, 0.2604700028896332, 0.26039189100265503, 0.2601393759250641, 0.25982385873794556, 0.2588353455066681, 0.2588234841823578, 0.25801146030426025, 0.25787466764450073, 0.25786858797073364, 0.25750672817230225, 0.25737065076828003, 0.2571254372596741, 0.25616928935050964, 0.2560129165649414, 0.2546815574169159, 0.25399312376976013, 0.2539047598838806, 0.2530438303947449, 0.2528454661369324, 0.2525619864463806, 0.25249963998794556, 0.252429336309433, 0.25136125087738037, 0.25122010707855225, 0.2511036992073059, 0.25100037455558777, 0.25090157985687256, 0.25070804357528687, 0.2501261830329895, 0.25004902482032776, 0.24885904788970947, 0.24864353239536285, 0.24785837531089783, 0.24709564447402954, 0.24704596400260925, 0.24622003734111786)\n",
            "\n",
            "male biased tokens in gpt2 (35,) female biased tokens in gpt2 (472,)\n",
            "{'his', 'Ġmale', 'ĠJohn', 'ĠMan', 'ĠEric', 'Ġmen', 'He', 'Ġhis', 'Ġhim', 'Ġson', 'ĠMr', 'ĠHE', 'ĠHis', 'ĠRichard', 'ĠHe', 'Mr', 'Ġman', 'ĠMike', 'Ġdude', 'Ġfather', 'Ġin', 'Ġdad', 'His', 'man', 'Ġboy', 'Ġbrother', 'Ġguy', 'guy', 'Ġguys', 'Ġbeard', 'ĠSteve', 'Ġthe', 'ĠDavid', 'ĠJr', 'Ġhe', 'Ġhimself'}\n",
            "{'ricia', 'ĠJill', 'ĠHolly', 'Ġmaid', 'Clinton', 'ĠWOM', 'femin', 'Ġchick', 'ĠDaisy', 'Ġgown', 'ĠCatherine', 'Ġlesbians', 'ĠNaomi', 'ĠClaire', 'ĠSusan', 'ĠJennifer', 'ĠStephanie', 'ĠMarina', 'Ġaunt', 'ĠTheresa', 'ĠPaige', 'ĠRita', 'ĠCheryl', 'female', 'ĠCarrie', 'Ġdresses', 'ĠPalin', 'ĠElsa', 'ĠSamantha', 'Ġsister', 'atherine', 'Ġspokeswoman', 'ĠSister', 'hillary', 'ĠChristina', 'vette', 'ĠCassandra', 'ĠDaughter', 'ĠKaren', 'ĠCaroline', 'women', 'Eva', 'andra', 'ĠGoddess', 'ĠMonica', 'ĠLaura', 'ĠNina', 'ĠLilith', 'Ġwomen', 'ĠWomen', 'ĠEmpress', 'ileen', 'ĠMother', 'Ġactress', 'Ġheroine', 'ĠElaine', 'urga', 'Ġfemale', 'ĠWidow', 'ĠChloe', 'Ġbras', 'ĠGaga', 'Ġshe', 'Ġmamm', 'anova', 'ĠKathryn', 'ĠAnne', 'ĠAlison', 'ĠDorothy', 'Ġpregnancy', 'She', 'ĠBella', 'ĠGinny', 'ĠDeborah', 'ĠCindy', 'ĠFiorina', 'ĠDonna', 'Ġfeminists', 'Ġgender', 'Michelle', 'ĠMichelle', 'she', 'rina', 'her', 'ĠViolet', 'ĠJulie', 'ĠKaty', 'ĠKara', 'ĠEllie', 'ĠAunt', 'ĠLucia', 'Ġprenatal', 'Ġpolic', 'Ġskirt', 'ĠKatherine', 'Ġbreastfeeding', 'Ġbitch', 'yna', 'Jane', 'ĠIvanka', 'ĠSheila', 'ĠWitches', 'annah', 'ĠAnita', 'Ġgoddess', 'ĠMartha', 'Ġchicks', 'ĠDeVos', 'ova', 'Ġsalon', 'becca', 'ĠCynthia', 'Susan', 'ĠLily', 'Ruby', 'ĠGirl', 'Ġqueens', 'ĠAmber', 'ĠAsuka', 'avia', 'Anna', 'Ġlipstick', 'ĠKathy', 'ĠDevi', 'Jennifer', 'Ġniece', 'Ġgrandmother', 'abortion', 'Ġgirlfriends', 'Ġdaughters', 'ĠSandra', 'ĠDiane', 'ĠBetty', 'ĠBecky', 'ĠClara', 'ĠRosa', 'Ġovarian', 'ĠAudrey', 'ĠChristine', 'ĠBetsy', 'Ġlesbian', 'Woman', 'ĠHermione', 'ĠVeronica', 'ĠEsther', 'Ġnurses', 'ĠJoan', 'Lady', 'daughter', 'Ġgirlfriend', 'ĠGirls', 'ĠCanary', 'Ġcontraceptive', 'ĠSylvia', 'ĠMrs', 'Ġcosmetics', 'Female', 'ĠSophie', 'Ms', 'Ġsexism', 'Ġmarry', 'Ġgirl', 'ĠIsabel', 'ĠFemales', 'ĠNatasha', 'ĠJane', 'Buyable', 'ĠSisters', 'ĠAda', 'Ġconvent', 'ĠAlexa', 'Jessica', 'ĠEmma', 'Ġreproductive', 'ĠSHE', 'ĠTara', 'Ġcontraceptives', 'ĠJenn', 'Ġboobs', 'Ġherself', 'ĠElizabeth', 'ĠLeia', 'å¥³', 'Ġactresses', 'ĠLisa', 'Ġwomb', 'irgin', 'ĠJanet', 'Prin', 'Ġslut', 'ĠLilly', 'girlfriend', 'Hillary', 'ĠNancy', 'Ġcerv', 'ĠAmy', 'ĠHannah', 'Girls', 'Ġbikini', 'ĠMaria', 'Ġfetus', 'ibrarian', 'kaya', 'ĠAmelia', 'ĠCarolyn', 'Ġestrogen', 'Ġfeminist', 'Ġbabe', 'ĠMargaret', 'Ġpatriarchy', 'ĠLydia', 'ĠLena', 'Ġbeaut', 'imester', 'ĠKitty', 'Ġnun', 'ĠCarol', 'Ġwitch', 'Ġsisters', 'Ġgrandma', 'ĠDebbie', 'ureen', 'ĠMiss', 'Ġmother', 'Herm', 'ĠPamela', 'Ġmaternal', 'ĠGina', 'Ġprostitute', 'ĠCait', 'ĠOprah', 'Ġpatriarchal', 'ĠMaiden', 'ĠAbedin', 'ĠEmily', 'Ġblonde', 'girl', 'ĠAbby', 'ĠHelena', 'ĠErica', 'Laura', 'Ġher', 'woman', 'ĠLori', 'Ġmenstru', 'Ġpanties', 'Ġpurse', 'ĠAmanda', 'ĠPatty', 'ĠLadies', 'Ġerotic', 'Ġwoman', 'ĠPatricia', 'Ġbreasts', 'ĠMegan', 'ĠMama', 'Ġfeminine', 'Ġladies', 'ĠDiana', 'Rachel', 'Miss', 'ĠHarriet', 'wives', 'ĠJudy', 'Ġdaughter', 'Ġfeminism', 'ĠKate', 'Marie', 'ĠLady', 'ĠLouise', 'Ġtits', 'ĠOlivia', 'Elizabeth', 'ĠLesbian', 'maid', 'ĠJeanne', 'Ã©e', 'ĠFemin', 'ĠJenny', 'ĠLiz', 'ĠHeather', 'Ġfemin', 'Ġmurd', 'ĠActress', 'ĠKorra', 'Ġunmarried', 'leanor', 'Ġfloral', 'ĠKathleen', 'ĠMistress', 'wife', 'Lisa', 'Ġbrun', 'Alice', 'Mrs', 'ĠLaurel', 'Ġnuns', 'Ġmiscarriage', 'ĠNursing', 'Queen', 'Ġprincess', 'ĠEva', 'Ġmaternity', 'ĠMothers', 'ĠLois', 'ĠMerkel', 'ĠJessica', 'Ġmistress', 'ĠTammy', 'ĠFem', 'ĠMae', 'ĠMarilyn', 'Ġgranddaughter', 'ĠMs', 'ĠAlicia', 'ĠBuffy', 'Ġmaiden', 'Ġfemales', 'arah', 'Ġmoms', 'Ġbreast', 'ikini', 'ĠAbortion', 'mom', 'ĠLana', 'ĠFemale', 'ĠGloria', 'Gender', 'Ġwhore', 'mary', 'Kate', 'ĠClaudia', 'ĠKatie', 'ĠJenna', 'ĠMaggie', 'Ġwaitress', 'ĠRachel', 'Ġuter', 'ĠKimberly', 'ĠMarie', 'ĠZoe', 'Ġmenstrual', 'ĠAnnie', 'ĠHuma', 'Ġqueen', 'Ġhers', 'ĠMarian', 'ĠIris', 'Ġmiscar', 'Ġgal', 'Elsa', 'ĠSuzanne', 'ĠTiffany', 'ĠMelania', 'Ġpregnant', 'Ġsewing', 'ĠRebecca', 'ĠShe', 'Women', 'atalie', 'Kat', 'Mother', 'Mary', 'ĠSorceress', 'Ġprostitution', 'ĠMary', 'Maria', 'ĠFiona', 'ĠMadonna', 'ĠHer', 'ĠSara', 'Ġchildcare', 'Ġvirginity', 'ĠNicole', 'ĠAnna', 'Victoria', 'ĠFeminist', 'Ġmom', 'ĠJudith', 'Ġwitches', 'ĠMolly', 'ĠLucy', 'ĠMelissa', 'Ġglamorous', 'Emily', 'Ġwom', 'ĠBeyon', 'regnancy', 'ĠEleanor', 'ĠEllen', 'Her', 'ĠJulia', 'Ġbride', 'ĠElena', 'ĠAlexandra', 'ĠAngela', 'ĠPolly', 'lyss', 'Ġpageant', 'ĠBarbie', 'ĠDanielle', 'Ġclitor', 'ĠSarah', 'ĠAthena', 'ĠLauren', 'helle', 'ĠShirley', 'ĠMadame', 'Ġfem', 'ĠTina', 'Girl', 'ĠWoman', 'girls', 'Amy', 'mother', 'ĠBreast', 'ĠPeggy', 'Ġvagina', 'Ġwidow', 'ĠRowling', 'HER', 'ĠJuliet', 'izabeth', 'ĠStella', 'ĠPyrrha', 'ĠPrincess', 'ĠNurse', 'Ġvaginal', 'ĠTeresa', 'ĠDianne', 'Ġchildbirth', 'ĠBeth', 'ĠTransgender', 'ĠQueen', 'ĠKirst', 'ĠHelen', 'ĠSophia', 'ĠErin', 'ĠAlice', 'Ġpregnancies', 'ĠGender', 'ĠDuchess', 'Anne', 'ĠBarbara', 'ĠRegina', 'Marg', 'ĠPam', 'ĠScarlett', 'ĠNora', 'ĠHera', 'Ġskirts', 'ĠSally', 'Ġuterus', 'ĠLinda', 'ĠBonnie', 'ĠMelanie', 'ĠVanessa', 'Ġgirls', 'ĠRena', 'ĠWendy', 'Sarah', 'eva', 'ĠNatalie', 'ĠHER', 'ĠKristen', 'Ġnurse', 'ĠBrittany', 'ĠBrenda', 'lene', 'Ġmothers', 'Ġhijab', 'Ġlady'}\n",
            "86546\n",
            "4561\n",
            "9000\n",
            "{'his', 'beard', 'John', 'dad', 'he', 'men', 'HE', 'He', 'Mike', 'David', 'him', 'Eric', 'the', 'himself', 'Mr', 'Steve', 'Richard', 'in', 'male', 'dude', 'Jr', 'brother', 'Man', 'son', 'His', 'man', 'guys', 'guy', 'father', 'boy'}\n",
            "{'Isabel', 'Clinton', 'Ivanka', 'marry', 'contraceptives', 'Nora', 'Goddess', 'Asuka', 'Liz', 'actress', 'Juliet', 'female', 'gender', 'blonde', 'Kathleen', 'Katherine', 'grandmother', 'contraceptive', 'women', 'Eva', 'Anita', 'vaginal', 'Sara', 'witches', 'feminism', 'Lana', 'breasts', 'Megan', 'Sophie', 'Polly', 'DeVos', 'Teresa', 'beaut', 'Ellen', 'Annie', 'She', 'herself', 'Jenna', 'Debbie', 'mistress', 'actresses', 'Actress', 'maiden', 'Heather', 'Kara', 'skirts', 'Michelle', 'Tammy', 'Nurse', 'she', 'Jeanne', 'her', 'prostitute', 'lady', 'Martha', 'Ginny', 'Molly', 'Sheila', 'floral', 'reproductive', 'Catherine', 'Jane', 'Bonnie', 'dresses', 'Lori', 'cosmetics', 'Natasha', 'Susan', 'mothers', 'Ruby', 'Kimberly', 'Louise', 'Helena', 'Ladies', 'Anna', 'Jennifer', 'sewing', 'prostitution', 'Monica', 'abortion', 'chick', 'Marian', 'Claudia', 'Lydia', 'Nina', 'babe', 'Woman', 'Brenda', 'Empress', 'pregnant', 'erotic', 'Lady', 'daughter', 'Lena', 'Lois', 'pregnancy', 'unmarried', 'Stephanie', 'Gaga', 'Fiona', 'Marilyn', 'Lucy', 'Female', 'Ms', 'Samantha', 'Hannah', 'Zoe', 'Nursing', 'Theresa', 'Sandra', 'Cynthia', 'Jessica', 'Alexandra', 'sexism', 'feminine', 'childcare', 'Barbie', 'Rosa', 'Dianne', 'Stella', 'maternity', 'Ellie', 'Canary', 'ladies', 'girlfriend', 'Abby', 'Alexa', 'Hillary', 'uterus', 'Nicole', 'Wendy', 'Sally', 'lesbian', 'sister', 'Girls', 'kaya', 'Caroline', 'Cheryl', 'Mothers', 'nurse', 'Margaret', 'Nancy', 'Emma', 'Devi', 'Patty', 'princess', 'bride', 'Christine', 'Madame', 'moms', 'feminist', 'girl', 'pregnancies', 'Erin', 'Laura', 'Daisy', 'woman', 'Carol', 'Pamela', 'queen', 'Leia', 'Diana', 'sisters', 'Amber', 'gal', 'Marina', 'prenatal', 'Kathryn', 'Katie', 'Widow', 'Barbara', 'Rachel', 'Jill', 'Miss', 'wives', 'Lilly', 'Elena', 'Marie', 'Natalie', 'Elizabeth', 'maid', 'Rowling', 'Clara', 'Julie', 'Danielle', 'Holly', 'Scarlett', 'Elaine', 'lipstick', 'Duchess', 'Sylvia', 'wife', 'Lisa', 'Alice', 'estrogen', 'Vanessa', 'Mrs', 'bikini', 'Janet', 'Merkel', 'hers', 'Diane', 'Queen', 'Madonna', 'Rebecca', 'Daughter', 'Buffy', 'SHE', 'Maiden', 'childbirth', 'Alicia', 'Brittany', 'Kristen', 'Kitty', 'widow', 'Peggy', 'Tara', 'breastfeeding', 'bitch', 'mom', 'spokeswoman', 'Shirley', 'Sister', 'Becky', 'Gender', 'Gina', 'mary', 'Kate', 'Cindy', 'Olivia', 'Bella', 'Transgender', 'chicks', 'Angela', 'convent', 'Judith', 'Palin', 'females', 'Veronica', 'Jenny', 'Eleanor', 'Elsa', 'Karen', 'Lauren', 'Helen', 'salon', 'Rita', 'Women', 'Lily', 'Mother', 'Sisters', 'gown', 'Mary', 'maternal', 'Donna', 'witch', 'Iris', 'Harriet', 'Maria', 'purse', 'Mama', 'Victoria', 'Laurel', 'Esther', 'Alison', 'grandma', 'Beth', 'nurses', 'Emily', 'Suzanne', 'Gloria', 'Julia', 'Her', 'Carrie', 'Paige', 'Athena', 'Christina', 'Sophia', 'virginity', 'Tina', 'daughters', 'Katy', 'Rena', 'Amanda', 'glamorous', 'Kathy', 'skirt', 'Betsy', 'Lucia', 'Girl', 'vagina', 'girls', 'Pam', 'Amy', 'mother', 'Oprah', 'Amelia', 'Lesbian', 'Aunt', 'breast', 'HER', 'Linda', 'Audrey', 'Betty', 'heroine', 'Erica', 'aunt', 'goddess', 'Judy', 'bras', 'queens', 'Claire', 'waitress', 'Carolyn', 'Tiffany', 'Deborah', 'whore', 'Joan', 'Cassandra', 'Chloe', 'Anne', 'Melanie', 'slut', 'boobs', 'girlfriends', 'fetus', 'niece', 'Marg', 'Princess', 'Dorothy', 'Maggie', 'Patricia', 'granddaughter', 'patriarchal', 'Sarah', 'Melissa', 'Feminist', 'Melania', 'Witches', 'Females'}\n"
          ]
        }
      ]
    },
    {
      "cell_type": "code",
      "source": [
        "#threshold_male, threshold_female = 0.14, 0.15\n",
        "!python data_preprocess.py --embed_source gpt2 --by_pca True --num_components 5 --save_subspace False "
      ],
      "metadata": {
        "colab": {
          "base_uri": "https://localhost:8080/"
        },
        "id": "K5He5hZPGR02",
        "outputId": "31972cd9-efcf-4330-93f8-14f1f8139fec"
      },
      "execution_count": 13,
      "outputs": [
        {
          "output_type": "stream",
          "name": "stdout",
          "text": [
            "pca explained variance ratio:  [0.3658576  0.19249536 0.13060503 0.09610862 0.08203769 0.03778473\n",
            " 0.02715391 0.02396387 0.0225765  0.01831487]\n",
            "top 100 male tokens: ('Ġhis', 'Ġhe', 'ĠHe', 'Ġman', 'Ġguy', 'He', 'ĠHis', 'Ġhim', 'His', 'Ġhimself', 'Ġson', 'Ġguys', 'ĠJohn', 'ĠMr', 'his', 'Ġboy', 'man', 'Ġfather', 'ĠMike', 'Ġmen', 'guy', 'Ġthe', 'Mr', 'ĠDavid', 'ĠMan', 'Ġbrother', 'Ġdude', 'Ġbeard', 'ĠRichard', 'ĠEric', 'Ġdad', 'ĠJr', 'ĠHE', 'ĠSteve', 'Ġin', 'ĠPaul', 'ĠJoe', 'Ġa', 'ĠKevin', 'Ġbrothers', 'ĠMark', 'ĠMichael', 'ĠAdam', 'Ġplayers', 'ĠChris', 'ĠJames', 'ĠDave', 'ĠGuy', 'ĠDude', 'he', 'ĠDaniel', 'Ġ\"', 'itus', 'ĠMatt', 'ĠJason', 'ĠRyan', 'Ġof', 'Man', ',', 'ĠJonathan', 'Ġand', 'ĠR', 'Ġon', 'ĠFather', 'ĠRick', 'Ġplayer', 'ĠHIS', 'Ġ(', 'ĠSteven', 'Ġone', 'Ġis', 'Ġchairman', 'ĠCharles', 'ĠJustin', 'Ġmustache', 'Mike', 'John', 'Ġto', '.', 'ĠJ', '-', 'Ġit', 'ĠThomas', 'ĠTom', 'ĠPeter', 'son', 'Ġthat', 'Ġall', 'ĠCarlos', 'ĠBen', 'Ġthis', 'Ġhas', 'Ġjust', 'ĠAaron', 'Ġfor', 'ĠJeff', 'ĠThe', 'ĠBruce', 'Ġwith', 'Ġan')\n",
            "top 100 male projection values: (0.3001694083213806, 0.29390668869018555, 0.24968181550502777, 0.2485448718070984, 0.21444889903068542, 0.20801183581352234, 0.19875860214233398, 0.18889786303043365, 0.18289616703987122, 0.1737246811389923, 0.1571822166442871, 0.15389689803123474, 0.15015104413032532, 0.14429935812950134, 0.14336958527565002, 0.14160096645355225, 0.13232547044754028, 0.12916013598442078, 0.12615355849266052, 0.12462440133094788, 0.12426848709583282, 0.12287190556526184, 0.12247531861066818, 0.12091877311468124, 0.12087418138980865, 0.11987173557281494, 0.11893992125988007, 0.1158931702375412, 0.11469237506389618, 0.11031884700059891, 0.10853946208953857, 0.10542488098144531, 0.10537444055080414, 0.10179977118968964, 0.10046727955341339, 0.09953992813825607, 0.09943899512290955, 0.09892670810222626, 0.09886206686496735, 0.09871388971805573, 0.09869631379842758, 0.09692554175853729, 0.09543164074420929, 0.09363812953233719, 0.09343963116407394, 0.0911213606595993, 0.09100060164928436, 0.08942897617816925, 0.0878208726644516, 0.08767618238925934, 0.0876469612121582, 0.08758911490440369, 0.08674686402082443, 0.08616704493761063, 0.08607757091522217, 0.08587401360273361, 0.08544330298900604, 0.08526614308357239, 0.08482389897108078, 0.08447551727294922, 0.08404723554849625, 0.08384303748607635, 0.08378253877162933, 0.0835517942905426, 0.08327583968639374, 0.08296819031238556, 0.08193868398666382, 0.08180458843708038, 0.08168236911296844, 0.08133267611265182, 0.08115941286087036, 0.08078144490718842, 0.08077327162027359, 0.08061521500349045, 0.08029235899448395, 0.07950164377689362, 0.07933457940816879, 0.07827343791723251, 0.07809311896562576, 0.07773708552122116, 0.07762903720140457, 0.07742924988269806, 0.07675143331289291, 0.07664456218481064, 0.07592883706092834, 0.07555054128170013, 0.0752921849489212, 0.07505278289318085, 0.07503043115139008, 0.07499480247497559, 0.07450294494628906, 0.0740145891904831, 0.07387464493513107, 0.07348670065402985, 0.07343131303787231, 0.07324142754077911, 0.07309406995773315, 0.07268908619880676, 0.07243157178163528, 0.0720318853855133)\n",
            "\n",
            "top 100 female tokens: ('Ġher', 'She', 'Ġshe', 'ĠShe', 'Ġherself', 'ĠSHE', 'Her', 'Ġhers', 'ĠHER', 'ĠMs', 'Ġwoman', 'she', 'ĠHer', 'Ġactress', 'ĠWoman', 'Ġheroine', 'Women', 'ĠMary', 'ĠFeminist', 'Ms', 'Ġfemale', 'woman', 'Ġwomen', 'women', 'Woman', 'Ġactresses', 'Ġdaughter', 'Ġuter', 'Ġprincess', 'Ġfeminist', 'Ġgoddess', 'ĠWomen', 'ĠActress', 'Elizabeth', 'Ġgirl', 'female', 'Ġuterus', 'Mrs', 'Ġlady', 'Ġmothers', 'Ġgranddaughter', 'daughter', 'ĠFemale', 'Ġlesbian', 'Mary', 'ĠGirl', 'Ġniece', 'Ġgal', 'ĠAnna', 'Ġvagina', 'Girl', 'Lady', 'ĠElizabeth', 'Ġmaternal', 'Ġqueen', 'Ġvaginal', 'Amy', 'Ġestrogen', 'ĠGirls', 'Ġfeminism', 'ĠFemin', 'Ġspokeswoman', 'Ġsisters', 'mother', 'Ġdaughters', 'Ġsister', 'Ġpregnant', 'Ġgirls', 'Ġwaitress', 'Ġfemales', 'Ġlesbians', 'Ġmother', 'Ġgrandmother', 'Ġovarian', 'Ġfeminists', 'ĠMarie', 'Ġmoms', 'Ġmaid', 'femin', 'Ġnun', 'ĠKatie', 'ĠKatherine', 'Ġbikini', 'Anna', 'Queen', 'Female', 'ĠPrincess', 'girl', 'ĠEleanor', 'ĠMrs', 'Ġslut', 'Ġpregnancy', 'ĠMolly', 'Ġmaternity', 'ĠEmily', 'Jennifer', 'regnancy', 'Emily', 'Ġconvent', 'ĠAnne')\n",
            "top 100 female projection values: (0.43467777967453003, 0.42035916447639465, 0.41439077258110046, 0.3848818242549896, 0.3692813217639923, 0.3595491349697113, 0.3594855070114136, 0.3588014543056488, 0.3578920364379883, 0.33557769656181335, 0.333587110042572, 0.3272199034690857, 0.313284307718277, 0.308930903673172, 0.3073289394378662, 0.3071816563606262, 0.3031326234340668, 0.3006853461265564, 0.2973819971084595, 0.29660820960998535, 0.29606372117996216, 0.2957688271999359, 0.29576376080513, 0.29462677240371704, 0.29390203952789307, 0.29368916153907776, 0.2926937937736511, 0.2924956679344177, 0.29164135456085205, 0.2908311188220978, 0.2898237109184265, 0.28922948241233826, 0.28919097781181335, 0.2888805568218231, 0.28708916902542114, 0.28573817014694214, 0.2848775386810303, 0.2847101092338562, 0.2753641605377197, 0.27467650175094604, 0.27444013953208923, 0.2742418646812439, 0.27387720346450806, 0.2726912498474121, 0.27244237065315247, 0.2719928026199341, 0.27181920409202576, 0.2714921832084656, 0.27072611451148987, 0.2701404392719269, 0.2695998251438141, 0.26929575204849243, 0.2681012749671936, 0.2677925229072571, 0.26764947175979614, 0.26611045002937317, 0.26572155952453613, 0.2654537558555603, 0.26380646228790283, 0.2630894184112549, 0.2622695565223694, 0.2619960308074951, 0.261826753616333, 0.260784387588501, 0.2604700028896332, 0.26039189100265503, 0.2601393759250641, 0.25982385873794556, 0.2588353455066681, 0.2588234841823578, 0.25801146030426025, 0.25787466764450073, 0.25786858797073364, 0.25750672817230225, 0.25737065076828003, 0.2571254372596741, 0.25616928935050964, 0.2560129165649414, 0.2546815574169159, 0.25399312376976013, 0.2539047598838806, 0.2530438303947449, 0.2528454661369324, 0.2525619864463806, 0.25249963998794556, 0.252429336309433, 0.25136125087738037, 0.25122010707855225, 0.2511036992073059, 0.25100037455558777, 0.25090157985687256, 0.25070804357528687, 0.2501261830329895, 0.25004902482032776, 0.24885904788970947, 0.24864353239536285, 0.24785837531089783, 0.24709564447402954, 0.24704596400260925, 0.24622003734111786)\n",
            "\n",
            "male biased tokens in gpt2 (35,) female biased tokens in gpt2 (472,)\n",
            "{'guy', 'Ġguys', 'ĠHE', 'Ġmale', 'He', 'Ġhe', 'ĠDavid', 'ĠMike', 'ĠSteve', 'ĠJohn', 'ĠHe', 'ĠJr', 'Ġhis', 'ĠMan', 'Ġdad', 'ĠMr', 'Ġman', 'Ġhim', 'Ġdude', 'Ġguy', 'Ġbrother', 'Ġmen', 'Ġbeard', 'ĠRichard', 'Mr', 'Ġson', 'man', 'ĠEric', 'Ġhimself', 'Ġboy', 'Ġfather', 'His', 'ĠHis', 'his', 'Ġin', 'Ġthe'}\n",
            "{'ĠBecky', 'ĠKimberly', 'ĠRachel', 'ĠNaomi', 'ĠJeanne', 'ĠPamela', 'ĠLinda', 'female', 'ĠSophia', 'ĠChristine', 'ĠFiona', 'annah', 'Ġgal', 'Ġfemale', 'Ġnurse', 'ĠMarina', 'atherine', 'Ġlady', 'Ġspokeswoman', 'ĠSamantha', 'helle', 'ĠDaisy', 'ileen', 'ĠWitches', 'ĠAlison', 'ĠLily', 'Buyable', 'Girls', 'ĠAbortion', 'Ġfeminists', 'Ġpatriarchal', 'girlfriend', 'Jane', 'eva', 'abortion', 'ĠJill', 'ĠErica', 'ĠEleanor', 'ĠLisa', 'Lisa', 'Ġvagina', 'ĠNicole', 'ibrarian', 'ĠFeminist', 'Ġcerv', 'ĠScarlett', 'Ġglamorous', 'ĠRebecca', 'ĠLouise', 'Ġwoman', 'ĠWomen', 'mother', 'ĠKatherine', 'ĠKorra', 'ĠBeyon', 'ĠFemale', 'Ġgrandma', 'ĠMegan', 'Ġchick', 'ĠMaiden', 'ĠStephanie', 'Ġnurses', 'Clinton', 'lyss', 'yna', 'Ġprostitute', 'ĠRosa', 'ĠLena', 'ĠLois', 'Eva', 'ĠHermione', 'Ġbras', 'urga', 'Ġtits', 'ĠDevi', 'Hillary', 'ĠJenn', 'woman', 'Ġmom', 'ĠBreast', 'atalie', 'ĠSandra', 'Ġuterus', 'ĠBetty', 'rina', 'ĠCanary', 'ĠJenna', 'ĠJulie', 'ĠAbedin', 'Ġbrun', 'Ġlesbians', 'Ġmistress', 'ĠKate', 'ĠCheryl', 'Ġmiscar', 'ĠLauren', 'Ġdaughters', 'ĠRegina', 'ĠDiana', 'ĠViolet', 'Ġslut', 'ĠAnna', 'ĠCassandra', 'ĠCaroline', 'ĠJudy', 'Ġboobs', 'ĠSylvia', 'ĠSara', 'Ġpregnancy', 'ĠLadies', 'Ruby', 'Woman', 'ĠJane', 'ĠRena', 'Ġqueen', 'ĠTammy', 'ĠLucia', 'Ġbabe', 'ĠHelena', 'Ġwomb', 'Amy', 'ĠEva', 'Ġbikini', 'ĠJessica', 'ĠJulia', 'Ġvirginity', 'ĠDaughter', 'Ġactress', 'ĠGloria', 'Miss', 'ĠDorothy', 'Ġladies', 'ĠHer', 'Queen', 'Ġsexism', 'Ġreproductive', 'ĠDeborah', 'femin', 'ĠBarbara', 'ĠBrenda', 'ĠJoan', 'Sarah', 'ĠElaine', 'Ġmaiden', 'Female', 'ĠEllen', 'ĠQueen', 'ĠAlexa', 'ĠGirls', 'leanor', 'ĠCait', 'Ġactresses', 'maid', 'ĠElena', 'Ġsewing', 'ĠChristina', 'ĠPyrrha', 'Ġprincess', 'ĠBeth', 'Ġchildbirth', 'Susan', 'Laura', 'ĠShe', 'ĠLana', 'ĠTransgender', 'Ġshe', 'ĠErin', 'Victoria', 'ĠFemales', 'Ġfloral', 'ĠLaurel', 'ĠMadame', 'Ġmenstrual', 'ĠCarolyn', 'ĠClaire', 'Ġmenstru', 'Ġwitch', 'ĠSheila', 'ĠClaudia', 'ĠWidow', 'Ġwhore', 'Jennifer', 'Ġskirt', 'ĠDeVos', 'ĠWendy', 'ĠAthena', 'anova', 'Ġgirlfriend', 'ĠPatty', 'Ġhers', 'ĠJenny', 'Lady', 'her', 'Ġcontraceptives', 'ĠHER', 'She', 'Rachel', 'ĠBarbie', 'Kate', 'Ġbreast', 'ĠPolly', 'ĠJuliet', 'ĠStella', 'ĠEmily', 'ĠEmma', 'Ġmaternal', 'she', 'ĠMolly', 'ĠLori', 'Ġfemales', 'ĠTara', 'Kat', 'ĠDanielle', 'ĠCarol', 'ĠSister', 'Ġnun', 'ĠWoman', 'Ġmiscarriage', 'Anna', 'ĠMarilyn', 'ĠActress', 'ova', 'ĠKaren', 'ĠMaria', 'Ġchicks', 'ĠFemin', 'ĠMadonna', 'ĠIvanka', 'andra', 'ĠKatie', 'ĠBella', 'Ms', 'ĠAmelia', 'Ġgown', 'ĠRita', 'ureen', 'ĠMarian', 'ĠDonna', 'ĠAmber', 'ĠAsuka', 'ĠMelanie', 'ĠMelissa', 'ĠAnne', 'Ġbreasts', 'ĠHarriet', 'ĠIris', 'Ġpageant', 'ĠNatasha', 'Ġher', 'ĠAlexandra', 'ĠLydia', 'ĠGirl', 'ĠMrs', 'wives', 'Elsa', 'ĠTeresa', 'ĠMothers', 'ĠKathleen', 'ĠFiorina', 'ĠKara', 'ĠHeather', 'Ġbeaut', 'Ġovarian', 'vette', 'Ġpregnancies', 'Ġerotic', 'Ġpregnant', 'ĠMelania', 'ĠAudrey', 'Ġconvent', 'ĠAunt', 'Ġpanties', 'Elizabeth', 'ĠAlicia', 'ĠOprah', 'girl', 'ĠNatalie', 'Ġpatriarchy', 'Emily', 'ĠPatricia', 'Ġuter', 'ĠKitty', 'becca', 'ĠLeia', 'Girl', 'Ġskirts', 'ĠPam', 'Ġclitor', 'ĠMonica', 'ĠSusan', 'Ġcontraceptive', 'Ġgirlfriends', 'Gender', 'Anne', 'ĠElsa', 'ĠNora', 'Ġfeminist', 'Marg', 'Ġfeminism', 'ĠKathryn', 'Ġbreastfeeding', 'ĠIsabel', 'ĠSisters', 'ĠNurse', 'ĠGina', 'ricia', 'ĠJudith', 'ĠMama', 'ĠLilith', 'ĠEllie', 'ĠMary', 'Ġdresses', 'ĠMerkel', 'ĠAmy', 'ĠChloe', 'Ġfetus', 'ĠKirst', 'Marie', 'Ġaunt', 'Her', 'ĠMother', 'ĠDiane', 'Ġsister', 'Prin', 'Ġgirls', 'ĠAbby', 'Ġgranddaughter', 'Ġchildcare', 'ĠMichelle', 'Ġunmarried', 'ĠVanessa', 'ĠNursing', 'HER', 'Ġqueens', 'ĠRowling', 'ĠHera', 'ĠLady', 'Ġmamm', 'ĠJanet', 'mary', 'ĠMargaret', 'mom', 'ĠShirley', 'Ġfemin', 'ĠTiffany', 'ĠCatherine', 'Ġniece', 'Ġmarry', 'Ġgrandmother', 'Ġwomen', 'Ġsalon', 'ĠDebbie', 'women', 'Women', 'Mother', 'Ġestrogen', 'Herm', 'ĠNancy', 'ĠKathy', 'Ġwidow', 'ĠBetsy', 'ĠPaige', 'avia', 'Ġdaughter', 'ikini', 'imester', 'ĠPrincess', 'ĠTina', 'ĠKristen', 'hillary', 'Ġhijab', 'ĠAlice', 'ĠGender', 'ĠAda', 'ĠLesbian', 'ĠLilly', 'regnancy', 'Jessica', 'Ġlipstick', 'Ġgirl', 'Ġmurd', 'ĠWOM', 'Ġpolic', 'ĠCarrie', 'ĠHuma', 'irgin', 'Michelle', 'ĠSorceress', 'ĠHannah', 'Ġcosmetics', 'Ġsisters', 'ĠEmpress', 'Ã©e', 'ĠEsther', 'Ġbitch', 'ĠMartha', 'Ġwom', 'Ġmaternity', 'ĠHolly', 'Ġprenatal', 'Ġpurse', 'Ġblonde', 'Ġmothers', 'ĠMistress', 'ĠAnita', 'Ġvaginal', 'ĠKaty', 'izabeth', 'ĠPalin', 'Ġgender', 'Ġwitches', 'ĠDianne', 'Maria', 'Ġmaid', 'Ġbride', 'å¥³', 'Ġfeminine', 'ĠSuzanne', 'Ġlesbian', 'ĠGoddess', 'Ġprostitution', 'kaya', 'ĠAnnie', 'ĠNina', 'ĠCindy', 'Ġheroine', 'ĠSally', 'Alice', 'ĠOlivia', 'Ġmoms', 'Ġmother', 'ĠVeronica', 'ĠAngela', 'ĠMarie', 'Ġwaitress', 'ĠBuffy', 'ĠGaga', 'wife', 'ĠBonnie', 'lene', 'ĠCynthia', 'ĠMs', 'ĠClara', 'ĠLaura', 'ĠSophie', 'Mary', 'ĠJennifer', 'Ġgoddess', 'ĠLiz', 'ĠElizabeth', 'ĠTheresa', 'ĠSarah', 'ĠBrittany', 'arah', 'Ġherself', 'girls', 'ĠPeggy', 'Mrs', 'ĠFem', 'daughter', 'ĠGinny', 'ĠMiss', 'ĠSHE', 'Ġnuns', 'ĠHelen', 'ĠMae', 'ĠDuchess', 'ĠAmanda', 'ĠMaggie', 'Ġfem', 'ĠLucy', 'ĠZoe'}\n",
            "86546\n",
            "4561\n",
            "9000\n",
            "{'son', 'guy', 'dad', 'dude', 'men', 'He', 'the', 'male', 'he', 'him', 'himself', 'Jr', 'Richard', 'guys', 'David', 'Steve', 'Man', 'boy', 'in', 'Mr', 'Eric', 'brother', 'HE', 'man', 'John', 'beard', 'Mike', 'His', 'his', 'father'}\n",
            "{'Fiona', 'Ginny', 'nurse', 'Nurse', 'babe', 'female', 'Lori', 'contraceptives', 'Widow', 'Nicole', 'Shirley', 'gender', 'princess', 'Girls', 'Abby', 'Polly', 'girlfriend', 'Megan', 'Jane', 'bride', 'Maiden', 'abortion', 'gown', 'Empress', 'Madonna', 'Nancy', 'Peggy', 'Emma', 'Tara', 'Lisa', 'glamorous', 'Danielle', 'Clara', 'chicks', 'Kitty', 'Carrie', 'Bella', 'Nursing', 'Oprah', 'mother', 'breastfeeding', 'uterus', 'Amelia', 'Janet', 'Kathryn', 'Sally', 'salon', 'Julia', 'Clinton', 'Lilly', 'sister', 'daughters', 'Eleanor', 'feminine', 'Eva', 'Hillary', 'woman', 'Juliet', 'Suzanne', 'Feminist', 'Lena', 'Isabel', 'Olivia', 'Ruby', 'reproductive', 'maternal', 'Caroline', 'Woman', 'Ellen', 'Vanessa', 'sewing', 'Molly', 'Gaga', 'Duchess', 'nurses', 'Diana', 'bitch', 'Amy', 'Carol', 'Ellie', 'Kathy', 'Stella', 'Natalie', 'Scarlett', 'Miss', 'Christina', 'niece', 'goddess', 'Palin', 'Elena', 'Sylvia', 'widow', 'Alexa', 'Queen', 'bikini', 'Goddess', 'Kristen', 'Sarah', 'aunt', 'Female', 'Beth', 'maid', 'mothers', 'Witches', 'grandmother', 'Paige', 'grandma', 'Melissa', 'childcare', 'skirts', 'Susan', 'Laura', 'Maggie', 'Rita', 'lipstick', 'Elaine', 'vaginal', 'Sister', 'Victoria', 'Louise', 'Holly', 'Catherine', 'unmarried', 'witches', 'Audrey', 'Jennifer', 'breast', 'Liz', 'Betty', 'Brittany', 'Deborah', 'Lady', 'pregnancy', 'dresses', 'her', 'Veronica', 'Cassandra', 'cosmetics', 'She', 'Laurel', 'Rachel', 'Kate', 'Sara', 'Erica', 'convent', 'Margaret', 'Zoe', 'she', 'Daughter', 'Anna', 'prenatal', 'females', 'maiden', 'maternity', 'Canary', 'floral', 'Ivanka', 'Chloe', 'Melania', 'Ms', 'boobs', 'Erin', 'Claudia', 'Donna', 'Claire', 'Transgender', 'blonde', 'SHE', 'chick', 'Sophia', 'Lucy', 'lesbian', 'Sophie', 'spokeswoman', 'sisters', 'Linda', 'Judy', 'Lucia', 'Lauren', 'slut', 'Dianne', 'Gloria', 'virginity', 'Hannah', 'Lana', 'wives', 'Elsa', 'Debbie', 'Rosa', 'contraceptive', 'prostitute', 'queens', 'Stephanie', 'Mothers', 'Lily', 'Marina', 'waitress', 'Elizabeth', 'girl', 'Emily', 'Devi', 'Pamela', 'feminist', 'Kimberly', 'Nora', 'Jenna', 'Girl', 'Daisy', 'queen', 'Gender', 'Anne', 'Marg', 'Dorothy', 'Gina', 'Jeanne', 'Christine', 'Leia', 'Amanda', 'Marie', 'Marilyn', 'Helen', 'Females', 'Her', 'Rebecca', 'marry', 'Alexandra', 'Merkel', 'Iris', 'Kara', 'Aunt', 'Heather', 'Samantha', 'Cynthia', 'Betsy', 'Monica', 'skirt', 'beaut', 'actress', 'Jill', 'Amber', 'Theresa', 'HER', 'bras', 'Carolyn', 'Becky', 'ladies', 'purse', 'heroine', 'Kathleen', 'mary', 'mom', 'Marian', 'Karen', 'women', 'Judith', 'Barbara', 'Brenda', 'Pam', 'Women', 'Mother', 'estrogen', 'Esther', 'Alicia', 'Joan', 'Helena', 'Madame', 'Teresa', 'Buffy', 'Martha', 'Natasha', 'Ladies', 'sexism', 'Jessica', 'Annie', 'girlfriends', 'feminism', 'Michelle', 'Harriet', 'Rena', 'Princess', 'Diane', 'Lydia', 'Tiffany', 'mistress', 'Sandra', 'Lois', 'Katie', 'Katy', 'Asuka', 'Patricia', 'Mama', 'Nina', 'Maria', 'Sisters', 'hers', 'Wendy', 'actresses', 'Barbie', 'moms', 'kaya', 'granddaughter', 'Alice', 'DeVos', 'lady', 'breasts', 'Tammy', 'wife', 'Julie', 'Jenny', 'pregnancies', 'gal', 'Mary', 'Sheila', 'fetus', 'whore', 'Patty', 'Lesbian', 'girls', 'herself', 'prostitution', 'Bonnie', 'Melanie', 'Actress', 'childbirth', 'Katherine', 'Mrs', 'pregnant', 'daughter', 'Tina', 'witch', 'Cheryl', 'Anita', 'Angela', 'Rowling', 'Alison', 'Cindy', 'erotic', 'vagina', 'Athena', 'patriarchal'}\n"
          ]
        }
      ]
    },
    {
      "cell_type": "code",
      "source": [
        "#threshold_male, threshold_female = 0.10, 0.18\n",
        "!python data_preprocess.py --embed_source gpt2 --by_pca True --num_components 5 --save_subspace False "
      ],
      "metadata": {
        "colab": {
          "base_uri": "https://localhost:8080/"
        },
        "id": "y4L9RyOwLif_",
        "outputId": "34fe269d-9ee5-41fc-eead-fd94d18f2eb5"
      },
      "execution_count": 14,
      "outputs": [
        {
          "output_type": "stream",
          "name": "stdout",
          "text": [
            "pca explained variance ratio:  [0.3658576  0.19249536 0.13060503 0.09610862 0.08203769 0.03778473\n",
            " 0.02715391 0.02396387 0.0225765  0.01831487]\n",
            "top 100 male tokens: ('Ġhis', 'Ġhe', 'ĠHe', 'Ġman', 'Ġguy', 'He', 'ĠHis', 'Ġhim', 'His', 'Ġhimself', 'Ġson', 'Ġguys', 'ĠJohn', 'ĠMr', 'his', 'Ġboy', 'man', 'Ġfather', 'ĠMike', 'Ġmen', 'guy', 'Ġthe', 'Mr', 'ĠDavid', 'ĠMan', 'Ġbrother', 'Ġdude', 'Ġbeard', 'ĠRichard', 'ĠEric', 'Ġdad', 'ĠJr', 'ĠHE', 'ĠSteve', 'Ġin', 'ĠPaul', 'ĠJoe', 'Ġa', 'ĠKevin', 'Ġbrothers', 'ĠMark', 'ĠMichael', 'ĠAdam', 'Ġplayers', 'ĠChris', 'ĠJames', 'ĠDave', 'ĠGuy', 'ĠDude', 'he', 'ĠDaniel', 'Ġ\"', 'itus', 'ĠMatt', 'ĠJason', 'ĠRyan', 'Ġof', 'Man', ',', 'ĠJonathan', 'Ġand', 'ĠR', 'Ġon', 'ĠFather', 'ĠRick', 'Ġplayer', 'ĠHIS', 'Ġ(', 'ĠSteven', 'Ġone', 'Ġis', 'Ġchairman', 'ĠCharles', 'ĠJustin', 'Ġmustache', 'Mike', 'John', 'Ġto', '.', 'ĠJ', '-', 'Ġit', 'ĠThomas', 'ĠTom', 'ĠPeter', 'son', 'Ġthat', 'Ġall', 'ĠCarlos', 'ĠBen', 'Ġthis', 'Ġhas', 'Ġjust', 'ĠAaron', 'Ġfor', 'ĠJeff', 'ĠThe', 'ĠBruce', 'Ġwith', 'Ġan')\n",
            "top 100 male projection values: (0.3001694083213806, 0.29390668869018555, 0.24968181550502777, 0.2485448718070984, 0.21444889903068542, 0.20801183581352234, 0.19875860214233398, 0.18889786303043365, 0.18289616703987122, 0.1737246811389923, 0.1571822166442871, 0.15389689803123474, 0.15015104413032532, 0.14429935812950134, 0.14336958527565002, 0.14160096645355225, 0.13232547044754028, 0.12916013598442078, 0.12615355849266052, 0.12462440133094788, 0.12426848709583282, 0.12287190556526184, 0.12247531861066818, 0.12091877311468124, 0.12087418138980865, 0.11987173557281494, 0.11893992125988007, 0.1158931702375412, 0.11469237506389618, 0.11031884700059891, 0.10853946208953857, 0.10542488098144531, 0.10537444055080414, 0.10179977118968964, 0.10046727955341339, 0.09953992813825607, 0.09943899512290955, 0.09892670810222626, 0.09886206686496735, 0.09871388971805573, 0.09869631379842758, 0.09692554175853729, 0.09543164074420929, 0.09363812953233719, 0.09343963116407394, 0.0911213606595993, 0.09100060164928436, 0.08942897617816925, 0.0878208726644516, 0.08767618238925934, 0.0876469612121582, 0.08758911490440369, 0.08674686402082443, 0.08616704493761063, 0.08607757091522217, 0.08587401360273361, 0.08544330298900604, 0.08526614308357239, 0.08482389897108078, 0.08447551727294922, 0.08404723554849625, 0.08384303748607635, 0.08378253877162933, 0.0835517942905426, 0.08327583968639374, 0.08296819031238556, 0.08193868398666382, 0.08180458843708038, 0.08168236911296844, 0.08133267611265182, 0.08115941286087036, 0.08078144490718842, 0.08077327162027359, 0.08061521500349045, 0.08029235899448395, 0.07950164377689362, 0.07933457940816879, 0.07827343791723251, 0.07809311896562576, 0.07773708552122116, 0.07762903720140457, 0.07742924988269806, 0.07675143331289291, 0.07664456218481064, 0.07592883706092834, 0.07555054128170013, 0.0752921849489212, 0.07505278289318085, 0.07503043115139008, 0.07499480247497559, 0.07450294494628906, 0.0740145891904831, 0.07387464493513107, 0.07348670065402985, 0.07343131303787231, 0.07324142754077911, 0.07309406995773315, 0.07268908619880676, 0.07243157178163528, 0.0720318853855133)\n",
            "\n",
            "top 100 female tokens: ('Ġher', 'She', 'Ġshe', 'ĠShe', 'Ġherself', 'ĠSHE', 'Her', 'Ġhers', 'ĠHER', 'ĠMs', 'Ġwoman', 'she', 'ĠHer', 'Ġactress', 'ĠWoman', 'Ġheroine', 'Women', 'ĠMary', 'ĠFeminist', 'Ms', 'Ġfemale', 'woman', 'Ġwomen', 'women', 'Woman', 'Ġactresses', 'Ġdaughter', 'Ġuter', 'Ġprincess', 'Ġfeminist', 'Ġgoddess', 'ĠWomen', 'ĠActress', 'Elizabeth', 'Ġgirl', 'female', 'Ġuterus', 'Mrs', 'Ġlady', 'Ġmothers', 'Ġgranddaughter', 'daughter', 'ĠFemale', 'Ġlesbian', 'Mary', 'ĠGirl', 'Ġniece', 'Ġgal', 'ĠAnna', 'Ġvagina', 'Girl', 'Lady', 'ĠElizabeth', 'Ġmaternal', 'Ġqueen', 'Ġvaginal', 'Amy', 'Ġestrogen', 'ĠGirls', 'Ġfeminism', 'ĠFemin', 'Ġspokeswoman', 'Ġsisters', 'mother', 'Ġdaughters', 'Ġsister', 'Ġpregnant', 'Ġgirls', 'Ġwaitress', 'Ġfemales', 'Ġlesbians', 'Ġmother', 'Ġgrandmother', 'Ġovarian', 'Ġfeminists', 'ĠMarie', 'Ġmoms', 'Ġmaid', 'femin', 'Ġnun', 'ĠKatie', 'ĠKatherine', 'Ġbikini', 'Anna', 'Queen', 'Female', 'ĠPrincess', 'girl', 'ĠEleanor', 'ĠMrs', 'Ġslut', 'Ġpregnancy', 'ĠMolly', 'Ġmaternity', 'ĠEmily', 'Jennifer', 'regnancy', 'Emily', 'Ġconvent', 'ĠAnne')\n",
            "top 100 female projection values: (0.43467777967453003, 0.42035916447639465, 0.41439077258110046, 0.3848818242549896, 0.3692813217639923, 0.3595491349697113, 0.3594855070114136, 0.3588014543056488, 0.3578920364379883, 0.33557769656181335, 0.333587110042572, 0.3272199034690857, 0.313284307718277, 0.308930903673172, 0.3073289394378662, 0.3071816563606262, 0.3031326234340668, 0.3006853461265564, 0.2973819971084595, 0.29660820960998535, 0.29606372117996216, 0.2957688271999359, 0.29576376080513, 0.29462677240371704, 0.29390203952789307, 0.29368916153907776, 0.2926937937736511, 0.2924956679344177, 0.29164135456085205, 0.2908311188220978, 0.2898237109184265, 0.28922948241233826, 0.28919097781181335, 0.2888805568218231, 0.28708916902542114, 0.28573817014694214, 0.2848775386810303, 0.2847101092338562, 0.2753641605377197, 0.27467650175094604, 0.27444013953208923, 0.2742418646812439, 0.27387720346450806, 0.2726912498474121, 0.27244237065315247, 0.2719928026199341, 0.27181920409202576, 0.2714921832084656, 0.27072611451148987, 0.2701404392719269, 0.2695998251438141, 0.26929575204849243, 0.2681012749671936, 0.2677925229072571, 0.26764947175979614, 0.26611045002937317, 0.26572155952453613, 0.2654537558555603, 0.26380646228790283, 0.2630894184112549, 0.2622695565223694, 0.2619960308074951, 0.261826753616333, 0.260784387588501, 0.2604700028896332, 0.26039189100265503, 0.2601393759250641, 0.25982385873794556, 0.2588353455066681, 0.2588234841823578, 0.25801146030426025, 0.25787466764450073, 0.25786858797073364, 0.25750672817230225, 0.25737065076828003, 0.2571254372596741, 0.25616928935050964, 0.2560129165649414, 0.2546815574169159, 0.25399312376976013, 0.2539047598838806, 0.2530438303947449, 0.2528454661369324, 0.2525619864463806, 0.25249963998794556, 0.252429336309433, 0.25136125087738037, 0.25122010707855225, 0.2511036992073059, 0.25100037455558777, 0.25090157985687256, 0.25070804357528687, 0.2501261830329895, 0.25004902482032776, 0.24885904788970947, 0.24864353239536285, 0.24785837531089783, 0.24709564447402954, 0.24704596400260925, 0.24622003734111786)\n",
            "\n",
            "male biased tokens in gpt2 (35,) female biased tokens in gpt2 (472,)\n",
            "{'ĠHis', 'Ġguys', 'Ġthe', 'Ġhimself', 'Ġhis', 'ĠMr', 'ĠMan', 'Ġbrother', 'ĠRichard', 'ĠJohn', 'Ġdude', 'ĠJr', 'ĠMike', 'Ġhe', 'Ġhim', 'Ġmen', 'Ġdad', 'his', 'ĠHe', 'ĠDavid', 'Ġson', 'ĠHE', 'Ġguy', 'He', 'man', 'Ġfather', 'His', 'guy', 'Ġboy', 'Ġman', 'Ġbeard', 'ĠSteve', 'Ġin', 'ĠEric', 'Ġmale', 'Mr'}\n",
            "{'Ġbitch', 'ĠHera', 'Ġmaid', 'Female', 'ĠSandra', 'ĠMaiden', 'Jennifer', 'ĠNora', 'ĠKathryn', 'her', 'ĠShirley', 'ĠAnna', 'ricia', 'Ġprostitute', 'ĠIris', 'Ġmenstrual', 'ĠCait', 'vette', 'ĠJessica', 'Ġglamorous', 'ĠHolly', 'Ġgrandmother', 'ĠJuliet', 'Ġpatriarchal', 'ĠLori', 'Buyable', 'Ġbreasts', 'ĠBella', 'Eva', 'ĠMelania', 'ĠBetsy', 'ĠDaisy', 'Ġclitor', 'ĠHelena', 'Kate', 'girl', 'ĠSHE', 'ĠEllie', 'Ġsisters', 'ĠFiorina', 'Ġcontraceptives', 'ĠSheila', 'ĠWomen', 'Ġboobs', 'Ġspokeswoman', 'ĠMolly', 'ileen', 'ĠTammy', 'Ġovarian', 'ĠHermione', 'ĠActress', 'Ġwhore', 'ĠDiana', 'ĠLydia', 'Ġbeaut', 'ĠLaura', 'å¥³', 'Ġpatriarchy', 'ĠAnne', 'ĠNatalie', 'ĠElena', 'Ġpurse', 'ĠMothers', 'ĠAudrey', 'HER', 'anova', 'ĠFemale', 'wife', 'ĠSally', 'ĠAngela', 'ĠElizabeth', 'ĠAlexandra', 'ĠRowling', 'Gender', 'Ġlesbians', 'ĠLucy', 'Ġqueen', 'ĠLena', 'ĠLiz', 'ĠMichelle', 'ĠHarriet', 'Mary', 'ĠJulie', 'Ġniece', 'Ġwom', 'Ġbride', 'ĠGender', 'ĠAlison', 'Ġladies', 'ĠTina', 'Kat', 'ureen', 'ĠWOM', 'ĠSophie', 'avia', 'Ã©e', 'she', 'Ġfeminist', 'ĠAbedin', 'Ġpolic', 'Ġbreast', 'ĠFeminist', 'Ġherself', 'ĠJulia', 'ĠMonica', 'ĠMarie', 'ĠVeronica', 'Herm', 'Lady', 'ĠTara', 'ĠElsa', 'ĠSara', 'ĠWoman', 'Ġuterus', 'ĠDianne', 'ĠAunt', 'ĠPatty', 'Maria', 'Laura', 'ĠCarrie', 'atalie', 'Ġgender', 'Ġerotic', 'arah', 'ĠSamantha', 'Ġfetus', 'ĠHeather', 'Ġslut', 'ĠDorothy', 'Elsa', 'Michelle', 'Jessica', 'ĠCatherine', 'ĠTeresa', 'ĠFemales', 'ĠAnita', 'Ġher', 'Ġsexism', 'Ġbabe', 'ĠEmma', 'ĠSuzanne', 'ĠLauren', 'ĠKathleen', 'ĠRebecca', 'Ġreproductive', 'Ġuter', 'ĠWitches', 'ikini', 'ĠWendy', 'ĠEmpress', 'ĠLeia', 'ĠMae', 'Ġlipstick', 'Ġheroine', 'ĠKitty', 'ĠPaige', 'ĠNancy', 'Girls', 'rina', 'Ġnuns', 'Ġestrogen', 'ĠAsuka', 'ĠDaughter', 'ĠMs', 'Ġwomen', 'Ġgirlfriend', 'ĠKaren', 'ĠBonnie', 'ĠRachel', 'ĠKaty', 'Ġdaughters', 'ĠElaine', 'Ġsalon', 'ĠSisters', 'kaya', 'abortion', 'Ġactress', 'ĠJeanne', 'Ġgoddess', 'ĠTheresa', 'Ġfemin', 'ĠHannah', 'ĠEva', 'ĠKara', 'Anne', 'ĠStella', 'mom', 'ĠAda', 'ĠChristina', 'Ġmarry', 'ĠNursing', 'Ġblonde', 'ĠDeborah', 'ĠTiffany', 'Ġdresses', 'Ġmaiden', 'ĠRegina', 'ĠAthena', 'Ġqueens', 'ĠGina', 'Ġwomb', 'ĠDevi', 'ĠHer', 'Queen', 'Ġmamm', 'female', 'ĠGirls', 'ĠDuchess', 'ĠLucia', 'urga', 'ĠJudith', 'ĠBreast', 'Ġhijab', 'Ġnun', 'ĠJenn', 'ĠMother', 'Ġshe', 'ĠQueen', 'women', 'Mother', 'femin', 'ĠLadies', 'ĠLesbian', 'ĠJill', 'Ġsewing', 'ĠAnnie', 'girls', 'ĠSister', 'ĠBeyon', 'Ġskirt', 'andra', 'ĠTransgender', 'hillary', 'atherine', 'Ġdaughter', 'Ġgrandma', 'lene', 'ĠJenna', 'ĠMelissa', 'ĠMama', 'Ġprenatal', 'ĠHuma', 'ĠClaire', 'ĠLaurel', 'ĠMaria', 'Ġlady', 'ĠJane', 'ĠKirst', 'imester', 'ĠMiss', 'Ġbreastfeeding', 'Girl', 'Ġwaitress', 'ĠSophia', 'ĠJennifer', 'ĠLouise', 'ĠPyrrha', 'Ġmaternity', 'ĠMarian', 'Ġskirts', 'ĠMerkel', 'ĠAmanda', 'ĠLisa', 'maid', 'woman', 'ĠCarol', 'ĠDanielle', 'ĠMartha', 'ĠEsther', 'ĠPeggy', 'ĠDiane', 'Susan', 'annah', 'ĠAlexa', 'ĠFiona', 'ĠLois', 'ĠSusan', 'Ġnurse', 'ĠBeth', 'ĠShe', 'Ġgal', 'ĠHER', 'ĠNurse', 'Ġwitch', 'Ġwidow', 'Ġgirlfriends', 'ĠOprah', 'ĠGinny', 'ĠViolet', 'ĠKatherine', 'ĠRosa', 'Ġmistress', 'ĠCanary', 'ĠDebbie', 'ĠKristen', 'ibrarian', 'regnancy', 'Ġcerv', 'ĠLinda', 'Ġpageant', 'ĠSorceress', 'Ruby', 'yna', 'Ġtits', 'ĠCaroline', 'ĠAlice', 'ĠWidow', 'ĠChloe', 'ĠEllen', 'ĠKimberly', 'ĠAmelia', 'ĠJanet', 'Ġgown', 'ĠPalin', 'ĠMistress', 'Ġactresses', 'ĠOlivia', 'ĠKatie', 'ĠJenny', 'ĠPam', 'lyss', 'ova', 'ĠPrincess', 'Ġfemales', 'Ġmenstru', 'Rachel', 'ĠBetty', 'mary', 'ĠNaomi', 'ĠJudy', 'Ġcontraceptive', 'Ġfeminine', 'Ġgirls', 'ĠMaggie', 'ĠLily', 'Jane', 'Ġlesbian', 'ĠNicole', 'ĠCarolyn', 'ĠMargaret', 'izabeth', 'Ġcosmetics', 'ĠSarah', 'Alice', 'ĠIvanka', 'Ġwitches', 'Marg', 'ĠAlicia', 'ĠMarina', 'Her', 'Mrs', 'ĠPamela', 'ĠClaudia', 'Ġfem', 'Ġchildcare', 'Emily', 'ĠAbortion', 'ĠNina', 'Hillary', 'ĠClara', 'Ġprincess', 'Ġgranddaughter', 'eva', 'Ġgirl', 'ĠAmy', 'ĠBarbie', 'ĠAmber', 'wives', 'ĠMelanie', 'Ġhers', 'ĠBuffy', 'ĠBarbara', 'Ġbras', 'ĠAbby', 'ĠCheryl', 'irgin', 'ĠGloria', 'ĠIsabel', 'Ġwoman', 'Prin', 'ĠFemin', 'Ġmothers', 'Ġmiscar', 'Ġmoms', 'Ġmurd', 'ĠMarilyn', 'Ms', 'ĠMary', 'Ġprostitution', 'ĠHelen', 'Ġfloral', 'ĠDeVos', 'Ġvagina', 'Ġpregnancies', 'Ġpanties', 'ĠNatasha', 'Ġfeminists', 'Amy', 'Ġfemale', 'Ġconvent', 'mother', 'Ġchick', 'Women', 'ĠBecky', 'ĠLilith', 'Ġmom', 'ĠEmily', 'ĠVanessa', 'Ġchicks', 'ĠLady', 'Marie', 'Ġvirginity', 'girlfriend', 'Ġunmarried', 'ĠGoddess', 'Ġbikini', 'ĠGaga', 'ĠRena', 'Ġsister', 'Woman', 'ĠChristine', 'Ġpregnancy', 'She', 'ĠZoe', 'ĠCynthia', 'ĠGirl', 'leanor', 'ĠRita', 'ĠKate', 'Ġnurses', 'ĠErica', 'ĠSylvia', 'ĠCassandra', 'ĠMegan', 'Ġpregnant', 'Miss', 'ĠDonna', 'ĠPolly', 'ĠBrittany', 'ĠMrs', 'Clinton', 'Sarah', 'Victoria', 'Ġmaternal', 'ĠStephanie', 'Lisa', 'Ġchildbirth', 'Ġmiscarriage', 'ĠCindy', 'ĠMadame', 'ĠKathy', 'daughter', 'ĠKorra', 'Ġfeminism', 'Ġmother', 'ĠLilly', 'Ġbrun', 'ĠPatricia', 'ĠBrenda', 'ĠEleanor', 'ĠLana', 'ĠFem', 'ĠScarlett', 'Elizabeth', 'Anna', 'ĠMadonna', 'Ġaunt', 'Ġvaginal', 'helle', 'becca', 'ĠErin', 'ĠJoan'}\n",
            "86546\n",
            "4561\n",
            "9000\n",
            "{'boy', 'he', 'Eric', 'him', 'son', 'John', 'dude', 'the', 'guys', 'HE', 'Mike', 'Steve', 'himself', 'beard', 'his', 'men', 'Jr', 'He', 'man', 'Richard', 'guy', 'His', 'father', 'David', 'in', 'brother', 'male', 'Man', 'dad', 'Mr'}\n",
            "{'prostitute', 'Lori', 'SHE', 'bride', 'Kathy', 'Vanessa', 'Female', 'Erin', 'princess', 'Jennifer', 'Amber', 'her', 'Ivanka', 'aunt', 'Aunt', 'Alison', 'Nurse', 'cosmetics', 'uterus', 'Witches', 'Transgender', 'Madonna', 'Eva', 'convent', 'Princess', 'Kate', 'Lana', 'Sophia', 'maiden', 'waitress', 'girl', 'Empress', 'Barbie', 'Melania', 'Becky', 'Melanie', 'Lena', 'Maggie', 'dresses', 'Christina', 'Caroline', 'Ellie', 'Canary', 'Olivia', 'Rowling', 'Daughter', 'Polly', 'Karen', 'chicks', 'Diana', 'HER', 'feminism', 'wife', 'Mama', 'Kathleen', 'mothers', 'Gender', 'Females', 'Carol', 'Linda', 'Sheila', 'Mary', 'Louise', 'granddaughter', 'she', 'Widow', 'Rosa', 'Julia', 'Diane', 'vaginal', 'Lauren', 'Lady', 'Fiona', 'gender', 'Kitty', 'salon', 'Palin', 'Maria', 'Laura', 'Deborah', 'Melissa', 'Julie', 'Jenna', 'Actress', 'skirt', 'Donna', 'witch', 'Liz', 'Anita', 'Elsa', 'Sisters', 'Michelle', 'mistress', 'Jessica', 'Lilly', 'pregnancy', 'niece', 'Sara', 'Heather', 'Cassandra', 'chick', 'patriarchal', 'Marina', 'pregnancies', 'Helena', 'Beth', 'Sylvia', 'Girls', 'Dorothy', 'Catherine', 'actress', 'Clara', 'Tiffany', 'Goddess', 'Betty', 'Kristen', 'Chloe', 'Merkel', 'floral', 'Patricia', 'widow', 'Brittany', 'abortion', 'kaya', 'bitch', 'Jenny', 'Holly', 'Lucia', 'girlfriends', 'Lucy', 'Samantha', 'Janet', 'Alexa', 'Scarlett', 'Anne', 'mom', 'spokeswoman', 'Teresa', 'Audrey', 'slut', 'Nursing', 'Suzanne', 'pregnant', 'Wendy', 'Claudia', 'Sophie', 'lesbian', 'gown', 'unmarried', 'Marilyn', 'Carolyn', 'grandma', 'Queen', 'Rita', 'hers', 'breast', 'Abby', 'female', 'sewing', 'sister', 'Helen', 'Gloria', 'Debbie', 'Bonnie', 'Oprah', 'women', 'Hannah', 'Mother', 'lipstick', 'Margaret', 'Kathryn', 'Bella', 'Katy', 'Cynthia', 'Sally', 'girls', 'Katherine', 'fetus', 'ladies', 'maternity', 'Christine', 'blonde', 'Isabel', 'Lesbian', 'Lois', 'nurses', 'Girl', 'Jeanne', 'estrogen', 'Pamela', 'daughters', 'Martha', 'Joan', 'Ellen', 'maid', 'woman', 'sisters', 'Stephanie', 'Natasha', 'Barbara', 'marry', 'Veronica', 'Susan', 'Elena', 'Athena', 'Ladies', 'Pam', 'females', 'Lydia', 'Nancy', 'Leia', 'gal', 'herself', 'Ruby', 'Emma', 'Zoe', 'childcare', 'Kara', 'Gaga', 'virginity', 'Molly', 'prenatal', 'Mothers', 'Tammy', 'Brenda', 'boobs', 'Stella', 'Judith', 'bikini', 'lady', 'Jill', 'Alicia', 'heroine', 'Rachel', 'mary', 'Daisy', 'Nicole', 'Carrie', 'purse', 'Jane', 'Monica', 'Dianne', 'whore', 'Nina', 'Alice', 'Peggy', 'Marg', 'Rebecca', 'Her', 'Mrs', 'Emily', 'Hillary', 'Theresa', 'contraceptive', 'Sandra', 'Feminist', 'goddess', 'skirts', 'Lily', 'wives', 'breasts', 'grandmother', 'glamorous', 'Laurel', 'Madame', 'feminine', 'actresses', 'Ginny', 'Patty', 'Danielle', 'Annie', 'Harriet', 'Juliet', 'Alexandra', 'Claire', 'Ms', 'Marian', 'Devi', 'Amy', 'Nora', 'vagina', 'Esther', 'mother', 'Paige', 'Women', 'prostitution', 'Amelia', 'nurse', 'Tina', 'reproductive', 'Duchess', 'Angela', 'bras', 'Marie', 'Cheryl', 'Asuka', 'girlfriend', 'Shirley', 'Tara', 'Woman', 'maternal', 'queen', 'She', 'babe', 'moms', 'Erica', 'Rena', 'Megan', 'DeVos', 'breastfeeding', 'childbirth', 'Gina', 'Katie', 'witches', 'Maiden', 'Miss', 'sexism', 'feminist', 'Clinton', 'Betsy', 'Sarah', 'Cindy', 'Kimberly', 'Victoria', 'Lisa', 'queens', 'Sister', 'daughter', 'Natalie', 'erotic', 'Buffy', 'beaut', 'Elaine', 'contraceptives', 'Elizabeth', 'Eleanor', 'Anna', 'Amanda', 'Judy', 'Iris'}\n"
          ]
        }
      ]
    },
    {
      "cell_type": "markdown",
      "source": [
        "File stored in /content/drive/MyDrive/MLsec_project/BiasMitigation/LM_bias/src/data_preprocess/gpt2_bias_direction.npy\n",
        "\n",
        "File stored in /content/drive/MyDrive/MLsec_project/BiasMitigation/LM_bias/src/data_preprocess/gpt2_bias_subspace.npy\n"
      ],
      "metadata": {
        "id": "RhXWjpF8d2dd"
      }
    },
    {
      "cell_type": "markdown",
      "source": [
        "###Train the bias classifier and learn the projection matrix P"
      ],
      "metadata": {
        "id": "cSHgMl1FT43G"
      }
    },
    {
      "cell_type": "code",
      "source": [
        "!pwd"
      ],
      "metadata": {
        "colab": {
          "base_uri": "https://localhost:8080/"
        },
        "id": "_20O0pFYSsRc",
        "outputId": "813eeb58-83e7-4948-e4cc-0f2c8f8134c9"
      },
      "execution_count": 15,
      "outputs": [
        {
          "output_type": "stream",
          "name": "stdout",
          "text": [
            "/content/drive/MyDrive/MLsec_project/BiasMitigation/LM_bias/src/data_preprocess\n"
          ]
        }
      ]
    },
    {
      "cell_type": "code",
      "source": [
        "!pip install transformers"
      ],
      "metadata": {
        "colab": {
          "base_uri": "https://localhost:8080/"
        },
        "id": "0HP8vS7WTPgJ",
        "outputId": "12859d01-d12c-4d6b-9b58-c3764686b9b3"
      },
      "execution_count": 16,
      "outputs": [
        {
          "output_type": "stream",
          "name": "stdout",
          "text": [
            "Looking in indexes: https://pypi.org/simple, https://us-python.pkg.dev/colab-wheels/public/simple/\n",
            "Collecting transformers\n",
            "  Downloading transformers-4.25.1-py3-none-any.whl (5.8 MB)\n",
            "\u001b[K     |████████████████████████████████| 5.8 MB 4.7 MB/s \n",
            "\u001b[?25hRequirement already satisfied: packaging>=20.0 in /usr/local/lib/python3.8/dist-packages (from transformers) (21.3)\n",
            "Requirement already satisfied: pyyaml>=5.1 in /usr/local/lib/python3.8/dist-packages (from transformers) (6.0)\n",
            "Requirement already satisfied: filelock in /usr/local/lib/python3.8/dist-packages (from transformers) (3.8.0)\n",
            "Requirement already satisfied: regex!=2019.12.17 in /usr/local/lib/python3.8/dist-packages (from transformers) (2022.6.2)\n",
            "Requirement already satisfied: numpy>=1.17 in /usr/local/lib/python3.8/dist-packages (from transformers) (1.21.6)\n",
            "Requirement already satisfied: requests in /usr/local/lib/python3.8/dist-packages (from transformers) (2.23.0)\n",
            "Collecting tokenizers!=0.11.3,<0.14,>=0.11.1\n",
            "  Downloading tokenizers-0.13.2-cp38-cp38-manylinux_2_17_x86_64.manylinux2014_x86_64.whl (7.6 MB)\n",
            "\u001b[K     |████████████████████████████████| 7.6 MB 78.0 MB/s \n",
            "\u001b[?25hCollecting huggingface-hub<1.0,>=0.10.0\n",
            "  Downloading huggingface_hub-0.11.1-py3-none-any.whl (182 kB)\n",
            "\u001b[K     |████████████████████████████████| 182 kB 74.1 MB/s \n",
            "\u001b[?25hRequirement already satisfied: tqdm>=4.27 in /usr/local/lib/python3.8/dist-packages (from transformers) (4.64.1)\n",
            "Requirement already satisfied: typing-extensions>=3.7.4.3 in /usr/local/lib/python3.8/dist-packages (from huggingface-hub<1.0,>=0.10.0->transformers) (4.4.0)\n",
            "Requirement already satisfied: pyparsing!=3.0.5,>=2.0.2 in /usr/local/lib/python3.8/dist-packages (from packaging>=20.0->transformers) (3.0.9)\n",
            "Requirement already satisfied: certifi>=2017.4.17 in /usr/local/lib/python3.8/dist-packages (from requests->transformers) (2022.9.24)\n",
            "Requirement already satisfied: idna<3,>=2.5 in /usr/local/lib/python3.8/dist-packages (from requests->transformers) (2.10)\n",
            "Requirement already satisfied: chardet<4,>=3.0.2 in /usr/local/lib/python3.8/dist-packages (from requests->transformers) (3.0.4)\n",
            "Requirement already satisfied: urllib3!=1.25.0,!=1.25.1,<1.26,>=1.21.1 in /usr/local/lib/python3.8/dist-packages (from requests->transformers) (1.24.3)\n",
            "Installing collected packages: tokenizers, huggingface-hub, transformers\n",
            "Successfully installed huggingface-hub-0.11.1 tokenizers-0.13.2 transformers-4.25.1\n"
          ]
        }
      ]
    },
    {
      "cell_type": "code",
      "source": [
        "!python context_nullspace_projection.py"
      ],
      "metadata": {
        "colab": {
          "base_uri": "https://localhost:8080/"
        },
        "id": "f6ElvGZ3TWb4",
        "outputId": "a4ecaa15-d358-4176-bfb7-2f4549d86428"
      },
      "execution_count": 17,
      "outputs": [
        {
          "output_type": "stream",
          "name": "stdout",
          "text": [
            "2022-12-10 19:17:30.416995: I tensorflow/core/util/util.cc:169] oneDNN custom operations are on. You may see slightly different numerical results due to floating-point round-off errors from different computation orders. To turn them off, set the environment variable `TF_ENABLE_ONEDNN_OPTS=0`.\n",
            "Downloading: 100% 1.04M/1.04M [00:00<00:00, 5.79MB/s]\n",
            "Downloading: 100% 456k/456k [00:00<00:00, 3.25MB/s]\n",
            "Downloading: 100% 665/665 [00:00<00:00, 608kB/s]\n",
            "Downloading: 100% 548M/548M [00:33<00:00, 16.2MB/s]\n",
            "The number of the dataset (male, female, neut):  (13870,) (7581,) (9000,)\n",
            "Split the dataset\n",
            "Train size: 2940; Dev size: 1260; Test size: 1800\n",
            "iteration: 79, accuracy: 0.35: 100% 80/80 [05:13<00:00,  3.91s/it]\n",
            "/usr/local/lib/python3.8/dist-packages/sklearn/manifold/_t_sne.py:780: FutureWarning: The default initialization in TSNE will change from 'random' to 'pca' in 1.2.\n",
            "  warnings.warn(\n",
            "/usr/local/lib/python3.8/dist-packages/sklearn/manifold/_t_sne.py:790: FutureWarning: The default learning rate in TSNE will change from 200.0 to 'auto' in 1.2.\n",
            "  warnings.warn(\n",
            "Figure(600x500)\n",
            "/usr/local/lib/python3.8/dist-packages/sklearn/manifold/_t_sne.py:780: FutureWarning: The default initialization in TSNE will change from 'random' to 'pca' in 1.2.\n",
            "  warnings.warn(\n",
            "/usr/local/lib/python3.8/dist-packages/sklearn/manifold/_t_sne.py:790: FutureWarning: The default learning rate in TSNE will change from 200.0 to 'auto' in 1.2.\n",
            "  warnings.warn(\n",
            "Figure(600x500)\n",
            "V-measure-before (TSNE space): 0.0004740390645270455\n",
            "V-measure-after (TSNE space): 0.0014029637421520108\n",
            "V-measure-before (original space): 0.0010561813350484814\n",
            "V-measure-after (original space): 0.0035967475585047363\n",
            "Rank before: 761; Rank after: 528\n"
          ]
        }
      ]
    },
    {
      "cell_type": "markdown",
      "source": [
        "Projection matrix is stored in /content/drive/MyDrive/MLsec_project/BiasMitigation/LM_bias/data/saved_P/P.npy"
      ],
      "metadata": {
        "id": "7FAt1DLfYFuI"
      }
    },
    {
      "cell_type": "markdown",
      "source": [
        "##Evaluate Local Bias existing in gpt2:"
      ],
      "metadata": {
        "id": "Ka9KuQxeY6SA"
      }
    },
    {
      "cell_type": "code",
      "source": [
        "!pwd"
      ],
      "metadata": {
        "colab": {
          "base_uri": "https://localhost:8080/"
        },
        "id": "xW49E14WZCmT",
        "outputId": "a2bd91fc-3071-416b-8d4d-4abad61c5b95"
      },
      "execution_count": 18,
      "outputs": [
        {
          "output_type": "stream",
          "name": "stdout",
          "text": [
            "/content/drive/MyDrive/MLsec_project/BiasMitigation/LM_bias/src/data_preprocess\n"
          ]
        }
      ]
    },
    {
      "cell_type": "code",
      "source": [
        "%cd ../"
      ],
      "metadata": {
        "colab": {
          "base_uri": "https://localhost:8080/"
        },
        "id": "fMrksvDGZFiP",
        "outputId": "50ecf07d-c3cc-4dfc-8ded-519c21b46d12"
      },
      "execution_count": 19,
      "outputs": [
        {
          "output_type": "stream",
          "name": "stdout",
          "text": [
            "/content/drive/MyDrive/MLsec_project/BiasMitigation/LM_bias/src\n"
          ]
        }
      ]
    },
    {
      "cell_type": "code",
      "source": [
        "%cd local_bias/"
      ],
      "metadata": {
        "colab": {
          "base_uri": "https://localhost:8080/"
        },
        "id": "F-VjmmWSZI8d",
        "outputId": "0c3b91bd-12cf-407c-efad-304a29193f81"
      },
      "execution_count": 20,
      "outputs": [
        {
          "output_type": "stream",
          "name": "stdout",
          "text": [
            "/content/drive/MyDrive/MLsec_project/BiasMitigation/LM_bias/src/local_bias\n"
          ]
        }
      ]
    },
    {
      "cell_type": "code",
      "source": [
        "!pwd"
      ],
      "metadata": {
        "colab": {
          "base_uri": "https://localhost:8080/"
        },
        "id": "qjTNwq4fZLv7",
        "outputId": "8f0bc791-bad2-406c-fa1c-0d2cfe9de0bb"
      },
      "execution_count": 21,
      "outputs": [
        {
          "output_type": "stream",
          "name": "stdout",
          "text": [
            "/content/drive/MyDrive/MLsec_project/BiasMitigation/LM_bias/src/local_bias\n"
          ]
        }
      ]
    },
    {
      "cell_type": "code",
      "source": [
        "!ls"
      ],
      "metadata": {
        "colab": {
          "base_uri": "https://localhost:8080/"
        },
        "id": "JcbLSqp8ZOAt",
        "outputId": "6f1f8f2b-d6b2-419e-eb23-bf9ac3442a29"
      },
      "execution_count": 22,
      "outputs": [
        {
          "output_type": "stream",
          "name": "stdout",
          "text": [
            "__init__.py  measure_local_bias.py  __pycache__  utils.py\n"
          ]
        }
      ]
    },
    {
      "cell_type": "code",
      "source": [
        "!python measure_local_bias.py"
      ],
      "metadata": {
        "colab": {
          "base_uri": "https://localhost:8080/"
        },
        "id": "tY8yPnA5f3TN",
        "outputId": "d9a7f2f8-9678-48fd-e745-8651ce420f31"
      },
      "execution_count": 23,
      "outputs": [
        {
          "output_type": "stream",
          "name": "stdout",
          "text": [
            "2022-12-10 19:26:57.360152: I tensorflow/core/util/util.cc:169] oneDNN custom operations are on. You may see slightly different numerical results due to floating-point round-off errors from different computation orders. To turn them off, set the environment variable `TF_ENABLE_ONEDNN_OPTS=0`.\n",
            "../../res/local_res/\n",
            "----------------------------------------------------------------------------------------------------\n",
            "### Local Metric1: Top k overlap - reflect language model performance ###\n",
            "**simple template**\n",
            "avg: [0.005620650131075447, 0.0034352611354439835, 0.0021281572916674535, 0.0013143913607383804, 0.0007964259825407381, 0.0004643251249233423, 0.00025316654920514147, 0.00012282283393084305, 4.757808788150677e-05, 1.0461577015355767e-05, 2.3115100014199804e-15]\n",
            "subspace: 1.6753875051860724e-05\n",
            "direction: 1.4537915395591952e-05\n",
            "\n",
            "(25,)\n",
            "**own corpus**\n",
            "avg: [0.004629401550055876, 0.0029393440187172274, 0.0018774267414010284, 0.0011893559523028117, 0.0007364063534296482, 0.00043743942140469084, 0.00024245204559064794, 0.00011934682073584557, 4.6836011749013156e-05, 1.0419531364606581e-05, 2.4058336541488522e-15]\n",
            "subspace: 3.422998668108331e-06\n",
            "direction: 1.3425396392960882e-06\n",
            "\n",
            "----------------------------------------------------------------------------------------------------\n",
            "### Local Metric2.1: Weat_KL - reflect bias ###\n",
            "Fairness(KL) - Simple Context\n",
            "avg:  [0.08720554471869957, 0.08815009040024764, 0.09120858731984624, 0.10695913903986058, 0.12809166999703672, 0.14341916675157348, 0.15462942761063989, 0.15940757855695695, 0.16091683891726932, 0.16125105175113777, 0.1612871328367579]\n",
            "A-subspace\n",
            "0.1355282584880749 0.1355282584880749\n",
            "0.12595914274822578 0.12595914274822578\n",
            "Fairness(KL) - Diverse Context\n",
            "avg:  [0.07229846823956665, 0.07359157353317906, 0.0805555169061385, 0.09826297953118034, 0.11599248125013982, 0.1322019590082883, 0.14153930193306566, 0.14511281963970446, 0.14618497098996816, 0.14641467250024426, 0.1464402264571777]\n",
            "A-subspace\n",
            "0.1449974159776037 0.1449974159776037\n",
            "0.1422414830748505 0.1422414830748505\n",
            "----------------------------------------------------------------------------------------------------\n",
            "### Local Metric2.2: Weat_true_label - reflect language model ###\n",
            "average:  [0.0002693606956316728, 0.0018588934025341385, 0.022652207093632422, 0.09480554989940802, 0.16788710845567933, 0.22169109182859756, 0.24687295587197391, 0.2551443210376116, 0.2574871638435676, 0.2579800843120514, 0.2580341010626095]\n",
            "subspace:  0.24639039335064203\n"
          ]
        }
      ]
    },
    {
      "cell_type": "markdown",
      "source": [
        "File stored in /content/drive/MyDrive/MLsec_project/BiasMitigation/LM_bias/res/local_res/res.txt\n"
      ],
      "metadata": {
        "id": "FcDCvObtj3SA"
      }
    },
    {
      "cell_type": "markdown",
      "source": [
        "##Evaluate Global Bias Existing in gpt2:"
      ],
      "metadata": {
        "id": "fDsRO94GkK6o"
      }
    },
    {
      "cell_type": "code",
      "source": [
        "%cd /content/drive/MyDrive/MLsec_project/BiasMitigation/LM_bias"
      ],
      "metadata": {
        "colab": {
          "base_uri": "https://localhost:8080/"
        },
        "id": "wuR460gykC7A",
        "outputId": "559ad962-b263-433c-8f60-efdd69d9d524"
      },
      "execution_count": 24,
      "outputs": [
        {
          "output_type": "stream",
          "name": "stdout",
          "text": [
            "/content/drive/MyDrive/MLsec_project/BiasMitigation/LM_bias\n"
          ]
        }
      ]
    },
    {
      "cell_type": "code",
      "source": [
        "%cd /content/drive/MyDrive/MLsec_project/BiasMitigation/LM_bias/src/global_bias"
      ],
      "metadata": {
        "colab": {
          "base_uri": "https://localhost:8080/"
        },
        "id": "uYas0MKFld2n",
        "outputId": "cbc0c03d-2a8a-421a-f23b-4fa96a3d17a2"
      },
      "execution_count": 25,
      "outputs": [
        {
          "output_type": "stream",
          "name": "stdout",
          "text": [
            "/content/drive/MyDrive/MLsec_project/BiasMitigation/LM_bias/src/global_bias\n"
          ]
        }
      ]
    },
    {
      "cell_type": "code",
      "source": [
        "!pwd"
      ],
      "metadata": {
        "colab": {
          "base_uri": "https://localhost:8080/"
        },
        "id": "HM6dJGLZljgi",
        "outputId": "af0988ff-21ef-48bf-ef74-458f6a3af7e7"
      },
      "execution_count": 26,
      "outputs": [
        {
          "output_type": "stream",
          "name": "stdout",
          "text": [
            "/content/drive/MyDrive/MLsec_project/BiasMitigation/LM_bias/src/global_bias\n"
          ]
        }
      ]
    },
    {
      "cell_type": "code",
      "source": [
        "!ls"
      ],
      "metadata": {
        "colab": {
          "base_uri": "https://localhost:8080/"
        },
        "id": "EdjdZQd6loio",
        "outputId": "d971ecd6-5349-489d-f16f-e15b307c029f"
      },
      "execution_count": 27,
      "outputs": [
        {
          "output_type": "stream",
          "name": "stdout",
          "text": [
            "generate_full_sentence.py  __init__.py\n"
          ]
        }
      ]
    },
    {
      "cell_type": "code",
      "source": [
        "!pip install transformers"
      ],
      "metadata": {
        "colab": {
          "base_uri": "https://localhost:8080/"
        },
        "id": "BfDF9uxgoyK3",
        "outputId": "8ed53933-ccb1-4831-ca9e-2514f807cbe8"
      },
      "execution_count": 34,
      "outputs": [
        {
          "output_type": "stream",
          "name": "stdout",
          "text": [
            "Looking in indexes: https://pypi.org/simple, https://us-python.pkg.dev/colab-wheels/public/simple/\n",
            "Collecting transformers\n",
            "  Using cached transformers-4.25.1-py3-none-any.whl (5.8 MB)\n",
            "Requirement already satisfied: requests in /usr/local/lib/python3.8/dist-packages (from transformers) (2.23.0)\n",
            "Requirement already satisfied: packaging>=20.0 in /usr/local/lib/python3.8/dist-packages (from transformers) (21.3)\n",
            "Requirement already satisfied: filelock in /usr/local/lib/python3.8/dist-packages (from transformers) (3.8.0)\n",
            "Requirement already satisfied: tokenizers!=0.11.3,<0.14,>=0.11.1 in /usr/local/lib/python3.8/dist-packages (from transformers) (0.13.2)\n",
            "Requirement already satisfied: tqdm>=4.27 in /usr/local/lib/python3.8/dist-packages (from transformers) (4.64.1)\n",
            "Requirement already satisfied: numpy>=1.17 in /usr/local/lib/python3.8/dist-packages (from transformers) (1.21.6)\n",
            "Requirement already satisfied: huggingface-hub<1.0,>=0.10.0 in /usr/local/lib/python3.8/dist-packages (from transformers) (0.11.1)\n",
            "Requirement already satisfied: regex!=2019.12.17 in /usr/local/lib/python3.8/dist-packages (from transformers) (2022.6.2)\n",
            "Requirement already satisfied: pyyaml>=5.1 in /usr/local/lib/python3.8/dist-packages (from transformers) (6.0)\n",
            "Requirement already satisfied: typing-extensions>=3.7.4.3 in /usr/local/lib/python3.8/dist-packages (from huggingface-hub<1.0,>=0.10.0->transformers) (4.4.0)\n",
            "Requirement already satisfied: pyparsing!=3.0.5,>=2.0.2 in /usr/local/lib/python3.8/dist-packages (from packaging>=20.0->transformers) (3.0.9)\n",
            "Requirement already satisfied: certifi>=2017.4.17 in /usr/local/lib/python3.8/dist-packages (from requests->transformers) (2022.9.24)\n",
            "Requirement already satisfied: urllib3!=1.25.0,!=1.25.1,<1.26,>=1.21.1 in /usr/local/lib/python3.8/dist-packages (from requests->transformers) (1.24.3)\n",
            "Requirement already satisfied: idna<3,>=2.5 in /usr/local/lib/python3.8/dist-packages (from requests->transformers) (2.10)\n",
            "Requirement already satisfied: chardet<4,>=3.0.2 in /usr/local/lib/python3.8/dist-packages (from requests->transformers) (3.0.4)\n",
            "Installing collected packages: transformers\n",
            "Successfully installed transformers-4.25.1\n"
          ]
        }
      ]
    },
    {
      "cell_type": "code",
      "source": [
        "!python -m pip uninstall transformers"
      ],
      "metadata": {
        "colab": {
          "base_uri": "https://localhost:8080/"
        },
        "id": "U9GCLhKwq-zl",
        "outputId": "3459b092-b891-4045-aeff-40d875bccc47"
      },
      "execution_count": 36,
      "outputs": [
        {
          "output_type": "stream",
          "name": "stdout",
          "text": [
            "Found existing installation: transformers 4.25.1\n",
            "Uninstalling transformers-4.25.1:\n",
            "  Would remove:\n",
            "    /usr/local/bin/transformers-cli\n",
            "    /usr/local/lib/python3.8/dist-packages/transformers-4.25.1.dist-info/*\n",
            "    /usr/local/lib/python3.8/dist-packages/transformers/*\n",
            "Proceed (y/n)? y\n",
            "  Successfully uninstalled transformers-4.25.1\n"
          ]
        }
      ]
    },
    {
      "cell_type": "code",
      "source": [
        "!pip install transformers==2.10.0"
      ],
      "metadata": {
        "colab": {
          "base_uri": "https://localhost:8080/"
        },
        "id": "PBpJf-fwq7Io",
        "outputId": "4218b041-8d08-4639-8936-d3800d4239f8"
      },
      "execution_count": 37,
      "outputs": [
        {
          "output_type": "stream",
          "name": "stdout",
          "text": [
            "Looking in indexes: https://pypi.org/simple, https://us-python.pkg.dev/colab-wheels/public/simple/\n",
            "Collecting transformers==2.10.0\n",
            "  Downloading transformers-2.10.0-py3-none-any.whl (660 kB)\n",
            "\u001b[K     |████████████████████████████████| 660 kB 4.5 MB/s \n",
            "\u001b[?25hRequirement already satisfied: numpy in /usr/local/lib/python3.8/dist-packages (from transformers==2.10.0) (1.21.6)\n",
            "Collecting tokenizers==0.7.0\n",
            "  Downloading tokenizers-0.7.0-cp38-cp38-manylinux1_x86_64.whl (7.5 MB)\n",
            "\u001b[K     |████████████████████████████████| 7.5 MB 74.0 MB/s \n",
            "\u001b[?25hRequirement already satisfied: filelock in /usr/local/lib/python3.8/dist-packages (from transformers==2.10.0) (3.8.0)\n",
            "Requirement already satisfied: requests in /usr/local/lib/python3.8/dist-packages (from transformers==2.10.0) (2.23.0)\n",
            "Collecting sentencepiece\n",
            "  Downloading sentencepiece-0.1.97-cp38-cp38-manylinux_2_17_x86_64.manylinux2014_x86_64.whl (1.3 MB)\n",
            "\u001b[K     |████████████████████████████████| 1.3 MB 76.5 MB/s \n",
            "\u001b[?25hCollecting sacremoses\n",
            "  Downloading sacremoses-0.0.53.tar.gz (880 kB)\n",
            "\u001b[K     |████████████████████████████████| 880 kB 79.9 MB/s \n",
            "\u001b[?25hRequirement already satisfied: regex!=2019.12.17 in /usr/local/lib/python3.8/dist-packages (from transformers==2.10.0) (2022.6.2)\n",
            "Requirement already satisfied: tqdm>=4.27 in /usr/local/lib/python3.8/dist-packages (from transformers==2.10.0) (4.64.1)\n",
            "Requirement already satisfied: chardet<4,>=3.0.2 in /usr/local/lib/python3.8/dist-packages (from requests->transformers==2.10.0) (3.0.4)\n",
            "Requirement already satisfied: urllib3!=1.25.0,!=1.25.1,<1.26,>=1.21.1 in /usr/local/lib/python3.8/dist-packages (from requests->transformers==2.10.0) (1.24.3)\n",
            "Requirement already satisfied: certifi>=2017.4.17 in /usr/local/lib/python3.8/dist-packages (from requests->transformers==2.10.0) (2022.9.24)\n",
            "Requirement already satisfied: idna<3,>=2.5 in /usr/local/lib/python3.8/dist-packages (from requests->transformers==2.10.0) (2.10)\n",
            "Requirement already satisfied: six in /usr/local/lib/python3.8/dist-packages (from sacremoses->transformers==2.10.0) (1.15.0)\n",
            "Requirement already satisfied: click in /usr/local/lib/python3.8/dist-packages (from sacremoses->transformers==2.10.0) (7.1.2)\n",
            "Requirement already satisfied: joblib in /usr/local/lib/python3.8/dist-packages (from sacremoses->transformers==2.10.0) (1.2.0)\n",
            "Building wheels for collected packages: sacremoses\n",
            "  Building wheel for sacremoses (setup.py) ... \u001b[?25l\u001b[?25hdone\n",
            "  Created wheel for sacremoses: filename=sacremoses-0.0.53-py3-none-any.whl size=895260 sha256=04957705f6b68b2f872979495e8f2687a6e9b07c45e009771f02bb3e2e67eaf3\n",
            "  Stored in directory: /root/.cache/pip/wheels/82/ab/9b/c15899bf659ba74f623ac776e861cf2eb8608c1825ddec66a4\n",
            "Successfully built sacremoses\n",
            "Installing collected packages: tokenizers, sentencepiece, sacremoses, transformers\n",
            "  Attempting uninstall: tokenizers\n",
            "    Found existing installation: tokenizers 0.13.2\n",
            "    Uninstalling tokenizers-0.13.2:\n",
            "      Successfully uninstalled tokenizers-0.13.2\n",
            "Successfully installed sacremoses-0.0.53 sentencepiece-0.1.97 tokenizers-0.7.0 transformers-2.10.0\n"
          ]
        }
      ]
    },
    {
      "cell_type": "code",
      "source": [
        "!python generate_full_sentence.py --algorithm INLP"
      ],
      "metadata": {
        "colab": {
          "base_uri": "https://localhost:8080/"
        },
        "id": "9t6vW3hpmjg2",
        "outputId": "ed835d61-74c5-4698-c951-73bf0d723312"
      },
      "execution_count": 38,
      "outputs": [
        {
          "output_type": "stream",
          "name": "stdout",
          "text": [
            "2022-12-10 20:14:18.129299: I tensorflow/core/util/util.cc:169] oneDNN custom operations are on. You may see slightly different numerical results due to floating-point round-off errors from different computation orders. To turn them off, set the environment variable `TF_ENABLE_ONEDNN_OPTS=0`.\n",
            "Downloading: 100% 1.04M/1.04M [00:00<00:00, 6.73MB/s]\n",
            "Downloading: 100% 456k/456k [00:00<00:00, 3.97MB/s]\n",
            "Downloading: 100% 665/665 [00:00<00:00, 598kB/s]\n",
            "Downloading: 100% 548M/548M [00:09<00:00, 54.8MB/s]\n",
            "../../res/global_res/\n",
            "ratio: 0.75\n",
            "Traceback (most recent call last):\n",
            "  File \"generate_full_sentence.py\", line 321, in <module>\n",
            "    generate_sentences(tokenizer, model, embedding, P, device, args.algorithm, f)\n",
            "  File \"generate_full_sentence.py\", line 211, in generate_sentences\n",
            "    scores = model.postprocess_next_token_scores(\n",
            "  File \"/usr/local/lib/python3.8/dist-packages/torch/nn/modules/module.py\", line 1265, in __getattr__\n",
            "    raise AttributeError(\"'{}' object has no attribute '{}'\".format(\n",
            "AttributeError: 'GPT2LMHeadModel' object has no attribute 'postprocess_next_token_scores'\n"
          ]
        }
      ]
    },
    {
      "cell_type": "markdown",
      "source": [
        "##Word Vector Debiasing:"
      ],
      "metadata": {
        "id": "27IJB-EuNsEj"
      }
    },
    {
      "cell_type": "code",
      "source": [
        "%cd /content/drive/MyDrive/MLsec_project/BiasMitigation/LM_bias/nullspace_projection"
      ],
      "metadata": {
        "colab": {
          "base_uri": "https://localhost:8080/"
        },
        "id": "ct1eUdA7aMxF",
        "outputId": "d03ebf71-12b6-4a61-ae71-a1311f3ee783"
      },
      "execution_count": 11,
      "outputs": [
        {
          "output_type": "stream",
          "name": "stdout",
          "text": [
            "/content/drive/MyDrive/MLsec_project/BiasMitigation/LM_bias/nullspace_projection\n"
          ]
        }
      ]
    },
    {
      "cell_type": "code",
      "source": [
        "!python src/data/to_word2vec_format.py data/embeddings/glove.42B.300d.txt"
      ],
      "metadata": {
        "id": "gJi4V7OoZ0jH"
      },
      "execution_count": 12,
      "outputs": []
    },
    {
      "cell_type": "code",
      "source": [
        "!python src/data/filter_vecs.py \\\n",
        "--input-path data/embeddings/glove.42B.300d.txt \\\n",
        "--output-dir data/embeddings/ \\\n",
        "--top-k 150000  \\\n",
        "--keep-inherently-gendered  \\\n",
        "--keep-names "
      ],
      "metadata": {
        "colab": {
          "base_uri": "https://localhost:8080/"
        },
        "id": "VY-U1w2fa8H3",
        "outputId": "9c3c371e-31a8-4015-daa7-dfb1967e0020"
      },
      "execution_count": 13,
      "outputs": [
        {
          "output_type": "stream",
          "name": "stdout",
          "text": [
            "tcmalloc: large alloc 2300993536 bytes == 0x3d80000 @  0x7f26ba94d001 0x7f26b783222f 0x7f26b788a68b 0x7f26b788b4f7 0x7f26b792d913 0x5aae14 0x49abe4 0x55d078 0x5d8941 0x49abe4 0x4fd8b5 0x49abe4 0x55cd91 0x5d8941 0x49abe4 0x5d8868 0x4990ca 0x55cd91 0x55d743 0x642630 0x6426ae 0x644b78 0x64511c 0x677e5e 0x678029 0x7f26ba548c87 0x5e1baa\n",
            "1917494it [00:49, 38676.67it/s]\n",
            "tcmalloc: large alloc 1312202752 bytes == 0x978a2000 @  0x7f26ba94b1e7 0x7f26b783214e 0x7f26b78900b5 0x7f26b78906f9 0x7f26b793139f 0x5aae14 0x4997c7 0x5d8868 0x4990ca 0x5d8868 0x4990ca 0x55cd91 0x55d743 0x642630 0x6426ae 0x644b78 0x64511c 0x677e5e 0x678029 0x7f26ba548c87 0x5e1baa\n",
            "150000it [00:28, 5264.11it/s]\n",
            "473it [00:00, 3075.50it/s]\n"
          ]
        }
      ]
    },
    {
      "cell_type": "code",
      "source": [
        "%cd /content/drive/MyDrive/MLsec_project/BiasMitigation/LM_bias/nullspace_projection/src"
      ],
      "metadata": {
        "colab": {
          "base_uri": "https://localhost:8080/"
        },
        "id": "5437POutNvGW",
        "outputId": "9e157260-a53d-4f02-a292-d8f8fe9d2429"
      },
      "execution_count": 14,
      "outputs": [
        {
          "output_type": "stream",
          "name": "stdout",
          "text": [
            "/content/drive/MyDrive/MLsec_project/BiasMitigation/LM_bias/nullspace_projection/src\n"
          ]
        }
      ]
    },
    {
      "cell_type": "code",
      "source": [
        "!pwd"
      ],
      "metadata": {
        "colab": {
          "base_uri": "https://localhost:8080/"
        },
        "id": "w4XfNZAnOKnH",
        "outputId": "52dcd877-6239-45e6-b339-569bb80fe299"
      },
      "execution_count": 15,
      "outputs": [
        {
          "output_type": "stream",
          "name": "stdout",
          "text": [
            "/content/drive/MyDrive/MLsec_project/BiasMitigation/LM_bias/nullspace_projection/src\n"
          ]
        }
      ]
    },
    {
      "cell_type": "code",
      "source": [
        "import sys\n",
        "sys.path.append(\"../src\")\n",
        "sys.path.append(\"../data/embeddings\")\n",
        "import classifier\n",
        "import debias\n",
        "#import debias_old as debias\n",
        "import gensim\n",
        "import codecs\n",
        "import json\n",
        "from gensim.models.keyedvectors import Word2VecKeyedVectors\n",
        "from gensim.models import KeyedVectors\n",
        "import numpy as np\n",
        "import random\n",
        "import sklearn\n",
        "from sklearn import model_selection\n",
        "from sklearn import cluster\n",
        "from sklearn import metrics\n",
        "from sklearn.manifold import TSNE\n",
        "from sklearn.svm import LinearSVC, SVC\n",
        "from sklearn.linear_model import SGDClassifier, Perceptron, LogisticRegression, PassiveAggressiveClassifier\n",
        "from sklearn.discriminant_analysis import LinearDiscriminantAnalysis\n",
        "from sklearn.neural_network import MLPClassifier\n",
        "from sklearn.metrics.pairwise import cosine_similarity\n",
        "from sklearn.decomposition import PCA\n",
        "import scipy\n",
        "from scipy import linalg\n",
        "from scipy.stats.stats import pearsonr\n",
        "import tqdm\n",
        "import matplotlib\n",
        "import matplotlib.pyplot as plt\n",
        "%matplotlib inline\n",
        "matplotlib.rcParams['agg.path.chunksize'] = 10000\n",
        "from sklearn.utils import shuffle\n",
        "\n",
        "#import warnings\n",
        "#warnings.filterwarnings(\"ignore\")\n",
        "%load_ext autoreload\n",
        "%autoreload"
      ],
      "metadata": {
        "colab": {
          "base_uri": "https://localhost:8080/"
        },
        "id": "dV2jDH0POQgB",
        "outputId": "fb7ee3eb-e34e-4dde-e82b-42201ca2cf46"
      },
      "execution_count": 16,
      "outputs": [
        {
          "output_type": "stream",
          "name": "stdout",
          "text": [
            "The autoreload extension is already loaded. To reload it, use:\n",
            "  %reload_ext autoreload\n"
          ]
        }
      ]
    },
    {
      "cell_type": "code",
      "source": [
        "def tsne(vecs, labels, title=\"\", ind2label = None, words = None, metric = \"l2\"):\n",
        "\n",
        "  tsne = TSNE(n_components=2)#, angle = 0.5, perplexity = 20)\n",
        "  vecs_2d = tsne.fit_transform(vecs)\n",
        "  label_names = sorted(list(set(labels.tolist())))\n",
        "  num_labels = len(label_names)\n",
        "\n",
        "  names = sorted(set(labels.tolist()))\n",
        "\n",
        "  plt.figure(figsize=(6, 5))\n",
        "  colors = \"red\", \"blue\"\n",
        "  for i, c, label in zip(sorted(set(labels.tolist())), colors, names):\n",
        "     plt.scatter(vecs_2d[labels == i, 0], vecs_2d[labels == i, 1], c=c,\n",
        "                label=label if ind2label is None else ind2label[label], alpha = 0.3, marker = \"s\" if i==0 else \"o\")\n",
        "     plt.legend(loc = \"upper right\")\n",
        "\n",
        "  plt.title(title)\n",
        "  plt.savefig(\"embeddings.{}.png\".format(title), dpi=600)\n",
        "  plt.show()\n",
        "  return vecs_2d"
      ],
      "metadata": {
        "id": "6NIfIj-XOT3X"
      },
      "execution_count": 17,
      "outputs": []
    },
    {
      "cell_type": "code",
      "source": [
        "def load_word_vectors(fname):\n",
        "    \n",
        "    model = KeyedVectors.load_word2vec_format(fname, binary=False)\n",
        "    vecs = model.vectors\n",
        "    words = list(model.vocab.keys())\n",
        "    return model, vecs, words\n",
        "\n",
        "def project_on_gender_subspaces(gender_vector, model: Word2VecKeyedVectors, n = 2500):\n",
        "    \n",
        "    group1 = model.similar_by_vector(gender_vector, topn = n, restrict_vocab=None)\n",
        "    group2 = model.similar_by_vector(-gender_vector, topn = n, restrict_vocab=None)\n",
        "    \n",
        "    all_sims = model.similar_by_vector(gender_vector, topn = len(model.vectors), restrict_vocab=None)\n",
        "    eps = 0.03\n",
        "    idx = [i for i in range(len(all_sims)) if abs(all_sims[i][1]) < eps]\n",
        "    samp = set(np.random.choice(idx, size = n))\n",
        "    neut = [s for i,s in enumerate(all_sims) if i in samp]\n",
        "    return group1, group2, neut\n",
        "\n",
        "def get_vectors(word_list: list, model: Word2VecKeyedVectors):\n",
        "    \n",
        "    vecs = []\n",
        "    for w in word_list:\n",
        "        \n",
        "        vecs.append(model[w])\n",
        "    \n",
        "    vecs = np.array(vecs)\n",
        "\n",
        "    return vecs\n",
        "    \n",
        "def get_bias_by_neighbors(model, v, gender_direction, topn): \n",
        "    \n",
        "    neighbors = model.similar_by_vector(v, topn = topn) \n",
        "    neighbors_words = [n for n, _ in neighbors]\n",
        "    \n",
        "    #bias = len([n for n in neighbors_words if n in gendered_words])\n",
        "    bias = len([n for n in neighbors_words if model.cosine_similarities(model[n], [gender_direction])[0] > 0])\n",
        "    bias /= (1.*topn)\n",
        "    return bias\n",
        "\n",
        "\n",
        "def save_in_word2vec_format(vecs: np.ndarray, words: np.ndarray, fname: str):\n",
        "\n",
        "\n",
        "    with open(fname, \"w\", encoding = \"utf-8\") as f:\n",
        "\n",
        "        f.write(str(len(vecs)) + \" \" + \"300\" + \"\\n\")\n",
        "        for i, (v,w) in tqdm.tqdm_notebook(enumerate(zip(vecs, words))):\n",
        "\n",
        "            vec_as_str = \" \".join([str(x) for x in v])\n",
        "            f.write(w + \" \" + vec_as_str + \"\\n\")"
      ],
      "metadata": {
        "id": "9rDJbzxXOcgU"
      },
      "execution_count": 18,
      "outputs": []
    },
    {
      "cell_type": "markdown",
      "source": [
        "###Load Word vectors"
      ],
      "metadata": {
        "id": "h3Yy0eEfOhk0"
      }
    },
    {
      "cell_type": "code",
      "source": [
        "!pwd"
      ],
      "metadata": {
        "colab": {
          "base_uri": "https://localhost:8080/"
        },
        "id": "GtHKOcrXO17p",
        "outputId": "dfcdfbe6-d214-4629-fb6f-ac663bd797bb"
      },
      "execution_count": 19,
      "outputs": [
        {
          "output_type": "stream",
          "name": "stdout",
          "text": [
            "/content/drive/MyDrive/MLsec_project/BiasMitigation/LM_bias/nullspace_projection/src\n"
          ]
        }
      ]
    },
    {
      "cell_type": "code",
      "source": [
        "# 150k top vectors (with gender-typical words) - used for training\n",
        "\n",
        "model, vecs, words = load_word_vectors(fname = \"../data/embeddings/vecs.filtered.txt\")\n",
        "\n",
        "# only gendered vectors\n",
        "\n",
        "model_gendered, _, _ = load_word_vectors(fname = \"../data/embeddings/vecs.gendered.txt\")"
      ],
      "metadata": {
        "id": "lhxsRWHYOpQ2"
      },
      "execution_count": 20,
      "outputs": []
    },
    {
      "cell_type": "markdown",
      "source": [
        "###Collect Biased Words"
      ],
      "metadata": {
        "id": "3bUSwWNjdk4-"
      }
    },
    {
      "cell_type": "code",
      "source": [
        "num_vectors_per_class = 7500\n",
        "\n",
        "by_pca = False\n",
        "if by_pca:\n",
        "    pairs = [(\"male\", \"female\"), (\"masculine\", \"feminine\"), (\"he\", \"she\"), (\"him\", \"her\")]\n",
        "    gender_vecs = [model[p[0]] - model[p[1]] for p in pairs]\n",
        "    pca = PCA(n_components=1)\n",
        "    pca.fit(gender_vecs)\n",
        "    gender_direction = pca.components_[0]\n",
        "    \n",
        "else:\n",
        "    gender_direction = model[\"he\"]-model[\"she\"] \n",
        "\n",
        "\n",
        "gender_unit_vec = gender_direction/np.linalg.norm(gender_direction)\n",
        "masc_words_and_scores, fem_words_and_scores, neut_words_and_scores = project_on_gender_subspaces(gender_direction, model, n = num_vectors_per_class)\n",
        "\n",
        "masc_words, masc_scores = list(zip(*masc_words_and_scores))\n",
        "neut_words, neut_scores = list(zip(*neut_words_and_scores))\n",
        "fem_words, fem_scores = list(zip(*fem_words_and_scores))\n",
        "masc_vecs, fem_vecs = get_vectors(masc_words, model), get_vectors(fem_words, model)\n",
        "neut_vecs = get_vectors(neut_words, model)\n",
        "\n",
        "n = min(3000, num_vectors_per_class)\n",
        "all_significantly_biased_words = masc_words[:n] + fem_words[:n]\n",
        "all_significantly_biased_vecs =  np.concatenate((masc_vecs[:n], fem_vecs[:n]))\n",
        "all_significantly_biased_labels = np.concatenate((np.ones(n, dtype = int),\n",
        "                                                  np.zeros(n, dtype = int)))\n",
        "\n",
        "all_significantly_biased_words, all_significantly_biased_vecs, all_significantly_biased_labels = sklearn.utils.shuffle(\n",
        "all_significantly_biased_words, all_significantly_biased_vecs, all_significantly_biased_labels)\n",
        "#print(np.random.choice(masc_words, size = 75))\n",
        "print(\"TOP MASC\")\n",
        "print(masc_words[:50])\n",
        "#print(\"LAST MASC\")\n",
        "#print(masc_words[-120:])\n",
        "print(\"-------------------------\")\n",
        "#print(np.random.choice(fem_words, size = 75))\n",
        "print(\"TOP FEM\")\n",
        "print(fem_words[:50])\n",
        "#print(\"LAST FEM\")\n",
        "#print(fem_words[-120:])\n",
        "print(\"-------------------------\")\n",
        "#print(np.random.choice(neut_words, size = 75))\n",
        "print(neut_words[:50])"
      ],
      "metadata": {
        "colab": {
          "base_uri": "https://localhost:8080/"
        },
        "id": "6KwDv0DHdn35",
        "outputId": "5cdba9f8-6465-475e-d496-f1e5920dd8cd"
      },
      "execution_count": 21,
      "outputs": [
        {
          "output_type": "stream",
          "name": "stdout",
          "text": [
            "TOP MASC\n",
            "('drafted', 'qb', 'soriano', 'himself', 'cardinals', 'giants', 'he', 'bullpen', 'sabean', 'jagr', 'muhammad', 'alou', 'rangers', 'defensive', 'draft', 'belichick', 'rookie', 'ratzinger', 'obp', 'santonio', 'muhammed', 'yankees', 'outfielder', 'preached', 'playmaker', 'lineman', 'offensive', 'wr', 'steelers', 'redskins', 'rushers', 'his', 'punter', 'anquan', 'boldin', 'bochy', 'caesarea', 'nfl', 'umenyiora', 'laurinaitis', 'flacco', 'rc', 'eusebius', 'packers', 'lhp', 'homers', 'mitre', 'linebacker', 'rhp', 'manny')\n",
            "-------------------------\n",
            "TOP FEM\n",
            "('nichole', 'ftv', 'renee', 'sophie', 'christina', 'marie', 'pregnant', 'nicole', 'samantha', 'denise', 'sassy', 'madeline', 'alicia', 'lynette', 'xoxo', 'melanie', 'michelle', 'missy', 'kimberly', 'melissa', 'kayla', 'angelina', 'kristin', 'jennifer', 'emma', 'katie', 'pregnancy', 'jessica', 'heidi', 'tina', 'mandy', 'erika', 'maggie', 'shes', 'elaine', 'julie', 'vanessa', 'actress', 'leanne', 'kristina', 'faye', 'alexandra', 'tanya', 'fiona', 'rebecca', 'cassie', 'cindy', 'janice', 'danielle', 'ballerina')\n",
            "-------------------------\n",
            "('hindustani', 'tattersall', 'oboe', 'turtles', 'christo', 'fits', 'educational', 'pedagogy', 'puntos', 'montalbano', 'afrika', 'gunsmoke', 'bcv', 'tb', 'colleyville', 'regurgitating', 'asker', 'escambia', 'althoff', 'milberg', 'unrwa', 'beo', 'cafo', 'ileus', 'caprivi', 'quoth', 'multiplay', 'hyperbola', 'hundredth', 'beechwood', 'ited', 'ghosted', 'shoehorned', 'farscape', 'westboro', 'southgate', 'dinsmore', 'segments', 'thu', 'commode', 'jillette', 'aldgate', 'fourths', 'facey', 'kaden', 'anadromous', 'corbels', 'connemara', 'discipling', 'rhodri')\n"
          ]
        }
      ]
    },
    {
      "cell_type": "markdown",
      "source": [
        "This code implements a method for identifying gender bias in a pre-trained language model (such as word2vec or GloVe). It does this by first defining the direction of the gender bias in the model's vector space. This direction is calculated either by taking the difference between the vectors for \"he\" and \"she\", or by using Principal Component Analysis (PCA) on a set of gender-related word pairs.\n",
        "\n",
        "Next, the code projects a set of words onto the gender direction, and then sorts the words by their projection score. This allows the code to identify words that are strongly associated with one gender or the other. Finally, the code selects a subset of the most strongly associated words, and then shuffles them together with their corresponding labels (1 for male-associated words, 0 for female-associated words). This shuffled dataset can then be used for further analysis or training of a classifier to detect gender bias in text."
      ],
      "metadata": {
        "id": "EqPRJQpUeNCE"
      }
    },
    {
      "cell_type": "code",
      "source": [
        "print(masc_scores[:10])\n",
        "print(masc_scores[-10:])\n",
        "print(neut_scores[:10])"
      ],
      "metadata": {
        "colab": {
          "base_uri": "https://localhost:8080/"
        },
        "id": "jDv3A3HDeUyU",
        "outputId": "4cfab91e-9ef2-4562-c4a0-2fcb1e8be9ec"
      },
      "execution_count": 22,
      "outputs": [
        {
          "output_type": "stream",
          "name": "stdout",
          "text": [
            "(0.307711660861969, 0.2944546341896057, 0.2902606725692749, 0.2880435883998871, 0.28346988558769226, 0.2792784869670868, 0.27867886424064636, 0.2778513431549072, 0.2777228057384491, 0.2761598825454712)\n",
            "(0.12253308296203613, 0.1225176602602005, 0.1225091814994812, 0.1225038692355156, 0.12250122427940369, 0.12250053882598877, 0.12249962985515594, 0.12249766290187836, 0.12249290943145752, 0.12249205261468887)\n",
            "(0.029984287917613983, 0.029984060674905777, 0.029981739819049835, 0.0299735888838768, 0.02996966615319252, 0.02995928004384041, 0.029955580830574036, 0.02995210699737072, 0.02995065040886402, 0.029945939779281616)\n"
          ]
        }
      ]
    },
    {
      "cell_type": "markdown",
      "source": [
        "###Perform train-dev-test split"
      ],
      "metadata": {
        "id": "okZa0PASejPF"
      }
    },
    {
      "cell_type": "code",
      "source": [
        "random.seed(0)\n",
        "np.random.seed(0)\n",
        "\n",
        "X = np.concatenate((masc_vecs, fem_vecs, neut_vecs), axis = 0)\n",
        "#X = (X - np.mean(X, axis = 0, keepdims = True)) / np.std(X, axis = 0)\n",
        "y_masc = np.ones(masc_vecs.shape[0], dtype = int)\n",
        "y_fem = np.zeros(fem_vecs.shape[0], dtype = int)\n",
        "y_neut = -np.ones(neut_vecs.shape[0], dtype = int)\n",
        "#y = np.concatenate((masc_scores, fem_scores, neut_scores))#np.concatenate((y_masc, y_fem))\n",
        "y = np.concatenate((y_masc, y_fem, y_neut))\n",
        "X_train_dev, X_test, y_train_dev, Y_test = sklearn.model_selection.train_test_split(X, y, test_size = 0.3, random_state = 0)\n",
        "X_train, X_dev, Y_train, Y_dev = sklearn.model_selection.train_test_split(X_train_dev, y_train_dev, test_size = 0.3, random_state = 0)\n",
        "print(\"Train size: {}; Dev size: {}; Test size: {}\".format(X_train.shape[0], X_dev.shape[0], X_test.shape[0]))"
      ],
      "metadata": {
        "colab": {
          "base_uri": "https://localhost:8080/"
        },
        "id": "mk1t_kwgemu2",
        "outputId": "7d73ff7d-e910-423c-bb2c-951cedfab8b6"
      },
      "execution_count": 23,
      "outputs": [
        {
          "output_type": "stream",
          "name": "stdout",
          "text": [
            "Train size: 10761; Dev size: 4612; Test size: 6589\n"
          ]
        }
      ]
    },
    {
      "cell_type": "markdown",
      "source": [
        "###Debias"
      ],
      "metadata": {
        "id": "MfclPcfQet_E"
      }
    },
    {
      "cell_type": "code",
      "source": [
        "gender_clf = LinearSVC\n",
        "#gender_clf = SGDClassifier\n",
        "#gender_clf = LogisticRegression\n",
        "#gender_clf = LinearDiscriminantAnalysis\n",
        "#gender_clf = Perceptron\n",
        "\n",
        "params_svc = {'fit_intercept': False, 'class_weight': None, \"dual\": False, 'random_state': 0}\n",
        "params_sgd = {'fit_intercept': False, 'class_weight': None, 'max_iter': 1000, 'random_state': 0}\n",
        "params = params_svc\n",
        "#params = {'loss': 'hinge', 'n_jobs': 16, 'penalty': 'l2', 'max_iter': 2500, 'random_state': 0}\n",
        "#params = {}\n",
        "n = 35\n",
        "min_acc = 0\n",
        "is_autoregressive = True\n",
        "dropout_rate = 0\n",
        "\n",
        "P, rowspace_projs, Ws = debias.get_debiasing_projection(gender_clf, params, n, 300, is_autoregressive, min_acc,\n",
        "                                    X_train, Y_train, X_dev, Y_dev,\n",
        "                                       Y_train_main=None, Y_dev_main=None, \n",
        "                                        by_class = False, dropout_rate = dropout_rate)"
      ],
      "metadata": {
        "colab": {
          "base_uri": "https://localhost:8080/"
        },
        "id": "wG-dRY07ev63",
        "outputId": "b6741e3d-b25b-4fc9-eb81-78d033d3c20b"
      },
      "execution_count": 24,
      "outputs": [
        {
          "output_type": "stream",
          "name": "stderr",
          "text": [
            "iteration: 34, accuracy: 0.33065915004336516: 100%|██████████| 35/35 [00:49<00:00,  1.42s/it]\n"
          ]
        }
      ]
    },
    {
      "cell_type": "code",
      "source": [
        "np.save(\"P.glove.dim=300.iters=35.npy\", P)"
      ],
      "metadata": {
        "id": "_XKgDU_ifPo8"
      },
      "execution_count": 25,
      "outputs": []
    },
    {
      "cell_type": "markdown",
      "source": [
        "### Test the quality of the debiasing."
      ],
      "metadata": {
        "id": "fXFE70r3fYlH"
      }
    },
    {
      "cell_type": "markdown",
      "source": [
        "#### Perform t-sne"
      ],
      "metadata": {
        "id": "LBdW8GkEfZ6x"
      }
    },
    {
      "cell_type": "code",
      "source": [
        "def perform_purity_test(vecs, k, labels_true):\n",
        "        np.random.seed(0)\n",
        "        clustering = sklearn.cluster.KMeans(n_clusters = k)\n",
        "        clustering.fit(vecs)\n",
        "        labels_pred = clustering.labels_\n",
        "        score = sklearn.metrics.homogeneity_score(labels_true, labels_pred)\n",
        "        return score\n",
        "\n",
        "def compute_v_measure(vecs, labels_true, k=2):\n",
        "    \n",
        "        np.random.seed(0)\n",
        "        clustering = sklearn.cluster.KMeans(n_clusters = k)\n",
        "        clustering.fit(vecs)\n",
        "        labels_pred = clustering.labels_\n",
        "        return sklearn.metrics.v_measure_score(labels_true, labels_pred)\n",
        "    \n",
        "\n",
        "# remove neutral class, keep only male and female biased\n",
        "\n",
        "X_dev = X_dev[Y_dev != -1]\n",
        "X_train = X_train[Y_train != -1]\n",
        "X_test = X_test[Y_test != -1]\n",
        "\n",
        "\n",
        "Y_dev = Y_dev[Y_dev != -1]\n",
        "Y_train = Y_train[Y_train != -1]\n",
        "Y_test = Y_test[Y_test != -1]\n",
        "\n",
        "\n",
        "M =  2000\n",
        "ind2label =  {1: \"Male-biased\", 0: \"Female-biased\"}\n",
        "#tsne_before = tsne(all_significantly_biased_vecs[:M], all_significantly_biased_labels[:M], title = \"Original (t=0)\", ind2label =ind2label )\n",
        "tsne_before = tsne(all_significantly_biased_vecs[:M], all_significantly_biased_labels[:M], title = \"Original (t=0)\", ind2label =ind2label )\n",
        "\n",
        "\n",
        "X_dev_cleaned = (P.dot(X_dev.T)).T \n",
        "X_test_cleaned = (P.dot(X_test.T)).T \n",
        "X_trained_cleaned = (P.dot(X_train.T)).T \n",
        "all_significantly_biased_cleaned = P.dot(all_significantly_biased_vecs.T).T\n",
        "\n",
        "#tsne_after = tsne_by_gender(all_significantly_biased_cleaned[:M], all_significantly_biased_labels[:M], title = \"Projected (t = {})\".format(n))\n",
        "tsne_after = tsne(all_significantly_biased_cleaned[:M], all_significantly_biased_labels[:M], title = \"Projected (t={})\".format(n), ind2label =ind2label )\n",
        "\n",
        "#tsne_projection = tsne_by_gender(all_biased_cleaned, all_significantly_biased_labels,title = \"after (all)\", words = all_significantly_biased_words)\n",
        "\n",
        "print(\"V-measure-before (TSNE space): {}\".format(compute_v_measure(tsne_before, all_significantly_biased_labels[:M])))\n",
        "print(\"V-measure-after (TSNE space): {}\".format(compute_v_measure(tsne_after, all_significantly_biased_labels[:M])))\n",
        "\n",
        "#print(\"V-measure-before (original space): {}\".format(compute_v_measure(all_significantly_biased_vecs[:M], all_significantly_biased_labels[:M]), k = 2))\n",
        "#print(\"V-measure-after (original space): {}\".format(compute_v_measure(all_significantly_biased_cleaned[:M], all_significantly_biased_labels[:M]), k = 2))\n",
        "print(\"V-measure-before (original space): {}\".format(compute_v_measure(all_significantly_biased_vecs[:M], all_significantly_biased_labels[:M]), k = 2))\n",
        "print(\"V-measure-after (original space): {}\".format(compute_v_measure(X_test_cleaned[:M], Y_test[:M]), k = 2))\n",
        "\n",
        "rank_before = np.linalg.matrix_rank(X_train)\n",
        "rank_after = np.linalg.matrix_rank(X_trained_cleaned)\n",
        "print(\"Rank before: {}; Rank after: {}\".format(rank_before, rank_after))"
      ],
      "metadata": {
        "id": "D-b1sVTpzJTG"
      },
      "execution_count": null,
      "outputs": []
    },
    {
      "cell_type": "code",
      "source": [
        "for t in [1,3,12,18,25,35]:\n",
        "    p = debias.get_projection_to_intersection_of_nullspaces(rowspace_projs[:t], 300)\n",
        "    tsne_after = tsne(p.dot(all_significantly_biased_vecs[:M].T).T, all_significantly_biased_labels[:M], title = \"Projected (t={})\".format(t), ind2label =ind2label )"
      ],
      "metadata": {
        "id": "AD1I_-1nzNqw"
      },
      "execution_count": null,
      "outputs": []
    },
    {
      "cell_type": "markdown",
      "source": [
        "##Debiased representation"
      ],
      "metadata": {
        "id": "iHLWPZ0CiE1a"
      }
    },
    {
      "cell_type": "code",
      "source": [
        "!pwd"
      ],
      "metadata": {
        "colab": {
          "base_uri": "https://localhost:8080/"
        },
        "id": "0Sk6XH_KiNRw",
        "outputId": "c9180568-7f6e-4ea5-b6e7-8de6ca4b73bb"
      },
      "execution_count": 28,
      "outputs": [
        {
          "output_type": "stream",
          "name": "stdout",
          "text": [
            "/content/drive/MyDrive/MLsec_project/BiasMitigation/LM_bias/nullspace_projection/src\n"
          ]
        }
      ]
    },
    {
      "cell_type": "code",
      "source": [
        "%cd /content/drive/MyDrive/MLsec_project/BiasMitigation/LM_bias/nullspace_projection"
      ],
      "metadata": {
        "colab": {
          "base_uri": "https://localhost:8080/"
        },
        "id": "QjY_zNXoiQK8",
        "outputId": "d66a19e5-5b88-4207-8c0e-752597379315"
      },
      "execution_count": 29,
      "outputs": [
        {
          "output_type": "stream",
          "name": "stdout",
          "text": [
            "/content/drive/MyDrive/MLsec_project/BiasMitigation/LM_bias/nullspace_projection\n"
          ]
        }
      ]
    },
    {
      "cell_type": "code",
      "source": [
        "!pwd"
      ],
      "metadata": {
        "colab": {
          "base_uri": "https://localhost:8080/"
        },
        "id": "YGrQJJgPiTNj",
        "outputId": "b4a78f44-451e-49d3-d566-5bd1183ba7bf"
      },
      "execution_count": 30,
      "outputs": [
        {
          "output_type": "stream",
          "name": "stdout",
          "text": [
            "/content/drive/MyDrive/MLsec_project/BiasMitigation/LM_bias/nullspace_projection\n"
          ]
        }
      ]
    },
    {
      "cell_type": "code",
      "source": [
        "!ls"
      ],
      "metadata": {
        "colab": {
          "base_uri": "https://localhost:8080/"
        },
        "id": "M0uHV4ooiU-t",
        "outputId": "a382d667-968e-4c9e-99f9-09bac7e3f771"
      },
      "execution_count": 31,
      "outputs": [
        {
          "output_type": "stream",
          "name": "stdout",
          "text": [
            "data\t\t  LICENSE    README.md\t       run_bias_bios.sh\t\t  src\n",
            "download_data.sh  notebooks  requirements.txt  run_deepmoji_debiasing.sh\n"
          ]
        }
      ]
    },
    {
      "cell_type": "code",
      "source": [
        "!pip install docopt"
      ],
      "metadata": {
        "colab": {
          "base_uri": "https://localhost:8080/"
        },
        "id": "AOduNzTtjJnP",
        "outputId": "42b6ad6b-5db3-4b77-f1ed-defaddd86da0"
      },
      "execution_count": 33,
      "outputs": [
        {
          "output_type": "stream",
          "name": "stdout",
          "text": [
            "Looking in indexes: https://pypi.org/simple, https://us-python.pkg.dev/colab-wheels/public/simple/\n",
            "Collecting docopt\n",
            "  Downloading docopt-0.6.2.tar.gz (25 kB)\n",
            "Building wheels for collected packages: docopt\n",
            "  Building wheel for docopt (setup.py) ... \u001b[?25l\u001b[?25hdone\n",
            "  Created wheel for docopt: filename=docopt-0.6.2-py2.py3-none-any.whl size=13723 sha256=fc3edb780818adf32a39902fcd2cf5c82a610f94a4c0436f951ea82416055240\n",
            "  Stored in directory: /root/.cache/pip/wheels/56/ea/58/ead137b087d9e326852a851351d1debf4ada529b6ac0ec4e8c\n",
            "Successfully built docopt\n",
            "Installing collected packages: docopt\n",
            "Successfully installed docopt-0.6.2\n"
          ]
        }
      ]
    },
    {
      "cell_type": "code",
      "source": [
        "!pip install allennlp"
      ],
      "metadata": {
        "colab": {
          "base_uri": "https://localhost:8080/"
        },
        "id": "W5cAGSKvjobp",
        "outputId": "1eaaea4c-dbb7-4b7d-df60-8a43b9091183"
      },
      "execution_count": 36,
      "outputs": [
        {
          "output_type": "stream",
          "name": "stdout",
          "text": [
            "Looking in indexes: https://pypi.org/simple, https://us-python.pkg.dev/colab-wheels/public/simple/\n",
            "Requirement already satisfied: allennlp in /usr/local/lib/python3.8/dist-packages (2.10.1)\n",
            "Requirement already satisfied: spacy<3.4,>=2.1.0 in /usr/local/lib/python3.8/dist-packages (from allennlp) (3.3.1)\n",
            "Requirement already satisfied: more-itertools>=8.12.0 in /usr/local/lib/python3.8/dist-packages (from allennlp) (9.0.0)\n",
            "Requirement already satisfied: sentencepiece>=0.1.96 in /usr/local/lib/python3.8/dist-packages (from allennlp) (0.1.97)\n",
            "Requirement already satisfied: cached-path<1.2.0,>=1.1.3 in /usr/local/lib/python3.8/dist-packages (from allennlp) (1.1.6)\n",
            "Requirement already satisfied: torchvision<0.14.0,>=0.8.1 in /usr/local/lib/python3.8/dist-packages (from allennlp) (0.13.1)\n",
            "Requirement already satisfied: tqdm>=4.62 in /usr/local/lib/python3.8/dist-packages (from allennlp) (4.64.1)\n",
            "Requirement already satisfied: tensorboardX>=1.2 in /usr/local/lib/python3.8/dist-packages (from allennlp) (2.5.1)\n",
            "Requirement already satisfied: protobuf<4.0.0,>=3.12.0 in /usr/local/lib/python3.8/dist-packages (from allennlp) (3.19.6)\n",
            "Requirement already satisfied: filelock<3.8,>=3.3 in /usr/local/lib/python3.8/dist-packages (from allennlp) (3.7.1)\n",
            "Requirement already satisfied: torch<1.13.0,>=1.10.0 in /usr/local/lib/python3.8/dist-packages (from allennlp) (1.12.1)\n",
            "Requirement already satisfied: scikit-learn>=1.0.1 in /usr/local/lib/python3.8/dist-packages (from allennlp) (1.0.2)\n",
            "Requirement already satisfied: h5py>=3.6.0 in /usr/local/lib/python3.8/dist-packages (from allennlp) (3.7.0)\n",
            "Requirement already satisfied: numpy>=1.21.4 in /usr/local/lib/python3.8/dist-packages (from allennlp) (1.21.6)\n",
            "Requirement already satisfied: requests>=2.28 in /usr/local/lib/python3.8/dist-packages (from allennlp) (2.28.1)\n",
            "Requirement already satisfied: huggingface-hub>=0.0.16 in /usr/local/lib/python3.8/dist-packages (from allennlp) (0.10.1)\n",
            "Requirement already satisfied: pytest>=6.2.5 in /usr/local/lib/python3.8/dist-packages (from allennlp) (7.2.0)\n",
            "Requirement already satisfied: base58>=2.1.1 in /usr/local/lib/python3.8/dist-packages (from allennlp) (2.1.1)\n",
            "Requirement already satisfied: jsonnet>=0.10.0 in /usr/local/lib/python3.8/dist-packages (from allennlp) (0.19.1)\n",
            "Requirement already satisfied: fairscale==0.4.6 in /usr/local/lib/python3.8/dist-packages (from allennlp) (0.4.6)\n",
            "Requirement already satisfied: wandb<0.13.0,>=0.10.0 in /usr/local/lib/python3.8/dist-packages (from allennlp) (0.12.21)\n",
            "Requirement already satisfied: dill>=0.3.4 in /usr/local/lib/python3.8/dist-packages (from allennlp) (0.3.6)\n",
            "Requirement already satisfied: traitlets>5.1.1 in /usr/local/lib/python3.8/dist-packages (from allennlp) (5.6.0)\n",
            "Requirement already satisfied: scipy>=1.7.3 in /usr/local/lib/python3.8/dist-packages (from allennlp) (1.7.3)\n",
            "Requirement already satisfied: nltk>=3.6.5 in /usr/local/lib/python3.8/dist-packages (from allennlp) (3.7)\n",
            "Requirement already satisfied: sacremoses in /usr/local/lib/python3.8/dist-packages (from allennlp) (0.0.53)\n",
            "Requirement already satisfied: typer>=0.4.1 in /usr/local/lib/python3.8/dist-packages (from allennlp) (0.4.2)\n",
            "Requirement already satisfied: lmdb>=1.2.1 in /usr/local/lib/python3.8/dist-packages (from allennlp) (1.4.0)\n",
            "Requirement already satisfied: transformers<4.21,>=4.1 in /usr/local/lib/python3.8/dist-packages (from allennlp) (4.20.1)\n",
            "Requirement already satisfied: termcolor==1.1.0 in /usr/local/lib/python3.8/dist-packages (from allennlp) (1.1.0)\n",
            "Requirement already satisfied: rich<13.0,>=12.1 in /usr/local/lib/python3.8/dist-packages (from cached-path<1.2.0,>=1.1.3->allennlp) (12.6.0)\n",
            "Requirement already satisfied: google-cloud-storage<3.0,>=1.32.0 in /usr/local/lib/python3.8/dist-packages (from cached-path<1.2.0,>=1.1.3->allennlp) (2.5.0)\n",
            "Requirement already satisfied: boto3<2.0,>=1.0 in /usr/local/lib/python3.8/dist-packages (from cached-path<1.2.0,>=1.1.3->allennlp) (1.26.27)\n",
            "Requirement already satisfied: jmespath<2.0.0,>=0.7.1 in /usr/local/lib/python3.8/dist-packages (from boto3<2.0,>=1.0->cached-path<1.2.0,>=1.1.3->allennlp) (1.0.1)\n",
            "Requirement already satisfied: s3transfer<0.7.0,>=0.6.0 in /usr/local/lib/python3.8/dist-packages (from boto3<2.0,>=1.0->cached-path<1.2.0,>=1.1.3->allennlp) (0.6.0)\n",
            "Requirement already satisfied: botocore<1.30.0,>=1.29.27 in /usr/local/lib/python3.8/dist-packages (from boto3<2.0,>=1.0->cached-path<1.2.0,>=1.1.3->allennlp) (1.29.27)\n",
            "Requirement already satisfied: python-dateutil<3.0.0,>=2.1 in /usr/local/lib/python3.8/dist-packages (from botocore<1.30.0,>=1.29.27->boto3<2.0,>=1.0->cached-path<1.2.0,>=1.1.3->allennlp) (2.8.2)\n",
            "Requirement already satisfied: urllib3<1.27,>=1.25.4 in /usr/local/lib/python3.8/dist-packages (from botocore<1.30.0,>=1.29.27->boto3<2.0,>=1.0->cached-path<1.2.0,>=1.1.3->allennlp) (1.26.13)\n",
            "Requirement already satisfied: google-resumable-media>=2.3.2 in /usr/local/lib/python3.8/dist-packages (from google-cloud-storage<3.0,>=1.32.0->cached-path<1.2.0,>=1.1.3->allennlp) (2.4.0)\n",
            "Requirement already satisfied: google-auth<3.0dev,>=1.25.0 in /usr/local/lib/python3.8/dist-packages (from google-cloud-storage<3.0,>=1.32.0->cached-path<1.2.0,>=1.1.3->allennlp) (2.15.0)\n",
            "Requirement already satisfied: google-cloud-core<3.0dev,>=2.3.0 in /usr/local/lib/python3.8/dist-packages (from google-cloud-storage<3.0,>=1.32.0->cached-path<1.2.0,>=1.1.3->allennlp) (2.3.2)\n",
            "Requirement already satisfied: google-api-core!=2.0.*,!=2.1.*,!=2.2.*,!=2.3.0,<3.0.0dev,>=1.31.5 in /usr/local/lib/python3.8/dist-packages (from google-cloud-storage<3.0,>=1.32.0->cached-path<1.2.0,>=1.1.3->allennlp) (2.8.2)\n",
            "Requirement already satisfied: googleapis-common-protos<2.0dev,>=1.56.2 in /usr/local/lib/python3.8/dist-packages (from google-api-core!=2.0.*,!=2.1.*,!=2.2.*,!=2.3.0,<3.0.0dev,>=1.31.5->google-cloud-storage<3.0,>=1.32.0->cached-path<1.2.0,>=1.1.3->allennlp) (1.57.0)\n",
            "Requirement already satisfied: cachetools<6.0,>=2.0.0 in /usr/local/lib/python3.8/dist-packages (from google-auth<3.0dev,>=1.25.0->google-cloud-storage<3.0,>=1.32.0->cached-path<1.2.0,>=1.1.3->allennlp) (5.2.0)\n",
            "Requirement already satisfied: rsa<5,>=3.1.4 in /usr/local/lib/python3.8/dist-packages (from google-auth<3.0dev,>=1.25.0->google-cloud-storage<3.0,>=1.32.0->cached-path<1.2.0,>=1.1.3->allennlp) (4.9)\n",
            "Requirement already satisfied: pyasn1-modules>=0.2.1 in /usr/local/lib/python3.8/dist-packages (from google-auth<3.0dev,>=1.25.0->google-cloud-storage<3.0,>=1.32.0->cached-path<1.2.0,>=1.1.3->allennlp) (0.2.8)\n",
            "Requirement already satisfied: six>=1.9.0 in /usr/local/lib/python3.8/dist-packages (from google-auth<3.0dev,>=1.25.0->google-cloud-storage<3.0,>=1.32.0->cached-path<1.2.0,>=1.1.3->allennlp) (1.15.0)\n",
            "Requirement already satisfied: google-crc32c<2.0dev,>=1.0 in /usr/local/lib/python3.8/dist-packages (from google-resumable-media>=2.3.2->google-cloud-storage<3.0,>=1.32.0->cached-path<1.2.0,>=1.1.3->allennlp) (1.5.0)\n",
            "Requirement already satisfied: packaging>=20.9 in /usr/local/lib/python3.8/dist-packages (from huggingface-hub>=0.0.16->allennlp) (21.3)\n",
            "Requirement already satisfied: typing-extensions>=3.7.4.3 in /usr/local/lib/python3.8/dist-packages (from huggingface-hub>=0.0.16->allennlp) (4.4.0)\n",
            "Requirement already satisfied: pyyaml>=5.1 in /usr/local/lib/python3.8/dist-packages (from huggingface-hub>=0.0.16->allennlp) (6.0)\n",
            "Requirement already satisfied: regex>=2021.8.3 in /usr/local/lib/python3.8/dist-packages (from nltk>=3.6.5->allennlp) (2022.6.2)\n",
            "Requirement already satisfied: click in /usr/local/lib/python3.8/dist-packages (from nltk>=3.6.5->allennlp) (7.1.2)\n",
            "Requirement already satisfied: joblib in /usr/local/lib/python3.8/dist-packages (from nltk>=3.6.5->allennlp) (1.2.0)\n",
            "Requirement already satisfied: pyparsing!=3.0.5,>=2.0.2 in /usr/local/lib/python3.8/dist-packages (from packaging>=20.9->huggingface-hub>=0.0.16->allennlp) (3.0.9)\n",
            "Requirement already satisfied: pyasn1<0.5.0,>=0.4.6 in /usr/local/lib/python3.8/dist-packages (from pyasn1-modules>=0.2.1->google-auth<3.0dev,>=1.25.0->google-cloud-storage<3.0,>=1.32.0->cached-path<1.2.0,>=1.1.3->allennlp) (0.4.8)\n",
            "Requirement already satisfied: iniconfig in /usr/local/lib/python3.8/dist-packages (from pytest>=6.2.5->allennlp) (1.1.1)\n",
            "Requirement already satisfied: pluggy<2.0,>=0.12 in /usr/local/lib/python3.8/dist-packages (from pytest>=6.2.5->allennlp) (1.0.0)\n",
            "Requirement already satisfied: attrs>=19.2.0 in /usr/local/lib/python3.8/dist-packages (from pytest>=6.2.5->allennlp) (22.1.0)\n",
            "Requirement already satisfied: tomli>=1.0.0 in /usr/local/lib/python3.8/dist-packages (from pytest>=6.2.5->allennlp) (2.0.1)\n",
            "Requirement already satisfied: exceptiongroup>=1.0.0rc8 in /usr/local/lib/python3.8/dist-packages (from pytest>=6.2.5->allennlp) (1.0.4)\n",
            "Requirement already satisfied: charset-normalizer<3,>=2 in /usr/local/lib/python3.8/dist-packages (from requests>=2.28->allennlp) (2.1.1)\n",
            "Requirement already satisfied: idna<4,>=2.5 in /usr/local/lib/python3.8/dist-packages (from requests>=2.28->allennlp) (2.10)\n",
            "Requirement already satisfied: certifi>=2017.4.17 in /usr/local/lib/python3.8/dist-packages (from requests>=2.28->allennlp) (2022.9.24)\n",
            "Requirement already satisfied: pygments<3.0.0,>=2.6.0 in /usr/local/lib/python3.8/dist-packages (from rich<13.0,>=12.1->cached-path<1.2.0,>=1.1.3->allennlp) (2.6.1)\n",
            "Requirement already satisfied: commonmark<0.10.0,>=0.9.0 in /usr/local/lib/python3.8/dist-packages (from rich<13.0,>=12.1->cached-path<1.2.0,>=1.1.3->allennlp) (0.9.1)\n",
            "Requirement already satisfied: threadpoolctl>=2.0.0 in /usr/local/lib/python3.8/dist-packages (from scikit-learn>=1.0.1->allennlp) (3.1.0)\n",
            "Requirement already satisfied: srsly<3.0.0,>=2.4.3 in /usr/local/lib/python3.8/dist-packages (from spacy<3.4,>=2.1.0->allennlp) (2.4.5)\n",
            "Requirement already satisfied: pathy>=0.3.5 in /usr/local/lib/python3.8/dist-packages (from spacy<3.4,>=2.1.0->allennlp) (0.10.0)\n",
            "Requirement already satisfied: spacy-legacy<3.1.0,>=3.0.9 in /usr/local/lib/python3.8/dist-packages (from spacy<3.4,>=2.1.0->allennlp) (3.0.10)\n",
            "Requirement already satisfied: wasabi<1.1.0,>=0.9.1 in /usr/local/lib/python3.8/dist-packages (from spacy<3.4,>=2.1.0->allennlp) (0.10.1)\n",
            "Requirement already satisfied: langcodes<4.0.0,>=3.2.0 in /usr/local/lib/python3.8/dist-packages (from spacy<3.4,>=2.1.0->allennlp) (3.3.0)\n",
            "Requirement already satisfied: pydantic!=1.8,!=1.8.1,<1.9.0,>=1.7.4 in /usr/local/lib/python3.8/dist-packages (from spacy<3.4,>=2.1.0->allennlp) (1.8.2)\n",
            "Requirement already satisfied: catalogue<2.1.0,>=2.0.6 in /usr/local/lib/python3.8/dist-packages (from spacy<3.4,>=2.1.0->allennlp) (2.0.8)\n",
            "Requirement already satisfied: setuptools in /usr/local/lib/python3.8/dist-packages (from spacy<3.4,>=2.1.0->allennlp) (57.4.0)\n",
            "Requirement already satisfied: spacy-loggers<2.0.0,>=1.0.0 in /usr/local/lib/python3.8/dist-packages (from spacy<3.4,>=2.1.0->allennlp) (1.0.3)\n",
            "Requirement already satisfied: thinc<8.1.0,>=8.0.14 in /usr/local/lib/python3.8/dist-packages (from spacy<3.4,>=2.1.0->allennlp) (8.0.17)\n",
            "Requirement already satisfied: jinja2 in /usr/local/lib/python3.8/dist-packages (from spacy<3.4,>=2.1.0->allennlp) (2.11.3)\n",
            "Requirement already satisfied: preshed<3.1.0,>=3.0.2 in /usr/local/lib/python3.8/dist-packages (from spacy<3.4,>=2.1.0->allennlp) (3.0.8)\n",
            "Requirement already satisfied: murmurhash<1.1.0,>=0.28.0 in /usr/local/lib/python3.8/dist-packages (from spacy<3.4,>=2.1.0->allennlp) (1.0.9)\n",
            "Requirement already satisfied: blis<0.8.0,>=0.4.0 in /usr/local/lib/python3.8/dist-packages (from spacy<3.4,>=2.1.0->allennlp) (0.7.9)\n",
            "Requirement already satisfied: cymem<2.1.0,>=2.0.2 in /usr/local/lib/python3.8/dist-packages (from spacy<3.4,>=2.1.0->allennlp) (2.0.7)\n",
            "Requirement already satisfied: smart-open<6.0.0,>=5.2.1 in /usr/local/lib/python3.8/dist-packages (from pathy>=0.3.5->spacy<3.4,>=2.1.0->allennlp) (5.2.1)\n",
            "Requirement already satisfied: pillow!=8.3.*,>=5.3.0 in /usr/local/lib/python3.8/dist-packages (from torchvision<0.14.0,>=0.8.1->allennlp) (7.1.2)\n",
            "Requirement already satisfied: tokenizers!=0.11.3,<0.13,>=0.11.1 in /usr/local/lib/python3.8/dist-packages (from transformers<4.21,>=4.1->allennlp) (0.12.1)\n",
            "Requirement already satisfied: docker-pycreds>=0.4.0 in /usr/local/lib/python3.8/dist-packages (from wandb<0.13.0,>=0.10.0->allennlp) (0.4.0)\n",
            "Requirement already satisfied: pathtools in /usr/local/lib/python3.8/dist-packages (from wandb<0.13.0,>=0.10.0->allennlp) (0.1.2)\n",
            "Requirement already satisfied: setproctitle in /usr/local/lib/python3.8/dist-packages (from wandb<0.13.0,>=0.10.0->allennlp) (1.3.2)\n",
            "Requirement already satisfied: sentry-sdk>=1.0.0 in /usr/local/lib/python3.8/dist-packages (from wandb<0.13.0,>=0.10.0->allennlp) (1.11.1)\n",
            "Requirement already satisfied: promise<3,>=2.0 in /usr/local/lib/python3.8/dist-packages (from wandb<0.13.0,>=0.10.0->allennlp) (2.3)\n",
            "Requirement already satisfied: psutil>=5.0.0 in /usr/local/lib/python3.8/dist-packages (from wandb<0.13.0,>=0.10.0->allennlp) (5.4.8)\n",
            "Requirement already satisfied: GitPython>=1.0.0 in /usr/local/lib/python3.8/dist-packages (from wandb<0.13.0,>=0.10.0->allennlp) (3.1.29)\n",
            "Requirement already satisfied: shortuuid>=0.5.0 in /usr/local/lib/python3.8/dist-packages (from wandb<0.13.0,>=0.10.0->allennlp) (1.0.11)\n",
            "Requirement already satisfied: gitdb<5,>=4.0.1 in /usr/local/lib/python3.8/dist-packages (from GitPython>=1.0.0->wandb<0.13.0,>=0.10.0->allennlp) (4.0.10)\n",
            "Requirement already satisfied: smmap<6,>=3.0.1 in /usr/local/lib/python3.8/dist-packages (from gitdb<5,>=4.0.1->GitPython>=1.0.0->wandb<0.13.0,>=0.10.0->allennlp) (5.0.0)\n",
            "Requirement already satisfied: MarkupSafe>=0.23 in /usr/local/lib/python3.8/dist-packages (from jinja2->spacy<3.4,>=2.1.0->allennlp) (2.0.1)\n"
          ]
        }
      ]
    },
    {
      "cell_type": "code",
      "source": [
        "!pip install overrides"
      ],
      "metadata": {
        "colab": {
          "base_uri": "https://localhost:8080/"
        },
        "id": "5ah-LeKclXrH",
        "outputId": "2c0decb7-d3f7-45c7-94c4-d50781ef45eb"
      },
      "execution_count": 38,
      "outputs": [
        {
          "output_type": "stream",
          "name": "stdout",
          "text": [
            "Looking in indexes: https://pypi.org/simple, https://us-python.pkg.dev/colab-wheels/public/simple/\n",
            "Collecting overrides\n",
            "  Downloading overrides-7.3.1-py3-none-any.whl (17 kB)\n",
            "Installing collected packages: overrides\n",
            "Successfully installed overrides-7.3.1\n"
          ]
        }
      ]
    },
    {
      "cell_type": "code",
      "source": [
        "!bash run_deepmoji_debiasing.sh"
      ],
      "metadata": {
        "colab": {
          "base_uri": "https://localhost:8080/"
        },
        "id": "BolsB4i_iWlY",
        "outputId": "18d94e24-9d2f-4808-a7b2-44e7508974ed"
      },
      "execution_count": 39,
      "outputs": [
        {
          "output_type": "stream",
          "name": "stdout",
          "text": [
            "Traceback (most recent call last):\n",
            "  File \"/usr/local/bin/allennlp\", line 8, in <module>\n",
            "    sys.exit(run())\n",
            "  File \"/usr/local/lib/python3.8/dist-packages/allennlp/__main__.py\", line 39, in run\n",
            "    main(prog=\"allennlp\")\n",
            "  File \"/usr/local/lib/python3.8/dist-packages/allennlp/commands/__init__.py\", line 119, in main\n",
            "    import_module_and_submodules(package_name)\n",
            "  File \"/usr/local/lib/python3.8/dist-packages/allennlp/common/util.py\", line 376, in import_module_and_submodules\n",
            "    import_module_and_submodules(subpackage, exclude=exclude)\n",
            "  File \"/usr/local/lib/python3.8/dist-packages/allennlp/common/util.py\", line 376, in import_module_and_submodules\n",
            "    import_module_and_submodules(subpackage, exclude=exclude)\n",
            "  File \"/usr/local/lib/python3.8/dist-packages/allennlp/common/util.py\", line 359, in import_module_and_submodules\n",
            "    module = importlib.import_module(package_name)\n",
            "  File \"/usr/lib/python3.8/importlib/__init__.py\", line 127, in import_module\n",
            "    return _bootstrap._gcd_import(name[level:], package, level)\n",
            "  File \"<frozen importlib._bootstrap>\", line 1014, in _gcd_import\n",
            "  File \"<frozen importlib._bootstrap>\", line 991, in _find_and_load\n",
            "  File \"<frozen importlib._bootstrap>\", line 975, in _find_and_load_unlocked\n",
            "  File \"<frozen importlib._bootstrap>\", line 671, in _load_unlocked\n",
            "  File \"<frozen importlib._bootstrap_external>\", line 843, in exec_module\n",
            "  File \"<frozen importlib._bootstrap>\", line 219, in _call_with_frames_removed\n",
            "  File \"/content/drive/MyDrive/MLsec_project/BiasMitigation/LM_bias/nullspace_projection/src/framework/dataset_readers/deep_moji_reader.py\", line 14, in <module>\n",
            "    class DeepMojiReader(DatasetReader):\n",
            "  File \"/content/drive/MyDrive/MLsec_project/BiasMitigation/LM_bias/nullspace_projection/src/framework/dataset_readers/deep_moji_reader.py\", line 28, in DeepMojiReader\n",
            "    def _read(self, dir_path: str):\n",
            "  File \"/usr/local/lib/python3.8/dist-packages/overrides/overrides.py\", line 83, in overrides\n",
            "    return _overrides(method, check_signature, check_at_runtime)\n",
            "  File \"/usr/local/lib/python3.8/dist-packages/overrides/overrides.py\", line 170, in _overrides\n",
            "    _validate_method(method, super_class, check_signature)\n",
            "  File \"/usr/local/lib/python3.8/dist-packages/overrides/overrides.py\", line 189, in _validate_method\n",
            "    ensure_signature_is_compatible(super_method, method, is_static)\n",
            "  File \"/usr/local/lib/python3.8/dist-packages/overrides/signature.py\", line 102, in ensure_signature_is_compatible\n",
            "    ensure_return_type_compatibility(super_type_hints, sub_type_hints, method_name)\n",
            "  File \"/usr/local/lib/python3.8/dist-packages/overrides/signature.py\", line 302, in ensure_return_type_compatibility\n",
            "    raise TypeError(\n",
            "TypeError: DeepMojiReader._read: return type `None` is not a `typing.Iterable[allennlp.data.instance.Instance]`.\n",
            "mkdir: cannot create directory ‘data/emoji_sent_race_0.5’: File exists\n",
            "Traceback (most recent call last):\n",
            "  File \"src/deepmoji/last_layer_extraction.py\", line 24, in <module>\n",
            "    from src.framework.models.deep_moji_model import DeepMojiModel\n",
            "ModuleNotFoundError: No module named 'src'\n",
            "Traceback (most recent call last):\n",
            "  File \"src/deepmoji/deepmoji_debias.py\", line 21, in <module>\n",
            "    from src import debias\n",
            "ModuleNotFoundError: No module named 'src'\n",
            "Traceback (most recent call last):\n",
            "  File \"/usr/local/bin/allennlp\", line 8, in <module>\n",
            "    sys.exit(run())\n",
            "  File \"/usr/local/lib/python3.8/dist-packages/allennlp/__main__.py\", line 39, in run\n",
            "    main(prog=\"allennlp\")\n",
            "  File \"/usr/local/lib/python3.8/dist-packages/allennlp/commands/__init__.py\", line 119, in main\n",
            "    import_module_and_submodules(package_name)\n",
            "  File \"/usr/local/lib/python3.8/dist-packages/allennlp/common/util.py\", line 376, in import_module_and_submodules\n",
            "    import_module_and_submodules(subpackage, exclude=exclude)\n",
            "  File \"/usr/local/lib/python3.8/dist-packages/allennlp/common/util.py\", line 376, in import_module_and_submodules\n",
            "    import_module_and_submodules(subpackage, exclude=exclude)\n",
            "  File \"/usr/local/lib/python3.8/dist-packages/allennlp/common/util.py\", line 359, in import_module_and_submodules\n",
            "    module = importlib.import_module(package_name)\n",
            "  File \"/usr/lib/python3.8/importlib/__init__.py\", line 127, in import_module\n",
            "    return _bootstrap._gcd_import(name[level:], package, level)\n",
            "  File \"<frozen importlib._bootstrap>\", line 1014, in _gcd_import\n",
            "  File \"<frozen importlib._bootstrap>\", line 991, in _find_and_load\n",
            "  File \"<frozen importlib._bootstrap>\", line 975, in _find_and_load_unlocked\n",
            "  File \"<frozen importlib._bootstrap>\", line 671, in _load_unlocked\n",
            "  File \"<frozen importlib._bootstrap_external>\", line 843, in exec_module\n",
            "  File \"<frozen importlib._bootstrap>\", line 219, in _call_with_frames_removed\n",
            "  File \"/content/drive/MyDrive/MLsec_project/BiasMitigation/LM_bias/nullspace_projection/src/framework/dataset_readers/deep_moji_reader.py\", line 14, in <module>\n",
            "    class DeepMojiReader(DatasetReader):\n",
            "  File \"/content/drive/MyDrive/MLsec_project/BiasMitigation/LM_bias/nullspace_projection/src/framework/dataset_readers/deep_moji_reader.py\", line 28, in DeepMojiReader\n",
            "    def _read(self, dir_path: str):\n",
            "  File \"/usr/local/lib/python3.8/dist-packages/overrides/overrides.py\", line 83, in overrides\n",
            "    return _overrides(method, check_signature, check_at_runtime)\n",
            "  File \"/usr/local/lib/python3.8/dist-packages/overrides/overrides.py\", line 170, in _overrides\n",
            "    _validate_method(method, super_class, check_signature)\n",
            "  File \"/usr/local/lib/python3.8/dist-packages/overrides/overrides.py\", line 189, in _validate_method\n",
            "    ensure_signature_is_compatible(super_method, method, is_static)\n",
            "  File \"/usr/local/lib/python3.8/dist-packages/overrides/signature.py\", line 102, in ensure_signature_is_compatible\n",
            "    ensure_return_type_compatibility(super_type_hints, sub_type_hints, method_name)\n",
            "  File \"/usr/local/lib/python3.8/dist-packages/overrides/signature.py\", line 302, in ensure_return_type_compatibility\n",
            "    raise TypeError(\n",
            "TypeError: DeepMojiReader._read: return type `None` is not a `typing.Iterable[allennlp.data.instance.Instance]`.\n",
            "mkdir: cannot create directory ‘data/emoji_sent_race_0.6’: File exists\n",
            "Traceback (most recent call last):\n",
            "  File \"src/deepmoji/last_layer_extraction.py\", line 24, in <module>\n",
            "    from src.framework.models.deep_moji_model import DeepMojiModel\n",
            "ModuleNotFoundError: No module named 'src'\n",
            "Traceback (most recent call last):\n",
            "  File \"src/deepmoji/deepmoji_debias.py\", line 21, in <module>\n",
            "    from src import debias\n",
            "ModuleNotFoundError: No module named 'src'\n",
            "Traceback (most recent call last):\n",
            "  File \"/usr/local/bin/allennlp\", line 8, in <module>\n",
            "    sys.exit(run())\n",
            "  File \"/usr/local/lib/python3.8/dist-packages/allennlp/__main__.py\", line 39, in run\n",
            "    main(prog=\"allennlp\")\n",
            "  File \"/usr/local/lib/python3.8/dist-packages/allennlp/commands/__init__.py\", line 119, in main\n",
            "    import_module_and_submodules(package_name)\n",
            "  File \"/usr/local/lib/python3.8/dist-packages/allennlp/common/util.py\", line 376, in import_module_and_submodules\n",
            "    import_module_and_submodules(subpackage, exclude=exclude)\n",
            "  File \"/usr/local/lib/python3.8/dist-packages/allennlp/common/util.py\", line 376, in import_module_and_submodules\n",
            "    import_module_and_submodules(subpackage, exclude=exclude)\n",
            "  File \"/usr/local/lib/python3.8/dist-packages/allennlp/common/util.py\", line 359, in import_module_and_submodules\n",
            "    module = importlib.import_module(package_name)\n",
            "  File \"/usr/lib/python3.8/importlib/__init__.py\", line 127, in import_module\n",
            "    return _bootstrap._gcd_import(name[level:], package, level)\n",
            "  File \"<frozen importlib._bootstrap>\", line 1014, in _gcd_import\n",
            "  File \"<frozen importlib._bootstrap>\", line 991, in _find_and_load\n",
            "  File \"<frozen importlib._bootstrap>\", line 975, in _find_and_load_unlocked\n",
            "  File \"<frozen importlib._bootstrap>\", line 671, in _load_unlocked\n",
            "  File \"<frozen importlib._bootstrap_external>\", line 843, in exec_module\n",
            "  File \"<frozen importlib._bootstrap>\", line 219, in _call_with_frames_removed\n",
            "  File \"/content/drive/MyDrive/MLsec_project/BiasMitigation/LM_bias/nullspace_projection/src/framework/dataset_readers/deep_moji_reader.py\", line 14, in <module>\n",
            "    class DeepMojiReader(DatasetReader):\n",
            "  File \"/content/drive/MyDrive/MLsec_project/BiasMitigation/LM_bias/nullspace_projection/src/framework/dataset_readers/deep_moji_reader.py\", line 28, in DeepMojiReader\n",
            "    def _read(self, dir_path: str):\n",
            "  File \"/usr/local/lib/python3.8/dist-packages/overrides/overrides.py\", line 83, in overrides\n",
            "    return _overrides(method, check_signature, check_at_runtime)\n",
            "  File \"/usr/local/lib/python3.8/dist-packages/overrides/overrides.py\", line 170, in _overrides\n",
            "    _validate_method(method, super_class, check_signature)\n",
            "  File \"/usr/local/lib/python3.8/dist-packages/overrides/overrides.py\", line 189, in _validate_method\n",
            "    ensure_signature_is_compatible(super_method, method, is_static)\n",
            "  File \"/usr/local/lib/python3.8/dist-packages/overrides/signature.py\", line 102, in ensure_signature_is_compatible\n",
            "    ensure_return_type_compatibility(super_type_hints, sub_type_hints, method_name)\n",
            "  File \"/usr/local/lib/python3.8/dist-packages/overrides/signature.py\", line 302, in ensure_return_type_compatibility\n",
            "    raise TypeError(\n",
            "TypeError: DeepMojiReader._read: return type `None` is not a `typing.Iterable[allennlp.data.instance.Instance]`.\n",
            "mkdir: cannot create directory ‘data/emoji_sent_race_0.7’: File exists\n",
            "Traceback (most recent call last):\n",
            "  File \"src/deepmoji/last_layer_extraction.py\", line 24, in <module>\n",
            "    from src.framework.models.deep_moji_model import DeepMojiModel\n",
            "ModuleNotFoundError: No module named 'src'\n",
            "Traceback (most recent call last):\n",
            "  File \"src/deepmoji/deepmoji_debias.py\", line 21, in <module>\n",
            "    from src import debias\n",
            "ModuleNotFoundError: No module named 'src'\n",
            "Traceback (most recent call last):\n",
            "  File \"/usr/local/bin/allennlp\", line 5, in <module>\n",
            "    from allennlp.__main__ import run\n",
            "  File \"/usr/local/lib/python3.8/dist-packages/allennlp/__init__.py\", line 11, in <module>\n",
            "    import transformers, spacy, torch, numpy  # noqa\n",
            "  File \"/usr/local/lib/python3.8/dist-packages/spacy/__init__.py\", line 11, in <module>\n",
            "    from thinc.api import prefer_gpu, require_gpu, require_cpu  # noqa: F401\n",
            "  File \"/usr/local/lib/python3.8/dist-packages/thinc/api.py\", line 2, in <module>\n",
            "    from .initializers import normal_init, uniform_init, glorot_uniform_init, zero_init\n",
            "  File \"/usr/local/lib/python3.8/dist-packages/thinc/initializers.py\", line 4, in <module>\n",
            "    from .backends import Ops\n",
            "  File \"/usr/local/lib/python3.8/dist-packages/thinc/backends/__init__.py\", line 7, in <module>\n",
            "    from .ops import Ops\n",
            "  File \"/usr/local/lib/python3.8/dist-packages/thinc/backends/ops.py\", line 13, in <module>\n",
            "    from ..util import get_array_module, is_xp_array, to_numpy\n",
            "  File \"/usr/local/lib/python3.8/dist-packages/thinc/util.py\", line 48, in <module>\n",
            "    import tensorflow.experimental.dlpack\n",
            "  File \"/usr/local/lib/python3.8/dist-packages/tensorflow/__init__.py\", line 37, in <module>\n",
            "    from tensorflow.python.tools import module_util as _module_util\n",
            "  File \"/usr/local/lib/python3.8/dist-packages/tensorflow/python/__init__.py\", line 45, in <module>\n",
            "    from tensorflow.python.feature_column import feature_column_lib as feature_column\n",
            "  File \"/usr/local/lib/python3.8/dist-packages/tensorflow/python/feature_column/feature_column_lib.py\", line 18, in <module>\n",
            "    from tensorflow.python.feature_column.feature_column import *\n",
            "  File \"/usr/local/lib/python3.8/dist-packages/tensorflow/python/feature_column/feature_column.py\", line 143, in <module>\n",
            "    from tensorflow.python.layers import base\n",
            "  File \"/usr/local/lib/python3.8/dist-packages/tensorflow/python/layers/base.py\", line 16, in <module>\n",
            "    from tensorflow.python.keras.legacy_tf_layers import base\n",
            "  File \"/usr/local/lib/python3.8/dist-packages/tensorflow/python/keras/__init__.py\", line 22, in <module>\n",
            "    from tensorflow.python.keras import distribute\n",
            "  File \"/usr/local/lib/python3.8/dist-packages/tensorflow/python/keras/distribute/__init__.py\", line 18, in <module>\n",
            "    from tensorflow.python.keras.distribute import sidecar_evaluator\n",
            "  File \"/usr/local/lib/python3.8/dist-packages/tensorflow/python/keras/distribute/sidecar_evaluator.py\", line 23, in <module>\n",
            "    from tensorflow.python.training.tracking import util as tracking_util\n",
            "  File \"/usr/local/lib/python3.8/dist-packages/tensorflow/python/training/tracking/util.py\", line 55, in <module>\n",
            "    from tensorflow.python.training.tracking import graph_view as graph_view_lib\n",
            "  File \"/usr/local/lib/python3.8/dist-packages/tensorflow/python/training/tracking/graph_view.py\", line 25, in <module>\n",
            "    from tensorflow.python.training import optimizer as optimizer_v1\n",
            "  File \"/usr/local/lib/python3.8/dist-packages/tensorflow/python/training/optimizer.py\", line 24, in <module>\n",
            "    from tensorflow.python.distribute import distribute_utils\n",
            "  File \"/usr/local/lib/python3.8/dist-packages/tensorflow/python/distribute/distribute_utils.py\", line 21, in <module>\n",
            "    from tensorflow.python.distribute import tpu_values as tpu_values_lib\n",
            "  File \"/usr/local/lib/python3.8/dist-packages/tensorflow/python/distribute/tpu_values.py\", line 22, in <module>\n",
            "    from tensorflow.python.distribute import tpu_replicated_variable\n",
            "  File \"/usr/local/lib/python3.8/dist-packages/tensorflow/python/distribute/tpu_replicated_variable.py\", line 23, in <module>\n",
            "    from tensorflow.compiler.xla.experimental.xla_sharding import xla_sharding\n",
            "  File \"/usr/local/lib/python3.8/dist-packages/tensorflow/compiler/xla/experimental/xla_sharding/xla_sharding.py\", line 19, in <module>\n",
            "    from tensorflow.compiler.tf2xla.python import xla as tf2xla\n",
            "  File \"/usr/local/lib/python3.8/dist-packages/tensorflow/compiler/tf2xla/python/xla.py\", line 40, in <module>\n",
            "    from tensorflow.python.ops.numpy_ops import np_utils\n",
            "  File \"/usr/local/lib/python3.8/dist-packages/tensorflow/python/ops/numpy_ops/__init__.py\", line 174, in <module>\n",
            "    from tensorflow.python.ops.numpy_ops.np_config import *\n",
            "  File \"/usr/local/lib/python3.8/dist-packages/tensorflow/python/ops/numpy_ops/np_config.py\", line 20, in <module>\n",
            "    from tensorflow.python.ops.numpy_ops import np_math_ops\n",
            "  File \"/usr/local/lib/python3.8/dist-packages/tensorflow/python/ops/numpy_ops/np_math_ops.py\", line 599, in <module>\n",
            "    @np_utils.np_doc('log')\n",
            "  File \"/usr/local/lib/python3.8/dist-packages/tensorflow/python/ops/numpy_ops/np_utils.py\", line 392, in np_doc\n",
            "    np_sig = _np_signature(np_fun)\n",
            "  File \"/usr/local/lib/python3.8/dist-packages/tensorflow/python/ops/numpy_ops/np_utils.py\", line 153, in _np_signature\n",
            "    params += [\n",
            "  File \"/usr/local/lib/python3.8/dist-packages/tensorflow/python/ops/numpy_ops/np_utils.py\", line 154, in <listcomp>\n",
            "    inspect.Parameter(name, inspect.Parameter.KEYWORD_ONLY, default=default)\n",
            "  File \"/usr/lib/python3.8/inspect.py\", line 2491, in __init__\n",
            "    self._kind = _ParameterKind(kind)\n",
            "  File \"/usr/lib/python3.8/enum.py\", line 339, in __call__\n",
            "    return cls.__new__(cls, value)\n",
            "KeyboardInterrupt\n",
            "^C\n"
          ]
        }
      ]
    },
    {
      "cell_type": "code",
      "source": [
        "import numpy as np\n",
        "from sklearn.svm import LinearSVC\n",
        "from sklearn.linear_model import SGDClassifier, LogisticRegression\n",
        "from sklearn.neural_network import MLPClassifier\n",
        "from sklearn.utils import shuffle\n",
        "\n",
        "from collections import Counter, defaultdict\n",
        "\n",
        "import json\n",
        "from collections import defaultdict\n",
        "import matplotlib.pyplot as plt"
      ],
      "metadata": {
        "id": "DR9fM2IJmddh"
      },
      "execution_count": 40,
      "outputs": []
    },
    {
      "cell_type": "code",
      "source": [
        "import seaborn as sns\n",
        "# sns.set()\n",
        "sns.set_style(\"whitegrid\")"
      ],
      "metadata": {
        "id": "eqKTkBkEmk_o"
      },
      "execution_count": 41,
      "outputs": []
    },
    {
      "cell_type": "code",
      "source": [
        "!pwd"
      ],
      "metadata": {
        "colab": {
          "base_uri": "https://localhost:8080/"
        },
        "id": "XHzFPZlkmtWf",
        "outputId": "ad1d7755-4931-4ec9-fbd6-89e9b5563a48"
      },
      "execution_count": 42,
      "outputs": [
        {
          "output_type": "stream",
          "name": "stdout",
          "text": [
            "/content/drive/MyDrive/MLsec_project/BiasMitigation/LM_bias/nullspace_projection\n"
          ]
        }
      ]
    },
    {
      "cell_type": "code",
      "source": [
        "from src import debias"
      ],
      "metadata": {
        "id": "wU3S3vy8m0Ab"
      },
      "execution_count": 43,
      "outputs": []
    },
    {
      "cell_type": "code",
      "source": [
        "import sys\n",
        "sys.path.append('..')"
      ],
      "metadata": {
        "id": "tCxq3hjsm5-f"
      },
      "execution_count": 44,
      "outputs": []
    },
    {
      "cell_type": "code",
      "source": [
        "def load_data(path, size, ratio=0.5):\n",
        "    fnames = [\"neg_neg.npy\", \"neg_pos.npy\", \"pos_neg.npy\", \"pos_pos.npy\"]\n",
        "    protected_labels = [0, 1, 0, 1]\n",
        "    main_labels = [0, 0, 1, 1]\n",
        "    X, Y_p, Y_m = [], [], []\n",
        "    n1 = int(size * ratio / 2)\n",
        "    n2 = int(size * (1 - ratio) / 2)\n",
        "#     print(n1, n2)\n",
        "\n",
        "    for fname, p_label, m_label, n in zip(fnames, protected_labels, main_labels, [n1, n2, n2, n1]):\n",
        "#         print(path + '/' + fname)\n",
        "#         print(np.load(path + '/' + fname).shape)\n",
        "        data = np.load(path + '/' + fname)[:n]\n",
        "        for x in data:\n",
        "            X.append(x)\n",
        "        for _ in data:\n",
        "            Y_p.append(p_label)\n",
        "        for _ in data:\n",
        "            Y_m.append(m_label)\n",
        "\n",
        "    Y_p = np.array(Y_p)\n",
        "    Y_m = np.array(Y_m)\n",
        "    X = np.array(X)\n",
        "    X, Y_p, Y_m = shuffle(X, Y_p, Y_m, random_state=0)\n",
        "    return X, Y_p, Y_m\n",
        "     "
      ],
      "metadata": {
        "id": "_OPgP8-mnAkp"
      },
      "execution_count": 45,
      "outputs": []
    },
    {
      "cell_type": "code",
      "source": [
        "def get_TPR(y_main, y_hat_main, y_protected):\n",
        "    \n",
        "    all_y = list(Counter(y_main).keys())\n",
        "    \n",
        "    protected_vals = defaultdict(dict)\n",
        "    for label in all_y:\n",
        "        for i in range(2):\n",
        "            used_vals = (y_main == label) & (y_protected == i)\n",
        "            y_label = y_main[used_vals]\n",
        "            y_hat_label = y_hat_main[used_vals]\n",
        "            protected_vals['y:{}'.format(label)]['p:{}'.format(i)] = (y_label == y_hat_label).mean()\n",
        "            \n",
        "    diffs = {}\n",
        "    for k, v in protected_vals.items():\n",
        "        vals = list(v.values())\n",
        "        diffs[k] = vals[0] - vals[1]\n",
        "    return protected_vals, diffs\n",
        "     "
      ],
      "metadata": {
        "id": "Sa3Gi277nEI1"
      },
      "execution_count": 46,
      "outputs": []
    },
    {
      "cell_type": "code",
      "source": [
        "def rms(arr):\n",
        "    return np.sqrt(np.mean(np.square(arr)))\n",
        "     "
      ],
      "metadata": {
        "id": "aw72k0DOnUgK"
      },
      "execution_count": 48,
      "outputs": []
    },
    {
      "cell_type": "code",
      "source": [
        "!pwd"
      ],
      "metadata": {
        "colab": {
          "base_uri": "https://localhost:8080/"
        },
        "id": "r5BFhUb_nXgF",
        "outputId": "9c7d5b14-0bfc-4f66-a50a-a25906d5ac9a"
      },
      "execution_count": 49,
      "outputs": [
        {
          "output_type": "stream",
          "name": "stdout",
          "text": [
            "/content/drive/MyDrive/MLsec_project/BiasMitigation/LM_bias/nullspace_projection\n"
          ]
        }
      ]
    },
    {
      "cell_type": "code",
      "source": [
        "%cd /content/drive/MyDrive/MLsec_project/BiasMitigation/LM_bias/nullspace_projection/src"
      ],
      "metadata": {
        "colab": {
          "base_uri": "https://localhost:8080/"
        },
        "id": "JIwJG6zhngaG",
        "outputId": "c3f96a9c-c7cb-4498-9ea6-82bd54a0d1df"
      },
      "execution_count": 50,
      "outputs": [
        {
          "output_type": "stream",
          "name": "stdout",
          "text": [
            "/content/drive/MyDrive/MLsec_project/BiasMitigation/LM_bias/nullspace_projection/src\n"
          ]
        }
      ]
    },
    {
      "cell_type": "code",
      "source": [
        "!pwd"
      ],
      "metadata": {
        "colab": {
          "base_uri": "https://localhost:8080/"
        },
        "id": "ExRCNqUFnkcu",
        "outputId": "4e97b35a-3985-4fa3-aac3-aae595d71e6c"
      },
      "execution_count": 51,
      "outputs": [
        {
          "output_type": "stream",
          "name": "stdout",
          "text": [
            "/content/drive/MyDrive/MLsec_project/BiasMitigation/LM_bias/nullspace_projection/src\n"
          ]
        }
      ]
    },
    {
      "cell_type": "code",
      "source": [
        "results = defaultdict(dict)\n",
        "\n",
        "for ratio in [0.5, 0.6, 0.7, 0.8]:\n",
        "\n",
        "    x_train, y_p_train, y_m_train = load_data(\n",
        "        '../data/emoji_sent_race_{}/train/'.format(ratio),\n",
        "        size=100000, ratio=ratio)\n",
        "    x_dev, y_p_dev, y_m_dev = load_data(\n",
        "        '../data/emoji_sent_race_{}/test/'.format(ratio),\n",
        "        size=100000, ratio=0.5)\n",
        "    \n",
        "    biased_classifier = LinearSVC(fit_intercept=True, class_weight='balanced', dual=False, C=0.1, max_iter=10000)\n",
        "\n",
        "    biased_classifier.fit(x_train, y_m_train)\n",
        "    biased_score = biased_classifier.score(x_dev, y_m_dev)\n",
        "    \n",
        "    P = np.load('../data/emoji_sent_race_{}/P_svm.num-clfs=300.npy'.format(ratio), allow_pickle=True)\n",
        "    P = P[1]\n",
        "    n_dims = 120\n",
        "#     n_dims = 70\n",
        "    if ratio == 0.5:\n",
        "        n_dims = 200\n",
        "    elif ratio == 0.6:\n",
        "        n_dims = 100\n",
        "    elif ratio == 0.7:\n",
        "        n_dims = 115\n",
        "    elif ratio == 0.8:\n",
        "        n_dims = 200\n",
        "    P = debias.get_projection_to_intersection_of_nullspaces(P[:n_dims], input_dim=300)\n",
        "    \n",
        "    debiased_x_train = P.dot(x_train.T).T\n",
        "    debiased_x_dev = P.dot(x_dev.T).T\n",
        "\n",
        "    classifier = LinearSVC(fit_intercept=True, class_weight='balanced', dual=False, C=0.1, max_iter=10000)\n",
        "\n",
        "    classifier.fit(debiased_x_train, y_m_train)\n",
        "    debiased_score = classifier.score(debiased_x_dev, y_m_dev)\n",
        "    \n",
        "    p_classifier = SGDClassifier(warm_start=True, loss='log', n_jobs=64, max_iter=10000, random_state=0, tol=1e-3)\n",
        "    p_classifier.fit(debiased_x_train, y_p_train)\n",
        "    p_score = p_classifier.score(debiased_x_dev, y_p_dev)\n",
        "    results[ratio]['p_acc'] = p_score\n",
        "    \n",
        "    _, biased_diffs = get_TPR(y_m_dev, biased_classifier.predict(x_dev), y_p_dev)\n",
        "    \n",
        "    _, debiased_diffs = get_TPR(y_m_dev, classifier.predict(debiased_x_dev), y_p_dev)\n",
        "    \n",
        "#     results[ratio]['biased_diff_tpr'] = biased_diffs['y:0']\n",
        "    results[ratio]['biased_diff_tpr'] = rms(list(biased_diffs.values()))\n",
        "#     results[ratio]['debiased_diff_tpr'] = debiased_diffs['y:0']\n",
        "    results[ratio]['debiased_diff_tpr'] = rms(list(debiased_diffs.values()))\n",
        "    \n",
        "    results[ratio]['biased_acc'] = biased_score\n",
        "    results[ratio]['debiased_acc'] = debiased_score"
      ],
      "metadata": {
        "id": "BOrZzgaAyX1v"
      },
      "execution_count": null,
      "outputs": []
    },
    {
      "cell_type": "code",
      "source": [
        "results=defaultdict(dict,\n",
        "            {0.5: {'p_acc': 0.517,\n",
        "              'biased_diff_tpr': 0.19000000000000006,\n",
        "              'debiased_diff_tpr': 0.16200000000000003,\n",
        "              'biased_acc': 0.7595,\n",
        "              'debiased_acc': 0.7525},\n",
        "             0.6: {'p_acc': 0.6165,\n",
        "              'biased_diff_tpr': 0.2891666666666667,\n",
        "              'debiased_diff_tpr': 0.21500000000000008,\n",
        "              'biased_acc': 0.783,\n",
        "              'debiased_acc': 0.7375},\n",
        "             0.7: {'p_acc': 0.623,\n",
        "              'biased_diff_tpr': 0.3771428571428571,\n",
        "              'debiased_diff_tpr': 0.24095238095238097,\n",
        "              'biased_acc': 0.8085,\n",
        "              'debiased_acc': 0.6645},\n",
        "             0.8: {'p_acc': 0.6331331331331331,\n",
        "              'biased_diff_tpr': 0.44906407035175877,\n",
        "              'debiased_diff_tpr': 0.15108668341708542,\n",
        "              'biased_acc': 0.8423423423423423,\n",
        "              'debiased_acc': 0.6721721721721722}})"
      ],
      "metadata": {
        "id": "L4sRBHozodJh"
      },
      "execution_count": 53,
      "outputs": []
    },
    {
      "cell_type": "code",
      "source": [
        "plot_results = defaultdict(list)\n",
        "for r in [0.5, 0.6, 0.7, 0.8]:\n",
        "    plot_results['biased_diff_tpr'].append(results[r]['biased_diff_tpr'])\n",
        "    plot_results['debiased_diff_tpr'].append(results[r]['debiased_diff_tpr'])\n",
        "    plot_results['biased_acc'].append(results[r]['biased_acc'])\n",
        "    plot_results['debiased_acc'].append(results[r]['debiased_acc'])"
      ],
      "metadata": {
        "id": "RT4MHQQbojV2"
      },
      "execution_count": 54,
      "outputs": []
    },
    {
      "cell_type": "code",
      "source": [
        "plot_results\n",
        "     "
      ],
      "metadata": {
        "colab": {
          "base_uri": "https://localhost:8080/"
        },
        "id": "Yhkb0ZVIotzK",
        "outputId": "8ee7708e-0ab0-4462-8173-c03b6173f47a"
      },
      "execution_count": 55,
      "outputs": [
        {
          "output_type": "execute_result",
          "data": {
            "text/plain": [
              "defaultdict(list,\n",
              "            {'biased_diff_tpr': [0.19000000000000006,\n",
              "              0.2891666666666667,\n",
              "              0.3771428571428571,\n",
              "              0.44906407035175877],\n",
              "             'debiased_diff_tpr': [0.16200000000000003,\n",
              "              0.21500000000000008,\n",
              "              0.24095238095238097,\n",
              "              0.15108668341708542],\n",
              "             'biased_acc': [0.7595, 0.783, 0.8085, 0.8423423423423423],\n",
              "             'debiased_acc': [0.7525, 0.7375, 0.6645, 0.6721721721721722]})"
            ]
          },
          "metadata": {},
          "execution_count": 55
        }
      ]
    },
    {
      "cell_type": "code",
      "source": [
        "def data2plot(results):\n",
        "    x = [0.5, 0.6, 0.7, 0.8]\n",
        "\n",
        "    fig, ax1 = plt.subplots()\n",
        "\n",
        "    color = 'tab:red'\n",
        "    ax1.set_xlabel('ratio')\n",
        "    ax1.set_ylabel('diff tpr', color=color)\n",
        "    ax1.plot(x, results['biased_diff_tpr'], '.--', label='biased tpr diff', color=color)\n",
        "    ax1.plot(x, results['debiased_diff_tpr'], '*:', label='debiased tpr diff', color=color)\n",
        "    ax1.tick_params(axis='y', labelcolor=color)\n",
        "    plt.ylim(0.,0.6)\n",
        "\n",
        "    ax2 = ax1.twinx()  # instantiate a second axes that shares the same x-axis\n",
        "\n",
        "    color = 'tab:blue'\n",
        "    ax2.set_ylabel('acc', color=color)  # we already handled the x-label with ax1\n",
        "    ax2.plot(x, results['biased_acc'], '^-', label='biased acc', color=color)\n",
        "    ax2.plot(x, results['debiased_acc'], 'o--', label='debiased acc', color=color)\n",
        "    ax2.tick_params(axis='y', labelcolor=color)\n",
        "    \n",
        "    # ask matplotlib for the plotted objects and their labels\n",
        "    lines, labels = ax1.get_legend_handles_labels()\n",
        "    lines2, labels2 = ax2.get_legend_handles_labels()\n",
        "    ax2.legend(lines, labels, loc='lower right')\n",
        "    \n",
        "    from matplotlib.legend import Legend\n",
        "    leg = Legend(ax2, lines2, labels2,\n",
        "             loc='upper left', frameon=False)\n",
        "    ax2.add_artist(leg);\n",
        "\n",
        "    plt.title('TPR rates as a function of the ratio')\n",
        "    plt.ylim(0.5,.85)\n",
        "#     plt.legend()\n",
        "#     plt.savefig('tpr_rates_ratio.png', dpi=1000)\n",
        "    plt.show()\n",
        "    "
      ],
      "metadata": {
        "id": "4__nxm90o3Hw"
      },
      "execution_count": 56,
      "outputs": []
    },
    {
      "cell_type": "code",
      "source": [
        "data2plot(plot_results)"
      ],
      "metadata": {
        "colab": {
          "base_uri": "https://localhost:8080/",
          "height": 295
        },
        "id": "8AXpGWmNo4hx",
        "outputId": "096bc489-50e3-4e5c-e8c9-8a58271cbe0c"
      },
      "execution_count": 57,
      "outputs": [
        {
          "output_type": "display_data",
          "data": {
            "text/plain": [
              "<Figure size 432x288 with 2 Axes>"
            ],
            "image/png": "[encoded data removed]"
          },
          "metadata": {}
        }
      ]
    },
    {
      "cell_type": "code",
      "source": [
        "results"
      ],
      "metadata": {
        "colab": {
          "base_uri": "https://localhost:8080/"
        },
        "id": "sRzDylqvo-jQ",
        "outputId": "ea70c1f1-8dbb-4f8a-c707-d79b4a3f7ce2"
      },
      "execution_count": 58,
      "outputs": [
        {
          "output_type": "execute_result",
          "data": {
            "text/plain": [
              "defaultdict(dict,\n",
              "            {0.5: {'p_acc': 0.517,\n",
              "              'biased_diff_tpr': 0.19000000000000006,\n",
              "              'debiased_diff_tpr': 0.16200000000000003,\n",
              "              'biased_acc': 0.7595,\n",
              "              'debiased_acc': 0.7525},\n",
              "             0.6: {'p_acc': 0.6165,\n",
              "              'biased_diff_tpr': 0.2891666666666667,\n",
              "              'debiased_diff_tpr': 0.21500000000000008,\n",
              "              'biased_acc': 0.783,\n",
              "              'debiased_acc': 0.7375},\n",
              "             0.7: {'p_acc': 0.623,\n",
              "              'biased_diff_tpr': 0.3771428571428571,\n",
              "              'debiased_diff_tpr': 0.24095238095238097,\n",
              "              'biased_acc': 0.8085,\n",
              "              'debiased_acc': 0.6645},\n",
              "             0.8: {'p_acc': 0.6331331331331331,\n",
              "              'biased_diff_tpr': 0.44906407035175877,\n",
              "              'debiased_diff_tpr': 0.15108668341708542,\n",
              "              'biased_acc': 0.8423423423423423,\n",
              "              'debiased_acc': 0.6721721721721722}})"
            ]
          },
          "metadata": {},
          "execution_count": 58
        }
      ]
    },
    {
      "cell_type": "code",
      "source": [
        "print('Ratio & Sentiment (Acc) & Sentiment + INLP (Acc) & Diff TPR & Diff TPR + INLP')\n",
        "for ratio, vals in results.items():\n",
        "    print('{} \\t {:.2f} & \\t {:.2f} & \\t\\t {:.2f} & \\t\\t {:.2f}'\n",
        "          .format(ratio, vals['biased_acc'], vals['debiased_acc'], vals['biased_diff_tpr'], vals['debiased_diff_tpr'], '.2f'))"
      ],
      "metadata": {
        "colab": {
          "base_uri": "https://localhost:8080/"
        },
        "id": "a2_cfVf5pCYV",
        "outputId": "631f3987-2c74-4f8d-d8ea-20f358f759f2"
      },
      "execution_count": 59,
      "outputs": [
        {
          "output_type": "stream",
          "name": "stdout",
          "text": [
            "Ratio & Sentiment (Acc) & Sentiment + INLP (Acc) & Diff TPR & Diff TPR + INLP\n",
            "0.5 \t 0.76 & \t 0.75 & \t\t 0.19 & \t\t 0.16\n",
            "0.6 \t 0.78 & \t 0.74 & \t\t 0.29 & \t\t 0.22\n",
            "0.7 \t 0.81 & \t 0.66 & \t\t 0.38 & \t\t 0.24\n",
            "0.8 \t 0.84 & \t 0.67 & \t\t 0.45 & \t\t 0.15\n"
          ]
        }
      ]
    },
    {
      "cell_type": "markdown",
      "source": [],
      "metadata": {
        "id": "ptC41Zk2rDV4"
      }
    },
    {
      "cell_type": "markdown",
      "source": [
        "##Bias Bios"
      ],
      "metadata": {
        "id": "WYrJNGetrPxs"
      }
    },
    {
      "cell_type": "code",
      "source": [
        "%cd /content/drive/MyDrive/MLsec_project/BiasMitigation/LM_bias"
      ],
      "metadata": {
        "colab": {
          "base_uri": "https://localhost:8080/"
        },
        "id": "NLm1TU6FrTL8",
        "outputId": "56d82ed7-1db6-4811-88a4-a3382c947a1e"
      },
      "execution_count": 60,
      "outputs": [
        {
          "output_type": "stream",
          "name": "stdout",
          "text": [
            "/content/drive/MyDrive/MLsec_project/BiasMitigation/LM_bias\n"
          ]
        }
      ]
    },
    {
      "cell_type": "code",
      "source": [
        "!pwd"
      ],
      "metadata": {
        "colab": {
          "base_uri": "https://localhost:8080/"
        },
        "id": "aF778AVpsJiW",
        "outputId": "a2959213-0d37-4600-9f50-ec85d783c617"
      },
      "execution_count": 61,
      "outputs": [
        {
          "output_type": "stream",
          "name": "stdout",
          "text": [
            "/content/drive/MyDrive/MLsec_project/BiasMitigation/LM_bias\n"
          ]
        }
      ]
    },
    {
      "cell_type": "code",
      "source": [
        "!git clone https://github.com/microsoft/biosbias.git"
      ],
      "metadata": {
        "colab": {
          "base_uri": "https://localhost:8080/"
        },
        "id": "AxpXPUKHr_Pw",
        "outputId": "a3efc56c-91e0-4aba-a1de-dc738051916e"
      },
      "execution_count": 62,
      "outputs": [
        {
          "output_type": "stream",
          "name": "stdout",
          "text": [
            "Cloning into 'biosbias'...\n",
            "remote: Enumerating objects: 24, done.\u001b[K\n",
            "remote: Total 24 (delta 0), reused 0 (delta 0), pack-reused 24\u001b[K\n",
            "Unpacking objects: 100% (24/24), done.\n"
          ]
        }
      ]
    },
    {
      "cell_type": "code",
      "source": [
        "!pip install warcio"
      ],
      "metadata": {
        "colab": {
          "base_uri": "https://localhost:8080/"
        },
        "id": "3d9QFL2XslOa",
        "outputId": "29d3b9ea-b11e-4cca-fc72-44c192e4c570"
      },
      "execution_count": 63,
      "outputs": [
        {
          "output_type": "stream",
          "name": "stdout",
          "text": [
            "Looking in indexes: https://pypi.org/simple, https://us-python.pkg.dev/colab-wheels/public/simple/\n",
            "Collecting warcio\n",
            "  Downloading warcio-1.7.4-py2.py3-none-any.whl (40 kB)\n",
            "\u001b[K     |████████████████████████████████| 40 kB 4.7 MB/s \n",
            "\u001b[?25hRequirement already satisfied: six in /usr/local/lib/python3.8/dist-packages (from warcio) (1.15.0)\n",
            "Installing collected packages: warcio\n",
            "Successfully installed warcio-1.7.4\n"
          ]
        }
      ]
    },
    {
      "cell_type": "code",
      "source": [
        "!pip install Pebble"
      ],
      "metadata": {
        "colab": {
          "base_uri": "https://localhost:8080/"
        },
        "id": "GFj9ubyusokE",
        "outputId": "65e64758-c432-40c5-f3b6-f1cc285cd06b"
      },
      "execution_count": 64,
      "outputs": [
        {
          "output_type": "stream",
          "name": "stdout",
          "text": [
            "Looking in indexes: https://pypi.org/simple, https://us-python.pkg.dev/colab-wheels/public/simple/\n",
            "Collecting Pebble\n",
            "  Downloading Pebble-5.0.3-py3-none-any.whl (30 kB)\n",
            "Installing collected packages: Pebble\n",
            "Successfully installed Pebble-5.0.3\n"
          ]
        }
      ]
    },
    {
      "cell_type": "code",
      "source": [
        "!ls"
      ],
      "metadata": {
        "colab": {
          "base_uri": "https://localhost:8080/"
        },
        "id": "1h-NI_jysyG7",
        "outputId": "c1bb0b89-582e-45ad-eb5b-20a70f4d37b2"
      },
      "execution_count": 66,
      "outputs": [
        {
          "output_type": "stream",
          "name": "stdout",
          "text": [
            "biosbias  images   nlg-bias\t\t README.md  src\n",
            "data\t  LICENSE  nullspace_projection  res\n"
          ]
        }
      ]
    },
    {
      "cell_type": "code",
      "source": [
        "%load_ext autoreload\n",
        "%autoreload 2\n",
        "import sys\n",
        "sys.path.append(\"../src\")\n",
        "sys.path.append(\"../data/embeddings\")\n",
        "sys.path.append(\"../data/biasbios\")\n",
        "sys.path.append(\"../data/embeddings/biasbios\")\n",
        "import classifier\n",
        "import debias\n",
        "import gensim\n",
        "import codecs\n",
        "import json\n",
        "from gensim.models.keyedvectors import Word2VecKeyedVectors\n",
        "from gensim.models import KeyedVectors\n",
        "import numpy as np\n",
        "import random\n",
        "import sklearn\n",
        "from sklearn import model_selection\n",
        "from sklearn import cluster\n",
        "from sklearn import metrics\n",
        "from sklearn.manifold import TSNE\n",
        "from sklearn.svm import LinearSVC, SVC\n",
        "from sklearn.neural_network import MLPClassifier\n",
        "from sklearn.metrics.pairwise import cosine_similarity\n",
        "from sklearn.feature_extraction import DictVectorizer\n",
        "from pytorch_transformers import BertTokenizer, BertModel, BertForMaskedLM\n",
        "\n",
        "import scipy\n",
        "from scipy import linalg\n",
        "from scipy import sparse\n",
        "from scipy.stats.stats import pearsonr\n",
        "import tqdm\n",
        "import matplotlib\n",
        "import matplotlib.pyplot as plt\n",
        "from sklearn.linear_model import SGDClassifier, SGDRegressor, Perceptron, LogisticRegression\n",
        "\n",
        "%matplotlib inline\n",
        "matplotlib.rcParams['agg.path.chunksize'] = 10000\n",
        "\n",
        "import warnings\n",
        "warnings.filterwarnings(\"ignore\")\n",
        "\n",
        "import pickle\n",
        "from collections import defaultdict, Counter\n",
        "from typing import List, Dict\n",
        "\n",
        "import torch\n",
        "from torch import utils\n",
        "\n",
        "import pytorch_lightning as pl\n",
        "from pytorch_lightning import Trainer\n",
        "import copy\n",
        "import pandas as pd\n",
        "from gensim.models import FastText\n",
        "import time\n",
        "from gensim.scripts.glove2word2vec import glove2word2vec\n",
        "\n",
        "STOPWORDS = set([\"i\", \"me\", \"my\", \"myself\", \"we\", \"our\", \"ours\", \"ourselves\", \"you\", \"your\", \"yours\", \"yourself\", \"yourselves\", \"he\", \"him\", \"his\", \"himself\", \"she\", \"her\", \"hers\", \"herself\", \"it\", \"its\", \"itself\", \"they\", \"them\", \"their\", \"theirs\", \"themselves\", \"what\", \"which\", \"who\", \"whom\", \"this\", \"that\", \"these\", \"those\", \"am\", \"is\", \"are\", \"was\", \"were\", \"be\", \"been\", \"being\", \"have\", \"has\", \"had\", \"having\", \"do\", \"does\", \"did\", \"doing\", \"a\", \"an\", \"the\", \"and\", \"but\", \"if\", \"or\", \"because\", \"as\", \"until\", \"while\", \"of\", \"at\", \"by\", \"for\", \"with\", \"about\", \"against\", \"between\", \"into\", \"through\", \"during\", \"before\", \"after\", \"above\", \"below\", \"to\", \"from\", \"up\", \"down\", \"in\", \"out\", \"on\", \"off\", \"over\", \"under\", \"again\", \"further\", \"then\", \"once\", \"here\", \"there\", \"when\", \"where\", \"why\", \"how\", \"all\", \"any\", \"both\", \"each\", \"few\", \"more\", \"most\", \"other\", \"some\", \"such\", \"no\", \"nor\", \"not\", \"only\", \"own\", \"same\", \"so\", \"than\", \"too\", \"very\", \"s\", \"t\", \"can\", \"will\", \"just\", \"don\", \"should\", \"now\"])\n",
        "\n"
      ],
      "metadata": {
        "id": "vkYsMsnfw4wU"
      },
      "execution_count": null,
      "outputs": []
    },
    {
      "cell_type": "code",
      "source": [
        "def load_dataset(path):\n",
        "    \n",
        "    with open(path, \"rb\") as f:\n",
        "        \n",
        "        data = pickle.load(f)\n",
        "    return data\n",
        "\n",
        "def load_dictionary(path):\n",
        "    \n",
        "    with open(path, \"r\", encoding = \"utf-8\") as f:\n",
        "        \n",
        "        lines = f.readlines()\n",
        "        \n",
        "    k2v, v2k = {}, {}\n",
        "    for line in lines:\n",
        "        \n",
        "        k,v = line.strip().split(\"\\t\")\n",
        "        v = int(v)\n",
        "        k2v[k] = v\n",
        "        v2k[v] = k\n",
        "    \n",
        "    return k2v, v2k\n",
        "    \n",
        "def count_profs_and_gender(data: List[dict]):\n",
        "    \n",
        "    counter = defaultdict(Counter)\n",
        "    for entry in data:\n",
        "        gender, prof = entry[\"g\"], entry[\"p\"]\n",
        "        counter[prof][gender] += 1\n",
        "        \n",
        "    return counter\n",
        "\n"
      ],
      "metadata": {
        "id": "cp4wtAlMw5vb"
      },
      "execution_count": null,
      "outputs": []
    },
    {
      "cell_type": "code",
      "source": [
        "train = load_dataset(\"../data/biasbios/train.pickle\")\n",
        "dev = load_dataset(\"../data/biasbios/dev.pickle\")\n",
        "test = load_dataset(\"../data/biasbios/test.pickle\")\n",
        "counter = count_profs_and_gender(train+dev+test)\n",
        "p2i, i2p = load_dictionary(\"../data/biasbios/profession2index.txt\")\n",
        "g2i, i2g = load_dictionary(\"../data/biasbios/gender2index.txt\")\n",
        "\n",
        "path = \"../data/biasbios/\"\n",
        "x_train = np.load(path + \"train_cls.npy\")\n",
        "x_dev = np.load(path + \"dev_cls.npy\")\n",
        "x_test = np.load(path + \"test_cls.npy\")\n",
        "\n",
        "assert len(train) == len(x_train)\n",
        "assert len(dev) == len(x_dev)\n",
        "assert len(test) == len(x_test)\n",
        "\n",
        "f,m = 0., 0.\n",
        "prof2fem = dict()\n",
        "\n",
        "for k, values in counter.items():\n",
        "    f += values['f']\n",
        "    m += values['m']\n",
        "    prof2fem[k] = values['f']/(values['f'] + values['m'])\n",
        "\n",
        "print(f / (f + m))\n",
        "print(prof2fem)\n",
        "\n"
      ],
      "metadata": {
        "id": "VC-VGeJtw9NB"
      },
      "execution_count": null,
      "outputs": []
    },
    {
      "cell_type": "code",
      "source": [
        "y_train = np.array([p2i[entry[\"p\"]] for entry in train])\n",
        "y_dev = np.array([p2i[entry[\"p\"]] for entry in dev])\n",
        "y_test = np.array([p2i[entry[\"p\"]] for entry in test])\n"
      ],
      "metadata": {
        "id": "Vb4UHhtJw_kl"
      },
      "execution_count": null,
      "outputs": []
    },
    {
      "cell_type": "code",
      "source": [
        "train[1]"
      ],
      "metadata": {
        "id": "TsP8whnzxB7o"
      },
      "execution_count": null,
      "outputs": []
    },
    {
      "cell_type": "code",
      "source": [
        "train[1]={'g': 'f',\n",
        " 'p': 'chiropractor',\n",
        " 'text': \"Dr. David A Schultz is a male Chiropractor (taxonomy code 111N00000X) located in Lucedale, Mississippi. Dr. David A Schultz's NPI Number is #1417984022 and has been listed in the NPI registry for 10 years. Dr. David A Schultz's practice location is listed as: 789 Winter St. Lucedale, MS 39452 and can be reached via phone at (601) 947-8472.\",\n",
        " 'start': 103,\n",
        " 'hard_text': \"Dr. David A Schultz's NPI Number is #1417984022 and has been listed in the NPI registry for 10 years. Dr. David A Schultz's practice location is listed as: 789 Winter St. Lucedale, MS 39452 and can be reached via phone at (601) 947-8472.\",\n",
        " 'text_without_gender': \"Dr. _ _ _'s NPI Number is #1417984022 and has been listed in the NPI registry for 10 years. Dr. _ _ _'s practice location is listed as: 789 Winter St. Lucedale, _ 39452 and can be reached via phone at (601) 947-8472.\",\n",
        " 'hard_text_tokenized': \"Dr. David A Schultz 's NPI Number is # 1417984022 and has been listed in the NPI registry for 10 years . Dr. David A Schultz 's practice location is listed as : 789 Winter St. Lucedale , MS 39452 and can be reached via phone at ( 601 ) 947 - 8472 .\"}"
      ],
      "metadata": {
        "id": "FDhbc6j9xOI8"
      },
      "execution_count": null,
      "outputs": []
    },
    {
      "cell_type": "code",
      "source": [
        "random.seed(0)\n",
        "np.random.seed(0)\n",
        "\n",
        "clf = LogisticRegression(warm_start = True, penalty = 'l2',\n",
        "                         solver = \"saga\", multi_class = 'multinomial', fit_intercept = False,\n",
        "                         verbose = 5, n_jobs = 90, random_state = 1, max_iter = 7)\n",
        "\n",
        "#params = {'}\n",
        "#clf = SGDClassifier(loss= 'hinge', max_iter = 4000, fit_intercept= True, class_weight= None, n_jobs= 100)\n",
        "        \n",
        "        \n",
        "start = time.time()\n",
        "idx = np.random.rand(x_train.shape[0]) < 1.0\n",
        "clf.fit(x_train[idx], y_train[idx])\n",
        "print(\"time: {}\".format(time.time() - start))\n",
        "print(clf.score(x_test, y_test))\n",
        "clf_original = copy.deepcopy(clf)\n"
      ],
      "metadata": {
        "id": "fVZ7E5EgxPiK"
      },
      "execution_count": null,
      "outputs": []
    },
    {
      "cell_type": "code",
      "source": [
        "print(clf.score(x_train, y_train))"
      ],
      "metadata": {
        "id": "g52g7x5UxScZ"
      },
      "execution_count": null,
      "outputs": []
    },
    {
      "cell_type": "markdown",
      "source": [
        "###INLP"
      ],
      "metadata": {
        "id": "mc8wW7qxxVqb"
      }
    },
    {
      "cell_type": "code",
      "source": [
        "MLP = False\n",
        "\n",
        "def get_projection_matrix(num_clfs, X_train, Y_train_gender, X_dev, Y_dev_gender, Y_train_task, Y_dev_task, dim):\n",
        "\n",
        "    is_autoregressive = True\n",
        "    min_acc = 0.\n",
        "    #noise = False\n",
        "    dim = 768\n",
        "    n = num_clfs\n",
        "    #random_subset = 1.0\n",
        "    start = time.time()\n",
        "    TYPE= \"svm\"\n",
        "    \n",
        "    \n",
        "    if MLP:\n",
        "        x_train_gender = np.matmul(x_train, clf.coefs_[0]) + clf.intercepts_[0]\n",
        "        x_dev_gender = np.matmul(x_dev, clf.coefs_[0]) + clf.intercepts_[0]\n",
        "    else:\n",
        "        x_train_gender = x_train.copy()\n",
        "        x_dev_gender = x_dev.copy()\n",
        "        \n",
        "    \n",
        "    if TYPE == \"sgd\":\n",
        "        gender_clf = SGDClassifier\n",
        "        params = {'loss': 'hinge', 'penalty': 'l2', 'fit_intercept': False, 'class_weight': None, 'n_jobs': 32}\n",
        "    else:\n",
        "        gender_clf = LinearSVC\n",
        "        params = {'penalty': 'l2', 'C': 0.01, 'fit_intercept': True, 'class_weight': None, \"dual\": False}\n",
        "        \n",
        "    P,rowspace_projections, Ws = debias.get_debiasing_projection(gender_clf, params, n, dim, is_autoregressive, min_acc,\n",
        "                                              X_train, Y_train_gender, X_dev, Y_dev_gender,\n",
        "                                       Y_train_main=Y_train_task, Y_dev_main=Y_dev_task, by_class = True)\n",
        "    print(\"time: {}\".format(time.time() - start))\n",
        "    return P,rowspace_projections, Ws\n",
        "\n",
        "\n",
        "\n",
        "num_clfs = 300\n",
        "y_dev_gender = np.array([g2i[d[\"g\"]] for d in dev])\n",
        "y_train_gender = np.array([g2i[d[\"g\"]] for d in train])\n",
        "idx = np.random.rand(x_train.shape[0]) < 1.\n",
        "P,rowspace_projections, Ws = get_projection_matrix(num_clfs, x_train[idx], y_train_gender[idx], x_dev, y_dev_gender, y_train, y_dev, 300)\n"
      ],
      "metadata": {
        "id": "wjgto9OBxW-w"
      },
      "execution_count": null,
      "outputs": []
    },
    {
      "cell_type": "code",
      "source": [
        "def get_TPR(y_pred, y_true, p2i, i2p, gender):\n",
        "    \n",
        "    scores = defaultdict(Counter)\n",
        "    prof_count_total = defaultdict(Counter)\n",
        "    \n",
        "    for y_hat, y, g in zip(y_pred, y_true, gender):\n",
        "        \n",
        "        if y == y_hat:\n",
        "            \n",
        "            scores[i2p[y]][g] += 1\n",
        "        \n",
        "        prof_count_total[i2p[y]][g] += 1\n",
        "    \n",
        "    tprs = defaultdict(dict)\n",
        "    tprs_change = dict()\n",
        "    tprs_ratio = []\n",
        "    \n",
        "    for profession, scores_dict in scores.items():\n",
        "        \n",
        "        good_m, good_f = scores_dict[\"m\"], scores_dict[\"f\"]\n",
        "        prof_total_f = prof_count_total[profession][\"f\"]\n",
        "        prof_total_m = prof_count_total[profession][\"m\"]\n",
        "        tpr_m = (good_m) / prof_total_m\n",
        "        tpr_f = (good_f) / prof_total_f\n",
        "        \n",
        "        tprs[profession][\"m\"] = tpr_m\n",
        "        tprs[profession][\"f\"] = tpr_f\n",
        "        tprs_ratio.append(0)\n",
        "        tprs_change[profession] = tpr_f - tpr_m\n",
        "        \n",
        "    return tprs, tprs_change, np.mean(np.abs(tprs_ratio))\n",
        "\n",
        "def get_FPR2(y_pred, y_true, p2i, i2p, y_gender):\n",
        "    \n",
        "    fp = defaultdict(Counter)\n",
        "    neg_count_total = defaultdict(Counter)\n",
        "    pos_count_total = defaultdict(Counter)    \n",
        "\n",
        "\n",
        "    label_set = set(y_true)\n",
        "    # count false positive per gender & class\n",
        "    \n",
        "    for y_hat, y, g in zip(y_pred, y_true, y_gender):\n",
        "        \n",
        "        if y != y_hat:\n",
        "            \n",
        "            fp[y_hat][g] += 1 # count false positives for y_hat\n",
        "    \n",
        "    # count total falses per gender (conditioned on class)\n",
        "    \n",
        "    total_prof_g = defaultdict(Counter)\n",
        "    \n",
        "    # collect POSITIVES for each profession and gender\n",
        "    \n",
        "    for y,g in zip(y_true, y_gender):\n",
        "        total_prof_g[y][g] += 1\n",
        "    \n",
        "    total_m = sum([total_prof_g[y][\"m\"] for y in label_set])\n",
        "    total_f = sum([total_prof_g[y][\"f\"] for y in label_set])\n",
        "    \n",
        "    # calculate NEGATIVES for each profession and gender\n",
        "    \n",
        "    total_false_prof_g = defaultdict(Counter)    \n",
        "    for y in label_set:\n",
        "        total_false_prof_g[y][\"m\"] = total_m - total_prof_g[y][\"m\"]\n",
        "        total_false_prof_g[y][\"f\"] = total_f - total_prof_g[y][\"f\"]\n",
        "    \n",
        "    fprs = defaultdict(dict)\n",
        "    fprs_diff = dict()\n",
        "    \n",
        "    for profession, false_pred_dict in fp.items():\n",
        "\n",
        "        false_male, false_female = false_pred_dict[\"m\"],  false_pred_dict[\"f\"]\n",
        "        prof_total_false_for_male = total_false_prof_g[profession][\"m\"]\n",
        "        prof_total_false_for_female = total_false_prof_g[profession][\"f\"]\n",
        "        \n",
        "        ftr_m = false_male/prof_total_false_for_male\n",
        "        ftr_f = false_female/prof_total_false_for_female\n",
        "        fprs[i2p[profession]][\"m\"] = ftr_m\n",
        "        fprs[i2p[profession]][\"f\"] = ftr_f\n",
        "        fprs_diff[i2p[profession]] = ftr_m - ftr_f\n",
        "    \n",
        "    return fprs, fprs_diff\n",
        "        \n",
        "\n",
        "    \n",
        "def similarity_vs_tpr(tprs, word2vec, title, measure, prof2fem):\n",
        "    \n",
        "    professions = list(tprs.keys())\n",
        "    #\n",
        "    \"\"\" \n",
        "    sims = dict()\n",
        "    gender_direction = word2vec[\"he\"] - word2vec[\"she\"]\n",
        "    \n",
        "    for p in professions:\n",
        "        sim = word2vec.cosine_similarities(word2vec[p], [gender_direction])[0]\n",
        "        sims[p] = sim\n",
        "    \"\"\"\n",
        "    tpr_lst = [tprs[p] for p in professions]\n",
        "    sim_lst = [prof2fem[p] for p in professions]\n",
        "\n",
        "    #professions = [p.replace(\"_\", \" \") for p in professions if p in word2vec]\n",
        "    \n",
        "    plt.plot(sim_lst, tpr_lst, marker = \"o\", linestyle = \"none\")\n",
        "    plt.xlabel(\"% women\", fontsize = 13)\n",
        "    plt.ylabel(r'$GAP_{female,y}^{TPR}$', fontsize = 13)\n",
        "    for p in professions:\n",
        "        x,y = prof2fem[p], tprs[p]\n",
        "        plt.annotate(p , (x,y), size = 7, color = \"red\")\n",
        "    plt.ylim(-0.4, 0.55)\n",
        "    z = np.polyfit(sim_lst, tpr_lst, 1)\n",
        "    p = np.poly1d(z)\n",
        "    plt.plot(sim_lst,p(sim_lst),\"r--\")\n",
        "    plt.savefig(\"{}_vs_bias_{}_bert\".format(measure, title), dpi = 600)\n",
        "    print(\"Correlation: {}; p-value: {}\".format(*pearsonr(sim_lst, tpr_lst)))\n",
        "    plt.show()\n",
        "\n",
        "def rms_diff(tpr_diff):\n",
        "    \n",
        "    return np.sqrt(np.mean(tpr_diff**2))\n",
        "    \n",
        "def save_vecs_and_words(vecs, words):\n",
        "    def to_string(arr):\n",
        "        return \"\\t\".join([str(x) for x in arr])\n",
        "    \n",
        "    with open(\"vecs.txt\", \"w\") as f:\n",
        "        for v in vecs:\n",
        "            assert len(v) == 300\n",
        "            f.write(to_string(v) + \"\\n\")\n",
        "    \n",
        "    with open(\"labels.txt\", \"w\") as f:\n",
        "            f.write(\"Profession\\n\")\n",
        "            for w in words:\n",
        "                f.write(w + \"\\n\")"
      ],
      "metadata": {
        "id": "Ght6-ns2xewJ"
      },
      "execution_count": null,
      "outputs": []
    },
    {
      "cell_type": "markdown",
      "source": [
        "###Finetune"
      ],
      "metadata": {
        "id": "WqIN4Xp3xfp9"
      }
    },
    {
      "cell_type": "code",
      "source": [
        "clf = LogisticRegression(warm_start = True, penalty = 'l2',\n",
        "                         solver = \"sag\", multi_class = 'multinomial', fit_intercept = True,\n",
        "                         verbose = 10, max_iter = 3, n_jobs = 64, random_state = 1)\n",
        "#clf = SGDClassifier()\n",
        "P_rowspace = np.eye(768) - P\n",
        "mean_gender_vec = np.mean(P_rowspace.dot(x_train.T).T, axis = 0)\n",
        "# 2\n",
        "print(clf.fit((P.dot(x_train.T)).T, y_train))\n",
        "#print(clf.fit((x_train.T).T + mean_gender_vec, y_train))\n"
      ],
      "metadata": {
        "id": "V4EUQ9AuxiLJ"
      },
      "execution_count": null,
      "outputs": []
    },
    {
      "cell_type": "code",
      "source": [
        "print(clf.score((P.dot(x_test.T)).T, y_test))\n",
        "#print(clf.score(x_test.dot(P), y_test))\n",
        "#print(clf_original.score(x_test, y_test))\n"
      ],
      "metadata": {
        "id": "jc5jIs8ixnqc"
      },
      "execution_count": null,
      "outputs": []
    },
    {
      "cell_type": "markdown",
      "source": [
        "###TPR Gap"
      ],
      "metadata": {
        "id": "LhWonSl5xv_T"
      }
    },
    {
      "cell_type": "code",
      "source": [
        "y_pred_before = clf_original.predict(x_test)\n",
        "test_gender = [d[\"g\"] for d in test]\n",
        "tprs_before, tprs_change_before, mean_ratio_before = get_TPR(y_pred_before, y_test, p2i, i2p, test_gender)\n",
        "similarity_vs_tpr(tprs_change_before, None, \"before\", \"TPR\", prof2fem)\n",
        "\n",
        "\n",
        "y_pred_after = clf.predict((P.dot(x_test.T)).T)\n",
        "#y_pred_after = clf.predict(X_test)\n",
        "tprs, tprs_change_after, mean_ratio_after = get_TPR(y_pred_after, y_test, p2i, i2p, test_gender)\n",
        "similarity_vs_tpr(tprs_change_after, None, \"after\", \"TPR\", prof2fem)\n",
        "\n",
        " \n",
        "\"\"\" \n",
        "#print(\"TPR diff ratio before: {}; after: {}\".format(mean_ratio_before, mean_ratio_after))\n",
        " \n",
        "fprs_before, fprs_change_before = get_FPR2(y_pred_before, y_dev, p2i, i2p, test_gender)\n",
        "similarity_vs_tpr(fprs_change_before, None, \"before\", \"FPR\", prof2fem)\n",
        "\n",
        "\n",
        "fprs, fprs_change_after = get_FPR2(y_pred_after, y_dev, p2i, i2p, test_gender)\n",
        "similarity_vs_tpr(fprs_change_after, None, \"after\", \"FPR\", prof2fem)\n",
        "\n",
        "#print(\"TPR diff ratio before: {}; after: {}\".format(mean_ratio_before, mean_ratio_after))\n",
        "\"\"\"\n",
        "change_vals_before = np.array(list((tprs_change_before.values())))\n",
        "change_vals_after = np.array(list(tprs_change_after.values()))\n",
        "\n",
        "print(\"rms-diff before: {}; rms-diff after: {}\".format(rms_diff(change_vals_before), rms_diff(change_vals_after)))\n"
      ],
      "metadata": {
        "id": "sl0DyvjXxxkA"
      },
      "execution_count": null,
      "outputs": []
    },
    {
      "cell_type": "markdown",
      "source": [
        "###T-SNE by Gender"
      ],
      "metadata": {
        "id": "UkwomuvEx4vr"
      }
    },
    {
      "cell_type": "code",
      "source": [
        "def tsne_by_gender(vecs, labels, title, words = None):\n",
        "\n",
        "  tsne = TSNE(n_components=2, random_state=0)\n",
        "  vecs_2d = tsne.fit_transform(vecs)\n",
        "  num_labels = len(set(labels.tolist()))\n",
        "\n",
        "  names = list(set(labels)) # [\"class {}\".format(i) for i in range(num_labels)]\n",
        "  plt.figure(figsize=(6, 5))\n",
        "  colors = 'b', 'r', 'orange'\n",
        "  markers = [\"o\", \"s\"]\n",
        "\n",
        "  for i, c, label, marker in zip(set(labels.tolist()), colors, names, markers):\n",
        "    print(len(vecs_2d[labels == i, 0]))\n",
        "    plt.scatter(vecs_2d[labels == i, 0], vecs_2d[labels == i, 1], c=c,\n",
        "                label=\"Female\" if label == 1 else \"Male\", alpha = 0.45, marker = marker)\n",
        "  plt.legend(fontsize = 15, loc = \"upper right\")\n",
        "  plt.title(title, fontsize = 15)\n",
        "  \n",
        "  if words is not None:\n",
        "        k = 60\n",
        "        for i in range(k):\n",
        "            \n",
        "            j = np.random.choice(range(len(words)))\n",
        "            label = labels[i]\n",
        "            w = words[j]\n",
        "            x,y = vecs_2d[i]\n",
        "            plt.annotate(w , (x,y), size = 10, color = \"black\" if label == 1 else \"black\")\n",
        "  plt.savefig(title, dpi = 600)          \n",
        "  plt.show()\n",
        "  return vecs_2d\n",
        "\n",
        "\n",
        "     "
      ],
      "metadata": {
        "id": "OH0WTQkNx7WU"
      },
      "execution_count": null,
      "outputs": []
    },
    {
      "cell_type": "code",
      "source": [
        "y_test_gender = np.array([d[\"g\"] for d in dev])\n",
        "n = 2000\n",
        "for prof in [\"nurse\", \"professor\", \"physician\", \"accountant\", \"dj\", \"dietitian\"]:\n",
        "    \n",
        "    idx = np.random.rand(x_test.shape[0]) < 0.1\n",
        "    prof_idx = y_dev == p2i[prof]  \n",
        "    prof_upper = prof[0].upper() + prof[1:]\n",
        "    tsne_by_gender(x_dev[prof_idx][:n], y_dev_gender[prof_idx][:n], \"{} (Original)\".format(prof_upper))\n",
        "    tsne_by_gender((x_dev[prof_idx].dot(P))[:n], y_dev_gender[prof_idx][:n], \"{} (Projected)\".format(prof_upper))\n",
        "\n",
        "\n",
        "     "
      ],
      "metadata": {
        "id": "SrH5cEWXx_LM"
      },
      "execution_count": null,
      "outputs": []
    }
  ]
}